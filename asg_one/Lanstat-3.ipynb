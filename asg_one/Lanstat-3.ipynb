{
 "cells": [
  {
   "cell_type": "markdown",
   "metadata": {
    "colab_type": "text",
    "id": "Ljuu2gub1ZMF"
   },
   "source": [
    "*Frederik Chettouh, NIA: 100419069*\n",
    "\n",
    "*Ainara Apezteguia García, NIA: 100418610*  \n"
   ]
  },
  {
   "cell_type": "code",
   "execution_count": 1,
   "metadata": {
    "colab": {
     "base_uri": "https://localhost:8080/",
     "height": 69
    },
    "colab_type": "code",
    "id": "BT6CrcLr1Gl4",
    "outputId": "d5088f84-2881-40ef-a1bf-ca0b63d08f9e"
   },
   "outputs": [
    {
     "name": "stderr",
     "output_type": "stream",
     "text": [
      "/usr/local/lib/python3.6/dist-packages/statsmodels/tools/_testing.py:19: FutureWarning: pandas.util.testing is deprecated. Use the functions in the public API at pandas.testing instead.\n",
      "  import pandas.util.testing as tm\n"
     ]
    }
   ],
   "source": [
    "from sklearn import svm, preprocessing\n",
    "import numpy as np\n",
    "import matplotlib.pyplot as plt\n",
    "from sklearn.model_selection import train_test_split, GridSearchCV\n",
    "from sklearn import preprocessing\n",
    "import pandas as pd\n",
    "import time\n",
    "import seaborn as sns"
   ]
  },
  {
   "cell_type": "markdown",
   "metadata": {
    "colab_type": "text",
    "id": "gupr5e1f1Gl9"
   },
   "source": [
    "# Data set description\n",
    "\n",
    "- [Landsat data set](https://archive.ics.uci.edu/ml/datasets/Statlog+(Landsat+Satellite)) is another classic data set in the ML community.\n",
    "\n",
    "- Patches of land of $3\\times 3$ pixels. The data combines four different spectral bands. Two of these are in the visible region (corresponding approximately to green and red regions of the visible spectrum) and two are in the (near) infra-red. Each pixel is a 8-bit binary word, with 0 corresponding to black and 255 to white. The spatial resolution of a pixel is about $80m\\times 80m$. Therefore, observations carry 36 components, one per each pixel in the patch and spectral band. The ordering of these components is the follwing\n",
    "\n",
    " - $x_0$: pixel (1,1), band 1 \n",
    " - $x_1$: pixel (1,1), band 2 \n",
    " - $x_2$: pixel (1,1), band 3 \n",
    " - $x_3$: pixel (1,1), band 4 \n",
    " - $x_4$: pixel (1,2), band 1\n",
    " - $x_5$: pixel (1,2), band 2\n",
    " - $x_6$: pixel (1,2), band 3\n",
    " - $x_7$: pixel (1,2), band 4\n",
    " - $x_8$: pixel (1,3), band 1\n",
    " - $x_{9}$:pixel (1,3), band 2\n",
    " - $x_{10}$:pixel (1,3), band 3\n",
    " - $x_{11}$:pixel (1,3), band 4\n",
    " - $x_{12}$:pixel (2,1), band 1\n",
    " - $x_{13}$:pixel (2,1), band 2\n",
    " - $x_{14}$:pixel (2,1), band 3\n",
    " - $x_{15}$:pixel (2,1), band 4\n",
    " - $x_{16}$:pixel (2,2), band 1\n",
    " - $x_{17}$:pixel (2,2), band 2\n",
    " - $x_{18}$:pixel (2,2), band 3\n",
    " - $x_{19}$:pixel (2,2), band 4\n",
    " - $x_{20}$:pixel (2,3), band 1\n",
    " - $x_{21}$:pixel (2,3), band 2\n",
    " - $x_{22}$:pixel (2,3), band 3\n",
    " - $x_{23}$:pixel (2,3), band 4\n",
    " - $x_{24}$:pixel (3,1), band 1\n",
    " - $x_{25}$:pixel (3,1), band 2\n",
    " - $x_{26}$:pixel (3,1), band 3\n",
    " - $x_{27}$:pixel (3,1), band 4\n",
    " - $x_{28}$:pixel (3,2), band 1\n",
    " - $x_{29}$:pixel (3,2), band 2\n",
    " - $x_{30}$:pixel (3,2), band 3\n",
    " - $x_{31}$:pixel (3,2), band 4\n",
    " - $x_{32}$:pixel (3,3), band 1\n",
    " - $x_{33}$:pixel (3,3), band 2\n",
    " - $x_{34}$:pixel (3,3), band 3\n",
    " - $x_{35}$:pixel (3,3), band 4\n",
    " \n",
    "- There are 6 output classes:\n",
    " - 1: red soil\n",
    " - 2: cotton crop\n",
    " - 3: grey soil\n",
    " - 4: damp grey soil\n",
    " - 5: soil with vegetation stubble\n",
    " - 7: very damp grey soil\n",
    " \n",
    "- The correct class for every observation is the output class of pixel (2,2) (the pixel in the center of the patch)\n",
    "\n",
    "## structure of files \"sat_trn.csv\" and \"sat_tst.csv\"\n",
    "\n",
    "- Each observation is a line of the file\n",
    "- First 36 numbers are the observation. Last number in the row is the target (class of the central pixel).\n"
   ]
  },
  {
   "cell_type": "markdown",
   "metadata": {
    "colab_type": "text",
    "id": "u-Z19AWM1Gl-"
   },
   "source": [
    "# Data preparation"
   ]
  },
  {
   "cell_type": "markdown",
   "metadata": {
    "colab_type": "text",
    "id": "lgeB1Jm01Gl-"
   },
   "source": [
    "Load data with function np.loadtxt. Separate data in 4 arrays:\n",
    "- Dtrain: Training set observations. 36 columns, number of rows of \"sat_trn.csv\"\n",
    "- ytrain: Training set targets. Array with the last numbers of \"sat_trn.csv\" rows.\n",
    "- Dtest: Test set observations. 36 columns, number of rows of \"sat_tst.csv\"\n",
    "- ytest: Test set targets. Array with the last numbers of \"sat_trn.csv\" rows."
   ]
  },
  {
   "cell_type": "code",
   "execution_count": 2,
   "metadata": {
    "colab": {
     "base_uri": "https://localhost:8080/",
     "height": 49
    },
    "colab_type": "code",
    "id": "soGX8ODHBE8D",
    "outputId": "982e77e9-73e0-4d51-ef07-4ef7ac723112"
   },
   "outputs": [
    {
     "name": "stdout",
     "output_type": "stream",
     "text": [
      "Drive already mounted at /content/drive/; to attempt to forcibly remount, call drive.mount(\"/content/drive/\", force_remount=True).\n",
      "empty_homework_lansat.ipynb  sat_trn.csv  sat_tst.csv\n"
     ]
    }
   ],
   "source": [
    "from google.colab import drive\n",
    "\n",
    "drive.mount(\"/content/drive/\")\n",
    "\n",
    "path='drive/My Drive/ML_SVMHW/Notebook and data for SVM homework-20200324/'\n",
    "!ls 'drive/My Drive/ML_SVMHW/Notebook and data for SVM homework-20200324/'"
   ]
  },
  {
   "cell_type": "code",
   "execution_count": 3,
   "metadata": {
    "colab": {
     "base_uri": "https://localhost:8080/",
     "height": 115
    },
    "colab_type": "code",
    "id": "5Ndrz6gd6sTW",
    "outputId": "6571fb13-23aa-4d37-a555-efa2326898bd"
   },
   "outputs": [
    {
     "name": "stdout",
     "output_type": "stream",
     "text": [
      "Shape of training data set: 4435 instances with 37 columns \n",
      "Shape of test data set: 2000 instances with 37 colums \n",
      "Shape of Dtrain: 4435 instances with 36 observations \n",
      "Shape of ytrain: 4435 instances with training set targets \n",
      "Shape of Dtest: 2000 instances with 36 observations \n",
      "Shape of ytest: 2000 instances with test set targets \n"
     ]
    }
   ],
   "source": [
    "\"\"\"\n",
    "YOUR CODE HERE\n",
    "\"\"\"\n",
    "train_data = np.loadtxt(path+\"sat_trn.csv\",delimiter=\",\")\n",
    "test_data = np.loadtxt( path+\"sat_tst.csv\",delimiter=\",\")\n",
    "print('Shape of training data set: {0:d} instances with {1:d} columns '.format(train_data.shape[0],train_data.shape[1]))\n",
    "print('Shape of test data set: {0:d} instances with {1:d} colums '.format(test_data.shape[0],test_data.shape[1]))\n",
    "\n",
    "Dtrain = train_data[:,0:36]\n",
    "ytrain = train_data[:,36]\n",
    "print('Shape of Dtrain: {0:d} instances with {1:d} observations '.format(Dtrain.shape[0],Dtrain.shape[1]))\n",
    "print('Shape of ytrain: {0:d} instances with training set targets '.format(ytrain.size))\n",
    "\n",
    "Dtest = test_data[:,0:36]\n",
    "ytest = test_data[:,36]\n",
    "print('Shape of Dtest: {0:d} instances with {1:d} observations '.format(Dtest.shape[0],Dtest.shape[1]))\n",
    "print('Shape of ytest: {0:d} instances with test set targets '.format(ytest.size))\n"
   ]
  },
  {
   "cell_type": "markdown",
   "metadata": {
    "colab_type": "text",
    "id": "78SW2S671GmL"
   },
   "source": [
    "# Data with spectral information of the target pixel\n",
    "\n",
    "The first approach to solve the problem is to look at the spectral information of the central pixel (pixel (2,2)), that is the one we want to classify.\n",
    "\n",
    "Construct two numpy arrays Xtrain and Xtest with the spectral bands of the target pixel (that is, with the columns of Dtrain and Dtest that contain the spectral information of the pixel we actually want to classify)"
   ]
  },
  {
   "cell_type": "code",
   "execution_count": 0,
   "metadata": {
    "colab": {},
    "colab_type": "code",
    "id": "-UUQcetO1GmO"
   },
   "outputs": [],
   "source": [
    "\"\"\"\n",
    "YOUR CODE HERE\n",
    "\"\"\"\n",
    "Xtrain = Dtrain[:,16:20]\n",
    "Xtest = Dtest[:,16:20]"
   ]
  },
  {
   "cell_type": "code",
   "execution_count": 5,
   "metadata": {
    "colab": {
     "base_uri": "https://localhost:8080/",
     "height": 49
    },
    "colab_type": "code",
    "id": "bmHjzT4l1wgS",
    "outputId": "0aeb7e92-947e-4c64-f226-492032fa39eb"
   },
   "outputs": [
    {
     "name": "stdout",
     "output_type": "stream",
     "text": [
      "Shape of training set data: 4435 instances in 4 dimensions\n",
      "Shape of test set data: 2000 instances in 4 dimensions\n"
     ]
    }
   ],
   "source": [
    "print(\"Shape of training set data: {0:d} instances in {1:d} dimensions\".format(Xtrain.shape[0], Xtrain.shape[1]))\n",
    "print(\"Shape of test set data: {0:d} instances in {1:d} dimensions\".format(Xtest.shape[0], Xtest.shape[1]))\n"
   ]
  },
  {
   "cell_type": "markdown",
   "metadata": {
    "colab_type": "text",
    "id": "qHycV2201GmQ"
   },
   "source": [
    "## Normalization\n",
    "\n",
    "Compute the mean (mean_Xtrain) and standard deviation (std_Xtrain) of the columns of Xtrain. "
   ]
  },
  {
   "cell_type": "code",
   "execution_count": 0,
   "metadata": {
    "colab": {},
    "colab_type": "code",
    "id": "qStYFnEv1GmU"
   },
   "outputs": [],
   "source": [
    "\"\"\"\n",
    "YOUR CODE HERE\n",
    "\"\"\"\n",
    "mean_Xtrain = np.mean(Xtrain,axis=0)\n",
    "std_Xtrain = np.std(Xtrain, axis=0)"
   ]
  },
  {
   "cell_type": "code",
   "execution_count": 7,
   "metadata": {
    "colab": {
     "base_uri": "https://localhost:8080/",
     "height": 49
    },
    "colab_type": "code",
    "id": "CbCa893O1GmR",
    "outputId": "b854ebd9-73c3-4e9e-ccd3-53fecc5b613f"
   },
   "outputs": [
    {
     "name": "stdout",
     "output_type": "stream",
     "text": [
      "Mean of Xtrain (4 components) [69.12671928 83.43382187 99.24193912 82.61758737]\n",
      "Standard deviation of Xtrain (4 components) [13.5596788  22.81512052 16.72458377 18.84176935]\n"
     ]
    }
   ],
   "source": [
    "print(\"Mean of Xtrain (4 components) {0}\".format(mean_Xtrain))\n",
    "print(\"Standard deviation of Xtrain (4 components) {0}\".format(std_Xtrain))"
   ]
  },
  {
   "cell_type": "markdown",
   "metadata": {
    "colab_type": "text",
    "id": "bDQEJmK91GmW"
   },
   "source": [
    "The SVM way of deal with the input variables is to ultimatelly combine all the components of the observation inside the kernel function. Very dispair values of the mean and standard deviation of the input variables may turn out in that some of the variables dominate the value of the kernel. \n",
    "\n",
    "Imagine a Business Intelligence problem in which a vanilla characterization of customers is made using just the age and yearly income of each customer. Consider these three customers:\n",
    "- Customer1: age 70 years, income 35000 euros\n",
    "- Customer2: age 68 years, income 36000 euros\n",
    "- Customer3: age: 35 years, income 35500 euros\n",
    "\n",
    "The Euclidean distances are:\n",
    "- d(Customer1, Customer2) = $\\sqrt{(70-68)^2 + (35000-36000)^2}$ = $1000.002$\n",
    "- d(Customer2, Customer3) = $\\sqrt{(35-68)^2 + (35500-36000)^2}$ = $501.09$\n",
    "- d(Customer1, Customer3) = $\\sqrt{(35-70)^2 + (35500-35000)^2}$ = $501.22$\n",
    "\n",
    "The distance says Customer1 is closer to Customer3 (the smaller distance the more similar the customers) than to Customer2, although it seems more reasonably to think that two persons with ages close to 70 years old and similar income share more preferences than a person in the mid thirties and a person close to 70 years old, despite having similar yearly income. This is because numerically the yearly income dominates the value of the kernel.\n",
    "\n",
    "The most common normalization is to get each column standarized, that is, zero mean and unit variance. The object StandardScaler from module sklearn.preprocessing does this job for us. Remember (in order to be fair) to fit the scaler just with the training set!!"
   ]
  },
  {
   "cell_type": "code",
   "execution_count": 0,
   "metadata": {
    "colab": {},
    "colab_type": "code",
    "id": "LWa23eCm1GmZ"
   },
   "outputs": [],
   "source": [
    "\"\"\"\n",
    "YOUR CODE HERE\n",
    "- get Xtrain_n and Xtest_n, the scaled versions of Xtrain and Xtest\n",
    "- print means and standard deviations of Xtrain_n and Xtest_n\n",
    "\"\"\"\n",
    "scaler = preprocessing.StandardScaler()\n",
    "scaler.fit(Xtrain)\n",
    "\n",
    "Xtrain_n = scaler.transform(Xtrain)\n",
    "Xtest_n = scaler.transform(Xtest)"
   ]
  },
  {
   "cell_type": "code",
   "execution_count": 0,
   "metadata": {
    "colab": {},
    "colab_type": "code",
    "id": "rZitcxHUsYwt"
   },
   "outputs": [],
   "source": [
    "mean_Xtrain_n = np.mean(Xtrain_n,axis=0)\n",
    "std_Xtrain_n = np.std(Xtrain_n, axis=0)\n",
    "\n",
    "mean_Xtest_n = np.mean(Xtest_n,axis=0)\n",
    "std_Xtest_n = np.std(Xtest_n, axis=0)"
   ]
  },
  {
   "cell_type": "code",
   "execution_count": 10,
   "metadata": {
    "colab": {
     "base_uri": "https://localhost:8080/",
     "height": 82
    },
    "colab_type": "code",
    "id": "qCsSbMef1Gmd",
    "outputId": "6aacb8c1-fb52-4e3a-9437-d1c8ad126269"
   },
   "outputs": [
    {
     "name": "stdout",
     "output_type": "stream",
     "text": [
      "Mean of Xtrain_n (4 components) [-2.85275999e-15 -2.70170958e-16 -7.53969103e-17  1.40733598e-18]\n",
      "Standard deviation of Xtrain_n (4 components) [1. 1. 1. 1.]\n",
      "Mean of Xtest_n (4 components) [-0.01922754 -0.03705095 -0.01772475 -0.00244602]\n",
      "Standard deviation of Xtest_n (4 components) [0.99437723 1.01191341 0.99831081 1.03247522]\n"
     ]
    }
   ],
   "source": [
    "print(\"Mean of Xtrain_n (4 components) {0}\".format(mean_Xtrain_n))\n",
    "print(\"Standard deviation of Xtrain_n (4 components) {0}\".format(std_Xtrain_n))\n",
    "\n",
    "print(\"Mean of Xtest_n (4 components) {0}\".format(mean_Xtest_n))\n",
    "print(\"Standard deviation of Xtest_n (4 components) {0}\".format(std_Xtest_n))"
   ]
  },
  {
   "cell_type": "markdown",
   "metadata": {
    "colab_type": "text",
    "id": "mB3pMqSu1Gmf"
   },
   "source": [
    "## SVM classification"
   ]
  },
  {
   "cell_type": "markdown",
   "metadata": {
    "colab_type": "text",
    "id": "6aSP-lfz1Gmg"
   },
   "source": [
    "As we learnt in the theory session, a critical issue in SVM is the selection of the kernel. In this case we explore the GridSearch functionality to also choose the kernel. We are dealing with the three most common kernels in SVM:\n",
    "- RBF kernel with parameter $\\gamma$\n",
    "- Polynomial kernel with parameter $d$\n",
    "- Linear kernel with no parameter\n",
    "\n",
    "Choose reasonable ranges of variations to do a grid search with at least 4 values for each parameter. The parameters are \n",
    "- v_C: C for all kernels\n",
    "- v_gamma: gamma for RBF kernel\n",
    "- v_degree: d for polynomial kernel\n",
    "\n"
   ]
  },
  {
   "cell_type": "code",
   "execution_count": 0,
   "metadata": {
    "colab": {},
    "colab_type": "code",
    "id": "apj-JLsK37p4"
   },
   "outputs": [],
   "source": [
    "\"\"\"\n",
    "YOUR CODE HERE\n",
    "\"\"\"\n",
    "v_C = [0.001,0.01, 0.1, 1, 10]\n",
    "v_gamma = [0.01, 0.1, 1, 10, 100]\n",
    "v_degree = [2, 3, 4, 5, 10]"
   ]
  },
  {
   "cell_type": "code",
   "execution_count": 12,
   "metadata": {
    "colab": {
     "base_uri": "https://localhost:8080/",
     "height": 115
    },
    "colab_type": "code",
    "id": "yCgCT-g51Gmk",
    "outputId": "a08c4074-0463-4a23-a29a-83e820215bf8"
   },
   "outputs": [
    {
     "name": "stdout",
     "output_type": "stream",
     "text": [
      "Range of C:\n",
      "[0.001, 0.01, 0.1, 1, 10]\n",
      "Range of gamma:\n",
      "[0.01, 0.1, 1, 10, 100]\n",
      "Range of d:\n",
      "[2, 3, 4, 5, 10]\n"
     ]
    }
   ],
   "source": [
    "print(\"Range of C:\")\n",
    "print(v_C)\n",
    "print(\"Range of gamma:\")\n",
    "print(v_gamma)\n",
    "print(\"Range of d:\")\n",
    "print(v_degree)"
   ]
  },
  {
   "cell_type": "markdown",
   "metadata": {
    "colab_type": "text",
    "id": "c7R3OHjC1Gmm"
   },
   "source": [
    "Construct a grid list with the corresponding ranges. The list will have one dictionary per kernel. In order to speed up things a little bit do not use a number of folds larger than 5."
   ]
  },
  {
   "cell_type": "code",
   "execution_count": 0,
   "metadata": {
    "colab": {},
    "colab_type": "code",
    "id": "ui-9MB8s4Bsl"
   },
   "outputs": [],
   "source": [
    "\"\"\"\n",
    "YOUR CODE HERE\n",
    "\"\"\"\n",
    "# grid of parameters\n",
    "param_grid = [\n",
    "  {'C': v_C, 'gamma': v_gamma, 'kernel': ['rbf']},\n",
    "  {'C': v_C, 'degree': v_degree, 'kernel': ['poly']},\n",
    "  {'C': v_C, 'kernel': ['linear']}\n",
    " ]"
   ]
  },
  {
   "cell_type": "markdown",
   "metadata": {
    "colab_type": "text",
    "id": "7xvtEQlu1Gmp"
   },
   "source": [
    "Train the grid with CV and print best parameters, classification error in the training set and classification error in the test set"
   ]
  },
  {
   "cell_type": "code",
   "execution_count": 15,
   "metadata": {
    "colab": {
     "base_uri": "https://localhost:8080/",
     "height": 115
    },
    "colab_type": "code",
    "id": "ktpiftypCCQb",
    "outputId": "e4a5e120-be7f-4853-c1c9-b8c865125cd2"
   },
   "outputs": [
    {
     "name": "stdout",
     "output_type": "stream",
     "text": [
      "Execution time: 100.855132\n",
      "Best parameters:  {'C': 1, 'gamma': 1, 'kernel': 'rbf'}\n",
      "CE train: 0.33\n",
      "CE test: 0.37\n",
      "Training set accuracy 86.83 %\n",
      "Test set accuracy 85.50 %\n"
     ]
    }
   ],
   "source": [
    "\"\"\"\n",
    "YOUR CODE HERE\n",
    "- create the GridSearchCV object\n",
    "- fit it \n",
    "- get the best classifier\n",
    "- print the parameters of this best classifier\n",
    "- print error in the trainig set and error in the test set\n",
    "\"\"\"\n",
    "from sklearn.svm import SVC\n",
    "from sklearn import metrics\n",
    "\n",
    "t1 = time.time()\n",
    "#instantiation of the grid of hyperparameters that will be searched with cross validation\n",
    "grid_clsf = GridSearchCV(\n",
    "        SVC(), # machine learning object, it needs to implement methods fit, predict and score \n",
    "        param_grid, # grid of hyperparameters\n",
    "        cv=5)\n",
    "\n",
    "# visit all the nodes in the grid and estimate the true generalization error of a SVM trained with the hyperparameters of the node\n",
    "grid_clsf.fit(Xtrain_n, ytrain)\n",
    "t2 = time.time()\n",
    "tf1 = t2-t1\n",
    "print('Execution time: {0:2f}'.format(tf1))\n",
    "\n",
    "classifier = grid_clsf.best_estimator_\n",
    "best_params = grid_clsf.best_params_\n",
    "\n",
    "print('Best parameters: ',best_params)\n",
    "\n",
    "# Training error\n",
    "Xtrain_n_pred = grid_clsf.predict(Xtrain_n)\n",
    "error_train_set =  metrics.mean_absolute_error(ytrain, Xtrain_n_pred)\n",
    "\n",
    "# Testing error\n",
    "Xtest_n_pred = grid_clsf.predict(Xtest_n)\n",
    "error_test_set = metrics.mean_absolute_error(ytest, Xtest_n_pred)\n",
    "\n",
    "acc_train_set = classifier.score(Xtrain_n, ytrain)\n",
    "acc_test_set = classifier.score(Xtest_n, ytest)\n",
    "\n",
    "conf_tr = metrics.confusion_matrix(ytrain, Xtrain_n_pred)\n",
    "cm_tr = sns.light_palette(\"red\", as_cmap=True)\n",
    "x_tr = pd.DataFrame(conf_tr)\n",
    "x_tr = x_tr.style.background_gradient(cmap=cm_tr)\n",
    "\n",
    "conf_ts = metrics.confusion_matrix(ytest, Xtest_n_pred)\n",
    "cm_ts = sns.light_palette(\"red\", as_cmap=True)\n",
    "x_ts = pd.DataFrame(conf_ts)\n",
    "x_ts = x_ts.style.background_gradient(cmap=cm_ts)\n",
    "\n",
    "\n",
    "print(\"CE train: {0:.2f}\".format(error_train_set))\n",
    "print(\"CE test: {0:.2f}\".format(error_test_set))\n",
    "print(\"Training set accuracy {0:.2f} %\".format(acc_train_set*100))\n",
    "print(\"Test set accuracy {0:.2f} %\".format(acc_test_set*100))"
   ]
  },
  {
   "cell_type": "code",
   "execution_count": 16,
   "metadata": {
    "colab": {
     "base_uri": "https://localhost:8080/",
     "height": 340
    },
    "colab_type": "code",
    "id": "tKfAB9Djt2-q",
    "outputId": "80f01ea4-4992-4a19-d98e-e7a3d0e29a0c"
   },
   "outputs": [
    {
     "name": "stdout",
     "output_type": "stream",
     "text": [
      "Training confusion matrix:\n"
     ]
    },
    {
     "data": {
      "text/html": [
       "<style  type=\"text/css\" >\n",
       "    #T_b040ce64_9541_11ea_a3fe_0242ac1c0002row0_col0 {\n",
       "            background-color:  #ff0000;\n",
       "            color:  #f1f1f1;\n",
       "        }    #T_b040ce64_9541_11ea_a3fe_0242ac1c0002row0_col1 {\n",
       "            background-color:  #ffe5e5;\n",
       "            color:  #000000;\n",
       "        }    #T_b040ce64_9541_11ea_a3fe_0242ac1c0002row0_col2 {\n",
       "            background-color:  #ffe2e2;\n",
       "            color:  #000000;\n",
       "        }    #T_b040ce64_9541_11ea_a3fe_0242ac1c0002row0_col3 {\n",
       "            background-color:  #ffe5e5;\n",
       "            color:  #000000;\n",
       "        }    #T_b040ce64_9541_11ea_a3fe_0242ac1c0002row0_col4 {\n",
       "            background-color:  #ffe2e2;\n",
       "            color:  #000000;\n",
       "        }    #T_b040ce64_9541_11ea_a3fe_0242ac1c0002row0_col5 {\n",
       "            background-color:  #ffe5e5;\n",
       "            color:  #000000;\n",
       "        }    #T_b040ce64_9541_11ea_a3fe_0242ac1c0002row1_col0 {\n",
       "            background-color:  #ffe5e5;\n",
       "            color:  #000000;\n",
       "        }    #T_b040ce64_9541_11ea_a3fe_0242ac1c0002row1_col1 {\n",
       "            background-color:  #ff0000;\n",
       "            color:  #f1f1f1;\n",
       "        }    #T_b040ce64_9541_11ea_a3fe_0242ac1c0002row1_col2 {\n",
       "            background-color:  #ffe5e5;\n",
       "            color:  #000000;\n",
       "        }    #T_b040ce64_9541_11ea_a3fe_0242ac1c0002row1_col3 {\n",
       "            background-color:  #ffe0e0;\n",
       "            color:  #000000;\n",
       "        }    #T_b040ce64_9541_11ea_a3fe_0242ac1c0002row1_col4 {\n",
       "            background-color:  #ffd3d3;\n",
       "            color:  #000000;\n",
       "        }    #T_b040ce64_9541_11ea_a3fe_0242ac1c0002row1_col5 {\n",
       "            background-color:  #ffe4e4;\n",
       "            color:  #000000;\n",
       "        }    #T_b040ce64_9541_11ea_a3fe_0242ac1c0002row2_col0 {\n",
       "            background-color:  #ffe5e5;\n",
       "            color:  #000000;\n",
       "        }    #T_b040ce64_9541_11ea_a3fe_0242ac1c0002row2_col1 {\n",
       "            background-color:  #ffe5e5;\n",
       "            color:  #000000;\n",
       "        }    #T_b040ce64_9541_11ea_a3fe_0242ac1c0002row2_col2 {\n",
       "            background-color:  #ff0000;\n",
       "            color:  #f1f1f1;\n",
       "        }    #T_b040ce64_9541_11ea_a3fe_0242ac1c0002row2_col3 {\n",
       "            background-color:  #ffcbcb;\n",
       "            color:  #000000;\n",
       "        }    #T_b040ce64_9541_11ea_a3fe_0242ac1c0002row2_col4 {\n",
       "            background-color:  #ffe5e5;\n",
       "            color:  #000000;\n",
       "        }    #T_b040ce64_9541_11ea_a3fe_0242ac1c0002row2_col5 {\n",
       "            background-color:  #ffe5e5;\n",
       "            color:  #000000;\n",
       "        }    #T_b040ce64_9541_11ea_a3fe_0242ac1c0002row3_col0 {\n",
       "            background-color:  #ffe5e5;\n",
       "            color:  #000000;\n",
       "        }    #T_b040ce64_9541_11ea_a3fe_0242ac1c0002row3_col1 {\n",
       "            background-color:  #ffe5e5;\n",
       "            color:  #000000;\n",
       "        }    #T_b040ce64_9541_11ea_a3fe_0242ac1c0002row3_col2 {\n",
       "            background-color:  #ffcaca;\n",
       "            color:  #000000;\n",
       "        }    #T_b040ce64_9541_11ea_a3fe_0242ac1c0002row3_col3 {\n",
       "            background-color:  #ff0000;\n",
       "            color:  #f1f1f1;\n",
       "        }    #T_b040ce64_9541_11ea_a3fe_0242ac1c0002row3_col4 {\n",
       "            background-color:  #ffe5e5;\n",
       "            color:  #000000;\n",
       "        }    #T_b040ce64_9541_11ea_a3fe_0242ac1c0002row3_col5 {\n",
       "            background-color:  #ffcbcb;\n",
       "            color:  #000000;\n",
       "        }    #T_b040ce64_9541_11ea_a3fe_0242ac1c0002row4_col0 {\n",
       "            background-color:  #ffdede;\n",
       "            color:  #000000;\n",
       "        }    #T_b040ce64_9541_11ea_a3fe_0242ac1c0002row4_col1 {\n",
       "            background-color:  #ffe2e2;\n",
       "            color:  #000000;\n",
       "        }    #T_b040ce64_9541_11ea_a3fe_0242ac1c0002row4_col2 {\n",
       "            background-color:  #ffe5e5;\n",
       "            color:  #000000;\n",
       "        }    #T_b040ce64_9541_11ea_a3fe_0242ac1c0002row4_col3 {\n",
       "            background-color:  #ffe5e5;\n",
       "            color:  #000000;\n",
       "        }    #T_b040ce64_9541_11ea_a3fe_0242ac1c0002row4_col4 {\n",
       "            background-color:  #ff0000;\n",
       "            color:  #f1f1f1;\n",
       "        }    #T_b040ce64_9541_11ea_a3fe_0242ac1c0002row4_col5 {\n",
       "            background-color:  #ffd9d9;\n",
       "            color:  #000000;\n",
       "        }    #T_b040ce64_9541_11ea_a3fe_0242ac1c0002row5_col0 {\n",
       "            background-color:  #ffe5e5;\n",
       "            color:  #000000;\n",
       "        }    #T_b040ce64_9541_11ea_a3fe_0242ac1c0002row5_col1 {\n",
       "            background-color:  #ffe5e5;\n",
       "            color:  #000000;\n",
       "        }    #T_b040ce64_9541_11ea_a3fe_0242ac1c0002row5_col2 {\n",
       "            background-color:  #ffdddd;\n",
       "            color:  #000000;\n",
       "        }    #T_b040ce64_9541_11ea_a3fe_0242ac1c0002row5_col3 {\n",
       "            background-color:  #ff6060;\n",
       "            color:  #000000;\n",
       "        }    #T_b040ce64_9541_11ea_a3fe_0242ac1c0002row5_col4 {\n",
       "            background-color:  #ffdcdc;\n",
       "            color:  #000000;\n",
       "        }    #T_b040ce64_9541_11ea_a3fe_0242ac1c0002row5_col5 {\n",
       "            background-color:  #ff0000;\n",
       "            color:  #f1f1f1;\n",
       "        }</style><table id=\"T_b040ce64_9541_11ea_a3fe_0242ac1c0002\" ><thead>    <tr>        <th class=\"blank level0\" ></th>        <th class=\"col_heading level0 col0\" >0</th>        <th class=\"col_heading level0 col1\" >1</th>        <th class=\"col_heading level0 col2\" >2</th>        <th class=\"col_heading level0 col3\" >3</th>        <th class=\"col_heading level0 col4\" >4</th>        <th class=\"col_heading level0 col5\" >5</th>    </tr></thead><tbody>\n",
       "                <tr>\n",
       "                        <th id=\"T_b040ce64_9541_11ea_a3fe_0242ac1c0002level0_row0\" class=\"row_heading level0 row0\" >0</th>\n",
       "                        <td id=\"T_b040ce64_9541_11ea_a3fe_0242ac1c0002row0_col0\" class=\"data row0 col0\" >1045</td>\n",
       "                        <td id=\"T_b040ce64_9541_11ea_a3fe_0242ac1c0002row0_col1\" class=\"data row0 col1\" >2</td>\n",
       "                        <td id=\"T_b040ce64_9541_11ea_a3fe_0242ac1c0002row0_col2\" class=\"data row0 col2\" >17</td>\n",
       "                        <td id=\"T_b040ce64_9541_11ea_a3fe_0242ac1c0002row0_col3\" class=\"data row0 col3\" >1</td>\n",
       "                        <td id=\"T_b040ce64_9541_11ea_a3fe_0242ac1c0002row0_col4\" class=\"data row0 col4\" >7</td>\n",
       "                        <td id=\"T_b040ce64_9541_11ea_a3fe_0242ac1c0002row0_col5\" class=\"data row0 col5\" >0</td>\n",
       "            </tr>\n",
       "            <tr>\n",
       "                        <th id=\"T_b040ce64_9541_11ea_a3fe_0242ac1c0002level0_row1\" class=\"row_heading level0 row1\" >1</th>\n",
       "                        <td id=\"T_b040ce64_9541_11ea_a3fe_0242ac1c0002row1_col0\" class=\"data row1 col0\" >1</td>\n",
       "                        <td id=\"T_b040ce64_9541_11ea_a3fe_0242ac1c0002row1_col1\" class=\"data row1 col1\" >434</td>\n",
       "                        <td id=\"T_b040ce64_9541_11ea_a3fe_0242ac1c0002row1_col2\" class=\"data row1 col2\" >0</td>\n",
       "                        <td id=\"T_b040ce64_9541_11ea_a3fe_0242ac1c0002row1_col3\" class=\"data row1 col3\" >6</td>\n",
       "                        <td id=\"T_b040ce64_9541_11ea_a3fe_0242ac1c0002row1_col4\" class=\"data row1 col4\" >31</td>\n",
       "                        <td id=\"T_b040ce64_9541_11ea_a3fe_0242ac1c0002row1_col5\" class=\"data row1 col5\" >7</td>\n",
       "            </tr>\n",
       "            <tr>\n",
       "                        <th id=\"T_b040ce64_9541_11ea_a3fe_0242ac1c0002level0_row2\" class=\"row_heading level0 row2\" >2</th>\n",
       "                        <td id=\"T_b040ce64_9541_11ea_a3fe_0242ac1c0002row2_col0\" class=\"data row2 col0\" >5</td>\n",
       "                        <td id=\"T_b040ce64_9541_11ea_a3fe_0242ac1c0002row2_col1\" class=\"data row2 col1\" >0</td>\n",
       "                        <td id=\"T_b040ce64_9541_11ea_a3fe_0242ac1c0002row2_col2\" class=\"data row2 col2\" >930</td>\n",
       "                        <td id=\"T_b040ce64_9541_11ea_a3fe_0242ac1c0002row2_col3\" class=\"data row2 col3\" >23</td>\n",
       "                        <td id=\"T_b040ce64_9541_11ea_a3fe_0242ac1c0002row2_col4\" class=\"data row2 col4\" >0</td>\n",
       "                        <td id=\"T_b040ce64_9541_11ea_a3fe_0242ac1c0002row2_col5\" class=\"data row2 col5\" >3</td>\n",
       "            </tr>\n",
       "            <tr>\n",
       "                        <th id=\"T_b040ce64_9541_11ea_a3fe_0242ac1c0002level0_row3\" class=\"row_heading level0 row3\" >3</th>\n",
       "                        <td id=\"T_b040ce64_9541_11ea_a3fe_0242ac1c0002row3_col0\" class=\"data row3 col0\" >5</td>\n",
       "                        <td id=\"T_b040ce64_9541_11ea_a3fe_0242ac1c0002row3_col1\" class=\"data row3 col1\" >1</td>\n",
       "                        <td id=\"T_b040ce64_9541_11ea_a3fe_0242ac1c0002row3_col2\" class=\"data row3 col2\" >116</td>\n",
       "                        <td id=\"T_b040ce64_9541_11ea_a3fe_0242ac1c0002row3_col3\" class=\"data row3 col3\" >192</td>\n",
       "                        <td id=\"T_b040ce64_9541_11ea_a3fe_0242ac1c0002row3_col4\" class=\"data row3 col4\" >2</td>\n",
       "                        <td id=\"T_b040ce64_9541_11ea_a3fe_0242ac1c0002row3_col5\" class=\"data row3 col5\" >99</td>\n",
       "            </tr>\n",
       "            <tr>\n",
       "                        <th id=\"T_b040ce64_9541_11ea_a3fe_0242ac1c0002level0_row4\" class=\"row_heading level0 row4\" >4</th>\n",
       "                        <td id=\"T_b040ce64_9541_11ea_a3fe_0242ac1c0002row4_col0\" class=\"data row4 col0\" >34</td>\n",
       "                        <td id=\"T_b040ce64_9541_11ea_a3fe_0242ac1c0002row4_col1\" class=\"data row4 col1\" >7</td>\n",
       "                        <td id=\"T_b040ce64_9541_11ea_a3fe_0242ac1c0002row4_col2\" class=\"data row4 col2\" >2</td>\n",
       "                        <td id=\"T_b040ce64_9541_11ea_a3fe_0242ac1c0002row4_col3\" class=\"data row4 col3\" >2</td>\n",
       "                        <td id=\"T_b040ce64_9541_11ea_a3fe_0242ac1c0002row4_col4\" class=\"data row4 col4\" >377</td>\n",
       "                        <td id=\"T_b040ce64_9541_11ea_a3fe_0242ac1c0002row4_col5\" class=\"data row4 col5\" >48</td>\n",
       "            </tr>\n",
       "            <tr>\n",
       "                        <th id=\"T_b040ce64_9541_11ea_a3fe_0242ac1c0002level0_row5\" class=\"row_heading level0 row5\" >5</th>\n",
       "                        <td id=\"T_b040ce64_9541_11ea_a3fe_0242ac1c0002row5_col0\" class=\"data row5 col0\" >0</td>\n",
       "                        <td id=\"T_b040ce64_9541_11ea_a3fe_0242ac1c0002row5_col1\" class=\"data row5 col1\" >1</td>\n",
       "                        <td id=\"T_b040ce64_9541_11ea_a3fe_0242ac1c0002row5_col2\" class=\"data row5 col2\" >35</td>\n",
       "                        <td id=\"T_b040ce64_9541_11ea_a3fe_0242ac1c0002row5_col3\" class=\"data row5 col3\" >112</td>\n",
       "                        <td id=\"T_b040ce64_9541_11ea_a3fe_0242ac1c0002row5_col4\" class=\"data row5 col4\" >17</td>\n",
       "                        <td id=\"T_b040ce64_9541_11ea_a3fe_0242ac1c0002row5_col5\" class=\"data row5 col5\" >873</td>\n",
       "            </tr>\n",
       "    </tbody></table>"
      ],
      "text/plain": [
       "<pandas.io.formats.style.Styler at 0x7f30ebb67780>"
      ]
     },
     "metadata": {
      "tags": []
     },
     "output_type": "display_data"
    },
    {
     "name": "stdout",
     "output_type": "stream",
     "text": [
      "Testing confusion matrix:\n"
     ]
    },
    {
     "data": {
      "text/html": [
       "<style  type=\"text/css\" >\n",
       "    #T_b04427da_9541_11ea_a3fe_0242ac1c0002row0_col0 {\n",
       "            background-color:  #ff0000;\n",
       "            color:  #f1f1f1;\n",
       "        }    #T_b04427da_9541_11ea_a3fe_0242ac1c0002row0_col1 {\n",
       "            background-color:  #ffe5e5;\n",
       "            color:  #000000;\n",
       "        }    #T_b04427da_9541_11ea_a3fe_0242ac1c0002row0_col2 {\n",
       "            background-color:  #ffe2e2;\n",
       "            color:  #000000;\n",
       "        }    #T_b04427da_9541_11ea_a3fe_0242ac1c0002row0_col3 {\n",
       "            background-color:  #ffe5e5;\n",
       "            color:  #000000;\n",
       "        }    #T_b04427da_9541_11ea_a3fe_0242ac1c0002row0_col4 {\n",
       "            background-color:  #ffe0e0;\n",
       "            color:  #000000;\n",
       "        }    #T_b04427da_9541_11ea_a3fe_0242ac1c0002row0_col5 {\n",
       "            background-color:  #ffe5e5;\n",
       "            color:  #000000;\n",
       "        }    #T_b04427da_9541_11ea_a3fe_0242ac1c0002row1_col0 {\n",
       "            background-color:  #ffe5e5;\n",
       "            color:  #000000;\n",
       "        }    #T_b04427da_9541_11ea_a3fe_0242ac1c0002row1_col1 {\n",
       "            background-color:  #ff0000;\n",
       "            color:  #f1f1f1;\n",
       "        }    #T_b04427da_9541_11ea_a3fe_0242ac1c0002row1_col2 {\n",
       "            background-color:  #ffe5e5;\n",
       "            color:  #000000;\n",
       "        }    #T_b04427da_9541_11ea_a3fe_0242ac1c0002row1_col3 {\n",
       "            background-color:  #ffe1e1;\n",
       "            color:  #000000;\n",
       "        }    #T_b04427da_9541_11ea_a3fe_0242ac1c0002row1_col4 {\n",
       "            background-color:  #ffd8d8;\n",
       "            color:  #000000;\n",
       "        }    #T_b04427da_9541_11ea_a3fe_0242ac1c0002row1_col5 {\n",
       "            background-color:  #ffe5e5;\n",
       "            color:  #000000;\n",
       "        }    #T_b04427da_9541_11ea_a3fe_0242ac1c0002row2_col0 {\n",
       "            background-color:  #ffe5e5;\n",
       "            color:  #000000;\n",
       "        }    #T_b04427da_9541_11ea_a3fe_0242ac1c0002row2_col1 {\n",
       "            background-color:  #ffe5e5;\n",
       "            color:  #000000;\n",
       "        }    #T_b04427da_9541_11ea_a3fe_0242ac1c0002row2_col2 {\n",
       "            background-color:  #ff0000;\n",
       "            color:  #f1f1f1;\n",
       "        }    #T_b04427da_9541_11ea_a3fe_0242ac1c0002row2_col3 {\n",
       "            background-color:  #ffd1d1;\n",
       "            color:  #000000;\n",
       "        }    #T_b04427da_9541_11ea_a3fe_0242ac1c0002row2_col4 {\n",
       "            background-color:  #ffe5e5;\n",
       "            color:  #000000;\n",
       "        }    #T_b04427da_9541_11ea_a3fe_0242ac1c0002row2_col5 {\n",
       "            background-color:  #ffe5e5;\n",
       "            color:  #000000;\n",
       "        }    #T_b04427da_9541_11ea_a3fe_0242ac1c0002row3_col0 {\n",
       "            background-color:  #ffe5e5;\n",
       "            color:  #000000;\n",
       "        }    #T_b04427da_9541_11ea_a3fe_0242ac1c0002row3_col1 {\n",
       "            background-color:  #ffe5e5;\n",
       "            color:  #000000;\n",
       "        }    #T_b04427da_9541_11ea_a3fe_0242ac1c0002row3_col2 {\n",
       "            background-color:  #ffc6c6;\n",
       "            color:  #000000;\n",
       "        }    #T_b04427da_9541_11ea_a3fe_0242ac1c0002row3_col3 {\n",
       "            background-color:  #ff0000;\n",
       "            color:  #f1f1f1;\n",
       "        }    #T_b04427da_9541_11ea_a3fe_0242ac1c0002row3_col4 {\n",
       "            background-color:  #ffe5e5;\n",
       "            color:  #000000;\n",
       "        }    #T_b04427da_9541_11ea_a3fe_0242ac1c0002row3_col5 {\n",
       "            background-color:  #ffc2c2;\n",
       "            color:  #000000;\n",
       "        }    #T_b04427da_9541_11ea_a3fe_0242ac1c0002row4_col0 {\n",
       "            background-color:  #ffdfdf;\n",
       "            color:  #000000;\n",
       "        }    #T_b04427da_9541_11ea_a3fe_0242ac1c0002row4_col1 {\n",
       "            background-color:  #ffdede;\n",
       "            color:  #000000;\n",
       "        }    #T_b04427da_9541_11ea_a3fe_0242ac1c0002row4_col2 {\n",
       "            background-color:  #ffe5e5;\n",
       "            color:  #000000;\n",
       "        }    #T_b04427da_9541_11ea_a3fe_0242ac1c0002row4_col3 {\n",
       "            background-color:  #ffe1e1;\n",
       "            color:  #000000;\n",
       "        }    #T_b04427da_9541_11ea_a3fe_0242ac1c0002row4_col4 {\n",
       "            background-color:  #ff0000;\n",
       "            color:  #f1f1f1;\n",
       "        }    #T_b04427da_9541_11ea_a3fe_0242ac1c0002row4_col5 {\n",
       "            background-color:  #ffd5d5;\n",
       "            color:  #000000;\n",
       "        }    #T_b04427da_9541_11ea_a3fe_0242ac1c0002row5_col0 {\n",
       "            background-color:  #ffe5e5;\n",
       "            color:  #000000;\n",
       "        }    #T_b04427da_9541_11ea_a3fe_0242ac1c0002row5_col1 {\n",
       "            background-color:  #ffe5e5;\n",
       "            color:  #000000;\n",
       "        }    #T_b04427da_9541_11ea_a3fe_0242ac1c0002row5_col2 {\n",
       "            background-color:  #ffd9d9;\n",
       "            color:  #000000;\n",
       "        }    #T_b04427da_9541_11ea_a3fe_0242ac1c0002row5_col3 {\n",
       "            background-color:  #ff6a6a;\n",
       "            color:  #000000;\n",
       "        }    #T_b04427da_9541_11ea_a3fe_0242ac1c0002row5_col4 {\n",
       "            background-color:  #ffdbdb;\n",
       "            color:  #000000;\n",
       "        }    #T_b04427da_9541_11ea_a3fe_0242ac1c0002row5_col5 {\n",
       "            background-color:  #ff0000;\n",
       "            color:  #f1f1f1;\n",
       "        }</style><table id=\"T_b04427da_9541_11ea_a3fe_0242ac1c0002\" ><thead>    <tr>        <th class=\"blank level0\" ></th>        <th class=\"col_heading level0 col0\" >0</th>        <th class=\"col_heading level0 col1\" >1</th>        <th class=\"col_heading level0 col2\" >2</th>        <th class=\"col_heading level0 col3\" >3</th>        <th class=\"col_heading level0 col4\" >4</th>        <th class=\"col_heading level0 col5\" >5</th>    </tr></thead><tbody>\n",
       "                <tr>\n",
       "                        <th id=\"T_b04427da_9541_11ea_a3fe_0242ac1c0002level0_row0\" class=\"row_heading level0 row0\" >0</th>\n",
       "                        <td id=\"T_b04427da_9541_11ea_a3fe_0242ac1c0002row0_col0\" class=\"data row0 col0\" >449</td>\n",
       "                        <td id=\"T_b04427da_9541_11ea_a3fe_0242ac1c0002row0_col1\" class=\"data row0 col1\" >0</td>\n",
       "                        <td id=\"T_b04427da_9541_11ea_a3fe_0242ac1c0002row0_col2\" class=\"data row0 col2\" >7</td>\n",
       "                        <td id=\"T_b04427da_9541_11ea_a3fe_0242ac1c0002row0_col3\" class=\"data row0 col3\" >0</td>\n",
       "                        <td id=\"T_b04427da_9541_11ea_a3fe_0242ac1c0002row0_col4\" class=\"data row0 col4\" >5</td>\n",
       "                        <td id=\"T_b04427da_9541_11ea_a3fe_0242ac1c0002row0_col5\" class=\"data row0 col5\" >0</td>\n",
       "            </tr>\n",
       "            <tr>\n",
       "                        <th id=\"T_b04427da_9541_11ea_a3fe_0242ac1c0002level0_row1\" class=\"row_heading level0 row1\" >1</th>\n",
       "                        <td id=\"T_b04427da_9541_11ea_a3fe_0242ac1c0002row1_col0\" class=\"data row1 col0\" >0</td>\n",
       "                        <td id=\"T_b04427da_9541_11ea_a3fe_0242ac1c0002row1_col1\" class=\"data row1 col1\" >209</td>\n",
       "                        <td id=\"T_b04427da_9541_11ea_a3fe_0242ac1c0002row1_col2\" class=\"data row1 col2\" >0</td>\n",
       "                        <td id=\"T_b04427da_9541_11ea_a3fe_0242ac1c0002row1_col3\" class=\"data row1 col3\" >2</td>\n",
       "                        <td id=\"T_b04427da_9541_11ea_a3fe_0242ac1c0002row1_col4\" class=\"data row1 col4\" >11</td>\n",
       "                        <td id=\"T_b04427da_9541_11ea_a3fe_0242ac1c0002row1_col5\" class=\"data row1 col5\" >2</td>\n",
       "            </tr>\n",
       "            <tr>\n",
       "                        <th id=\"T_b04427da_9541_11ea_a3fe_0242ac1c0002level0_row2\" class=\"row_heading level0 row2\" >2</th>\n",
       "                        <td id=\"T_b04427da_9541_11ea_a3fe_0242ac1c0002row2_col0\" class=\"data row2 col0\" >3</td>\n",
       "                        <td id=\"T_b04427da_9541_11ea_a3fe_0242ac1c0002row2_col1\" class=\"data row2 col1\" >0</td>\n",
       "                        <td id=\"T_b04427da_9541_11ea_a3fe_0242ac1c0002row2_col2\" class=\"data row2 col2\" >383</td>\n",
       "                        <td id=\"T_b04427da_9541_11ea_a3fe_0242ac1c0002row2_col3\" class=\"data row2 col3\" >9</td>\n",
       "                        <td id=\"T_b04427da_9541_11ea_a3fe_0242ac1c0002row2_col4\" class=\"data row2 col4\" >0</td>\n",
       "                        <td id=\"T_b04427da_9541_11ea_a3fe_0242ac1c0002row2_col5\" class=\"data row2 col5\" >2</td>\n",
       "            </tr>\n",
       "            <tr>\n",
       "                        <th id=\"T_b04427da_9541_11ea_a3fe_0242ac1c0002level0_row3\" class=\"row_heading level0 row3\" >3</th>\n",
       "                        <td id=\"T_b04427da_9541_11ea_a3fe_0242ac1c0002row3_col0\" class=\"data row3 col0\" >0</td>\n",
       "                        <td id=\"T_b04427da_9541_11ea_a3fe_0242ac1c0002row3_col1\" class=\"data row3 col1\" >0</td>\n",
       "                        <td id=\"T_b04427da_9541_11ea_a3fe_0242ac1c0002row3_col2\" class=\"data row3 col2\" >53</td>\n",
       "                        <td id=\"T_b04427da_9541_11ea_a3fe_0242ac1c0002row3_col3\" class=\"data row3 col3\" >97</td>\n",
       "                        <td id=\"T_b04427da_9541_11ea_a3fe_0242ac1c0002row3_col4\" class=\"data row3 col4\" >1</td>\n",
       "                        <td id=\"T_b04427da_9541_11ea_a3fe_0242ac1c0002row3_col5\" class=\"data row3 col5\" >60</td>\n",
       "            </tr>\n",
       "            <tr>\n",
       "                        <th id=\"T_b04427da_9541_11ea_a3fe_0242ac1c0002level0_row4\" class=\"row_heading level0 row4\" >4</th>\n",
       "                        <td id=\"T_b04427da_9541_11ea_a3fe_0242ac1c0002row4_col0\" class=\"data row4 col0\" >14</td>\n",
       "                        <td id=\"T_b04427da_9541_11ea_a3fe_0242ac1c0002row4_col1\" class=\"data row4 col1\" >7</td>\n",
       "                        <td id=\"T_b04427da_9541_11ea_a3fe_0242ac1c0002row4_col2\" class=\"data row4 col2\" >1</td>\n",
       "                        <td id=\"T_b04427da_9541_11ea_a3fe_0242ac1c0002row4_col3\" class=\"data row4 col3\" >2</td>\n",
       "                        <td id=\"T_b04427da_9541_11ea_a3fe_0242ac1c0002row4_col4\" class=\"data row4 col4\" >185</td>\n",
       "                        <td id=\"T_b04427da_9541_11ea_a3fe_0242ac1c0002row4_col5\" class=\"data row4 col5\" >28</td>\n",
       "            </tr>\n",
       "            <tr>\n",
       "                        <th id=\"T_b04427da_9541_11ea_a3fe_0242ac1c0002level0_row5\" class=\"row_heading level0 row5\" >5</th>\n",
       "                        <td id=\"T_b04427da_9541_11ea_a3fe_0242ac1c0002row5_col0\" class=\"data row5 col0\" >0</td>\n",
       "                        <td id=\"T_b04427da_9541_11ea_a3fe_0242ac1c0002row5_col1\" class=\"data row5 col1\" >1</td>\n",
       "                        <td id=\"T_b04427da_9541_11ea_a3fe_0242ac1c0002row5_col2\" class=\"data row5 col2\" >21</td>\n",
       "                        <td id=\"T_b04427da_9541_11ea_a3fe_0242ac1c0002row5_col3\" class=\"data row5 col3\" >52</td>\n",
       "                        <td id=\"T_b04427da_9541_11ea_a3fe_0242ac1c0002row5_col4\" class=\"data row5 col4\" >9</td>\n",
       "                        <td id=\"T_b04427da_9541_11ea_a3fe_0242ac1c0002row5_col5\" class=\"data row5 col5\" >387</td>\n",
       "            </tr>\n",
       "    </tbody></table>"
      ],
      "text/plain": [
       "<pandas.io.formats.style.Styler at 0x7f30ec3727f0>"
      ]
     },
     "metadata": {
      "tags": []
     },
     "output_type": "display_data"
    }
   ],
   "source": [
    "print(\"Training confusion matrix:\")\n",
    "display(x_tr)\n",
    "\n",
    "print(\"Testing confusion matrix:\")\n",
    "display(x_ts)\n"
   ]
  },
  {
   "cell_type": "markdown",
   "metadata": {
    "colab_type": "text",
    "id": "Hh1wj16P1Gmr"
   },
   "source": [
    "# Second view, spatial (context) information\n",
    "\n",
    "The follwing section aims at reinforcing the classification achieved by the spectral signature of the central pixel with some context information. By context we mean the spectral signature of the other pixels in the patch surrounding the central, target pixel. In this sense the intuituion we pursue is that the most aligned are the spectral signatures of central (target) and surrounding (context) pixels, the more confidence in the classification.\n",
    "\n",
    "We define the context using a first order approach: the context of each central pixel is the average of the spectral components of the other 8 pixels in the patch. \n",
    "$$ \\mathbf x_i^{\\mbox{context}} = [m_i^{1}, m_i^2, m_i^3, m_i^4]$$\n",
    "\n",
    "where $m_i^k$ is the average of the 8 spectral signatures in the band $k$ of the non-central pixels of the $i$-th patch. "
   ]
  },
  {
   "cell_type": "markdown",
   "metadata": {
    "colab_type": "text",
    "id": "Dx7eaK9ciSe5"
   },
   "source": [
    "Create two numpy arrays, Context_train and Context_test, in which each row is the corresponding $\\mathbf x_i^{\\mbox{context}}$ for the observation in the $i$-th row of Dtrain and Dtest, respectively."
   ]
  },
  {
   "cell_type": "code",
   "execution_count": 17,
   "metadata": {
    "colab": {
     "base_uri": "https://localhost:8080/",
     "height": 49
    },
    "colab_type": "code",
    "id": "orfvhdfOi2OI",
    "outputId": "b10b9853-fb9e-4e42-e840-6d54c929f9ed"
   },
   "outputs": [
    {
     "name": "stdout",
     "output_type": "stream",
     "text": [
      "Shape of context training set data: 4435 instances in 4 dimensions\n",
      "Shape of context test set data: 2000 instances in 4 dimensions\n"
     ]
    }
   ],
   "source": [
    "\"\"\"\n",
    "YOUR CODE\n",
    "\"\"\"\n",
    "ind1 = np.delete(np.arange(0,36,4),4)\n",
    "ind2 = np.delete(np.arange(1,36,4),4)\n",
    "ind3 = np.delete(np.arange(2,36,4),4)\n",
    "ind4 = np.delete(np.arange(3,36,4),4)\n",
    "\n",
    "train1 = np.mean(Dtrain[:,ind1],axis=1)\n",
    "train2 = np.mean(Dtrain[:,ind2],axis=1)\n",
    "train3 = np.mean(Dtrain[:,ind3],axis=1)\n",
    "train4 = np.mean(Dtrain[:,ind4],axis=1)\n",
    "Context_train = np.vstack((train1, train2,train3,train4)).T\n",
    "\n",
    "test1 = np.mean(Dtest[:,ind1],axis=1)\n",
    "test2 = np.mean(Dtest[:,ind2],axis=1)\n",
    "test3 = np.mean(Dtest[:,ind3],axis=1)\n",
    "test4 = np.mean(Dtest[:,ind4],axis=1)\n",
    "Context_test = np.vstack((test1, test2,test3,test4)).T\n",
    "\n",
    "print(\"Shape of context training set data: {0:d} instances in {1:d} dimensions\".format(Context_train.shape[0], Context_train.shape[1]))\n",
    "print(\"Shape of context test set data: {0:d} instances in {1:d} dimensions\".format(Context_test.shape[0], Context_test.shape[1]))\n"
   ]
  },
  {
   "cell_type": "markdown",
   "metadata": {
    "colab_type": "text",
    "id": "H8164NhI1Gmz"
   },
   "source": [
    "## Normalization"
   ]
  },
  {
   "cell_type": "markdown",
   "metadata": {
    "colab_type": "text",
    "id": "IpetTPkd1Gmz"
   },
   "source": [
    "Your code that implements the scaling of the context components. And get Context_train_n and Context_test_n, as the scaled versions of Context_train and Context_test. Remember, do not fit the scaler with test data!!"
   ]
  },
  {
   "cell_type": "code",
   "execution_count": 0,
   "metadata": {
    "colab": {},
    "colab_type": "code",
    "id": "gEUEDeqejNiB"
   },
   "outputs": [],
   "source": [
    "\"\"\"\n",
    "YOUR CODE\n",
    "\"\"\"\n",
    "context_scaler = preprocessing.StandardScaler()\n",
    "\n",
    "context_scaler.fit(Context_train)\n",
    "Context_train_n = context_scaler.transform(Context_train) \n",
    "Context_test_n = context_scaler.transform(Context_test) "
   ]
  },
  {
   "cell_type": "markdown",
   "metadata": {
    "colab_type": "text",
    "id": "Xr7Nt3tYE68-"
   },
   "source": [
    "## SVM classification with the second view (context). \n",
    "\n",
    "Repeat the grid search for the best kernel and hyperparameters, but now using Context_train_n and Context_test_n as training and test data, respectively. "
   ]
  },
  {
   "cell_type": "code",
   "execution_count": 19,
   "metadata": {
    "colab": {
     "base_uri": "https://localhost:8080/",
     "height": 115
    },
    "colab_type": "code",
    "id": "hM0mq-cjE5B8",
    "outputId": "0a0ea74b-8256-4412-deeb-550c5ca05c1c"
   },
   "outputs": [
    {
     "name": "stdout",
     "output_type": "stream",
     "text": [
      "Execution time: 92.170108\n",
      "Best parameters:  {'C': 1, 'gamma': 1, 'kernel': 'rbf'}\n",
      "CE train: 0.29\n",
      "CE test: 0.32\n",
      "Training set accuracy 87.55 %\n",
      "Test set accuracy 86.50 %\n"
     ]
    }
   ],
   "source": [
    "\"\"\" \n",
    "YOUR CODE\n",
    "\"\"\"\n",
    "t1 = time.time()\n",
    "#instantiation of the grid of hyperparameters that will be searched with cross validation\n",
    "context_grid_clsf = GridSearchCV(\n",
    "        SVC(), # machine learning object, it needs to implement methods fit, predict and score \n",
    "        param_grid, # grid of hyperparameters\n",
    "        cv = 5) \n",
    "\n",
    "# visit all the nodes in the grid and estimate the true generalization error of a SVM trained with the hyperparameters of the node\n",
    "context_grid_clsf.fit(Context_train_n, ytrain)\n",
    "t2 = time.time()\n",
    "tf2 = t2-t1\n",
    "print('Execution time: {0:2f}'.format(tf2))\n",
    "\n",
    "context_classifier = context_grid_clsf.best_estimator_\n",
    "context_best_params = context_grid_clsf.best_params_\n",
    "\n",
    "print('Best parameters: ',context_best_params)\n",
    "\n",
    "# Training error\n",
    "Context_train_n_pred = context_grid_clsf.predict(Context_train_n)\n",
    "context_error_train_set =  metrics.mean_absolute_error(ytrain, Context_train_n_pred)\n",
    "\n",
    "# Testing error\n",
    "Context_test_n_pred = context_grid_clsf.predict(Context_test_n)\n",
    "context_error_test_set = metrics.mean_absolute_error(ytest, Context_test_n_pred)\n",
    "\n",
    "context_acc_train_set = context_classifier.score(Context_train_n, ytrain)\n",
    "context_acc_test_set = context_classifier.score(Context_test_n, ytest)\n",
    "\n",
    "conf_tr2 = metrics.confusion_matrix(ytrain, Context_train_n_pred)\n",
    "cm_tr2 = sns.light_palette(\"red\", as_cmap=True)\n",
    "x_tr2 = pd.DataFrame(conf_tr2)\n",
    "x_tr2 = x_tr2.style.background_gradient(cmap=cm_tr2)\n",
    "\n",
    "conf_ts2 = metrics.confusion_matrix(ytest, Context_test_n_pred)\n",
    "cm_ts2 = sns.light_palette(\"red\", as_cmap=True)\n",
    "x_ts2 = pd.DataFrame(conf_ts2)\n",
    "x_ts2 = x_ts2.style.background_gradient(cmap=cm_ts2)\n",
    "\n",
    "print(\"CE train: {0:.2f}\".format(context_error_train_set))\n",
    "print(\"CE test: {0:.2f}\".format(context_error_test_set))\n",
    "print(\"Training set accuracy {0:.2f} %\".format(context_acc_train_set*100))\n",
    "print(\"Test set accuracy {0:.2f} %\".format(context_acc_test_set*100))\n"
   ]
  },
  {
   "cell_type": "code",
   "execution_count": 20,
   "metadata": {
    "colab": {
     "base_uri": "https://localhost:8080/",
     "height": 340
    },
    "colab_type": "code",
    "id": "9z1m4jX7zSpx",
    "outputId": "532d73a8-1037-4016-b6a5-f4686dde9e08"
   },
   "outputs": [
    {
     "name": "stdout",
     "output_type": "stream",
     "text": [
      "Training confusion matrix:\n"
     ]
    },
    {
     "data": {
      "text/html": [
       "<style  type=\"text/css\" >\n",
       "    #T_e82e691c_9541_11ea_a3fe_0242ac1c0002row0_col0 {\n",
       "            background-color:  #ff0000;\n",
       "            color:  #f1f1f1;\n",
       "        }    #T_e82e691c_9541_11ea_a3fe_0242ac1c0002row0_col1 {\n",
       "            background-color:  #ffe5e5;\n",
       "            color:  #000000;\n",
       "        }    #T_e82e691c_9541_11ea_a3fe_0242ac1c0002row0_col2 {\n",
       "            background-color:  #ffe2e2;\n",
       "            color:  #000000;\n",
       "        }    #T_e82e691c_9541_11ea_a3fe_0242ac1c0002row0_col3 {\n",
       "            background-color:  #ffe5e5;\n",
       "            color:  #000000;\n",
       "        }    #T_e82e691c_9541_11ea_a3fe_0242ac1c0002row0_col4 {\n",
       "            background-color:  #ffe4e4;\n",
       "            color:  #000000;\n",
       "        }    #T_e82e691c_9541_11ea_a3fe_0242ac1c0002row0_col5 {\n",
       "            background-color:  #ffe5e5;\n",
       "            color:  #000000;\n",
       "        }    #T_e82e691c_9541_11ea_a3fe_0242ac1c0002row1_col0 {\n",
       "            background-color:  #ffe5e5;\n",
       "            color:  #000000;\n",
       "        }    #T_e82e691c_9541_11ea_a3fe_0242ac1c0002row1_col1 {\n",
       "            background-color:  #ff0000;\n",
       "            color:  #f1f1f1;\n",
       "        }    #T_e82e691c_9541_11ea_a3fe_0242ac1c0002row1_col2 {\n",
       "            background-color:  #ffe5e5;\n",
       "            color:  #000000;\n",
       "        }    #T_e82e691c_9541_11ea_a3fe_0242ac1c0002row1_col3 {\n",
       "            background-color:  #ffe5e5;\n",
       "            color:  #000000;\n",
       "        }    #T_e82e691c_9541_11ea_a3fe_0242ac1c0002row1_col4 {\n",
       "            background-color:  #ffd8d8;\n",
       "            color:  #000000;\n",
       "        }    #T_e82e691c_9541_11ea_a3fe_0242ac1c0002row1_col5 {\n",
       "            background-color:  #ffe5e5;\n",
       "            color:  #000000;\n",
       "        }    #T_e82e691c_9541_11ea_a3fe_0242ac1c0002row2_col0 {\n",
       "            background-color:  #ffe5e5;\n",
       "            color:  #000000;\n",
       "        }    #T_e82e691c_9541_11ea_a3fe_0242ac1c0002row2_col1 {\n",
       "            background-color:  #ffe5e5;\n",
       "            color:  #000000;\n",
       "        }    #T_e82e691c_9541_11ea_a3fe_0242ac1c0002row2_col2 {\n",
       "            background-color:  #ff0000;\n",
       "            color:  #f1f1f1;\n",
       "        }    #T_e82e691c_9541_11ea_a3fe_0242ac1c0002row2_col3 {\n",
       "            background-color:  #ffcbcb;\n",
       "            color:  #000000;\n",
       "        }    #T_e82e691c_9541_11ea_a3fe_0242ac1c0002row2_col4 {\n",
       "            background-color:  #ffe5e5;\n",
       "            color:  #000000;\n",
       "        }    #T_e82e691c_9541_11ea_a3fe_0242ac1c0002row2_col5 {\n",
       "            background-color:  #ffe4e4;\n",
       "            color:  #000000;\n",
       "        }    #T_e82e691c_9541_11ea_a3fe_0242ac1c0002row3_col0 {\n",
       "            background-color:  #ffe5e5;\n",
       "            color:  #000000;\n",
       "        }    #T_e82e691c_9541_11ea_a3fe_0242ac1c0002row3_col1 {\n",
       "            background-color:  #ffe5e5;\n",
       "            color:  #000000;\n",
       "        }    #T_e82e691c_9541_11ea_a3fe_0242ac1c0002row3_col2 {\n",
       "            background-color:  #ffcccc;\n",
       "            color:  #000000;\n",
       "        }    #T_e82e691c_9541_11ea_a3fe_0242ac1c0002row3_col3 {\n",
       "            background-color:  #ff0000;\n",
       "            color:  #f1f1f1;\n",
       "        }    #T_e82e691c_9541_11ea_a3fe_0242ac1c0002row3_col4 {\n",
       "            background-color:  #ffdbdb;\n",
       "            color:  #000000;\n",
       "        }    #T_e82e691c_9541_11ea_a3fe_0242ac1c0002row3_col5 {\n",
       "            background-color:  #ffcece;\n",
       "            color:  #000000;\n",
       "        }    #T_e82e691c_9541_11ea_a3fe_0242ac1c0002row4_col0 {\n",
       "            background-color:  #ffe3e3;\n",
       "            color:  #000000;\n",
       "        }    #T_e82e691c_9541_11ea_a3fe_0242ac1c0002row4_col1 {\n",
       "            background-color:  #ffe0e0;\n",
       "            color:  #000000;\n",
       "        }    #T_e82e691c_9541_11ea_a3fe_0242ac1c0002row4_col2 {\n",
       "            background-color:  #ffe5e5;\n",
       "            color:  #000000;\n",
       "        }    #T_e82e691c_9541_11ea_a3fe_0242ac1c0002row4_col3 {\n",
       "            background-color:  #ffdada;\n",
       "            color:  #000000;\n",
       "        }    #T_e82e691c_9541_11ea_a3fe_0242ac1c0002row4_col4 {\n",
       "            background-color:  #ff0000;\n",
       "            color:  #f1f1f1;\n",
       "        }    #T_e82e691c_9541_11ea_a3fe_0242ac1c0002row4_col5 {\n",
       "            background-color:  #ffd7d7;\n",
       "            color:  #000000;\n",
       "        }    #T_e82e691c_9541_11ea_a3fe_0242ac1c0002row5_col0 {\n",
       "            background-color:  #ffe5e5;\n",
       "            color:  #000000;\n",
       "        }    #T_e82e691c_9541_11ea_a3fe_0242ac1c0002row5_col1 {\n",
       "            background-color:  #ffe5e5;\n",
       "            color:  #000000;\n",
       "        }    #T_e82e691c_9541_11ea_a3fe_0242ac1c0002row5_col2 {\n",
       "            background-color:  #ffdfdf;\n",
       "            color:  #000000;\n",
       "        }    #T_e82e691c_9541_11ea_a3fe_0242ac1c0002row5_col3 {\n",
       "            background-color:  #ff7676;\n",
       "            color:  #000000;\n",
       "        }    #T_e82e691c_9541_11ea_a3fe_0242ac1c0002row5_col4 {\n",
       "            background-color:  #ffd5d5;\n",
       "            color:  #000000;\n",
       "        }    #T_e82e691c_9541_11ea_a3fe_0242ac1c0002row5_col5 {\n",
       "            background-color:  #ff0000;\n",
       "            color:  #f1f1f1;\n",
       "        }</style><table id=\"T_e82e691c_9541_11ea_a3fe_0242ac1c0002\" ><thead>    <tr>        <th class=\"blank level0\" ></th>        <th class=\"col_heading level0 col0\" >0</th>        <th class=\"col_heading level0 col1\" >1</th>        <th class=\"col_heading level0 col2\" >2</th>        <th class=\"col_heading level0 col3\" >3</th>        <th class=\"col_heading level0 col4\" >4</th>        <th class=\"col_heading level0 col5\" >5</th>    </tr></thead><tbody>\n",
       "                <tr>\n",
       "                        <th id=\"T_e82e691c_9541_11ea_a3fe_0242ac1c0002level0_row0\" class=\"row_heading level0 row0\" >0</th>\n",
       "                        <td id=\"T_e82e691c_9541_11ea_a3fe_0242ac1c0002row0_col0\" class=\"data row0 col0\" >1050</td>\n",
       "                        <td id=\"T_e82e691c_9541_11ea_a3fe_0242ac1c0002row0_col1\" class=\"data row0 col1\" >1</td>\n",
       "                        <td id=\"T_e82e691c_9541_11ea_a3fe_0242ac1c0002row0_col2\" class=\"data row0 col2\" >16</td>\n",
       "                        <td id=\"T_e82e691c_9541_11ea_a3fe_0242ac1c0002row0_col3\" class=\"data row0 col3\" >0</td>\n",
       "                        <td id=\"T_e82e691c_9541_11ea_a3fe_0242ac1c0002row0_col4\" class=\"data row0 col4\" >5</td>\n",
       "                        <td id=\"T_e82e691c_9541_11ea_a3fe_0242ac1c0002row0_col5\" class=\"data row0 col5\" >0</td>\n",
       "            </tr>\n",
       "            <tr>\n",
       "                        <th id=\"T_e82e691c_9541_11ea_a3fe_0242ac1c0002level0_row1\" class=\"row_heading level0 row1\" >1</th>\n",
       "                        <td id=\"T_e82e691c_9541_11ea_a3fe_0242ac1c0002row1_col0\" class=\"data row1 col0\" >0</td>\n",
       "                        <td id=\"T_e82e691c_9541_11ea_a3fe_0242ac1c0002row1_col1\" class=\"data row1 col1\" >454</td>\n",
       "                        <td id=\"T_e82e691c_9541_11ea_a3fe_0242ac1c0002row1_col2\" class=\"data row1 col2\" >1</td>\n",
       "                        <td id=\"T_e82e691c_9541_11ea_a3fe_0242ac1c0002row1_col3\" class=\"data row1 col3\" >1</td>\n",
       "                        <td id=\"T_e82e691c_9541_11ea_a3fe_0242ac1c0002row1_col4\" class=\"data row1 col4\" >23</td>\n",
       "                        <td id=\"T_e82e691c_9541_11ea_a3fe_0242ac1c0002row1_col5\" class=\"data row1 col5\" >0</td>\n",
       "            </tr>\n",
       "            <tr>\n",
       "                        <th id=\"T_e82e691c_9541_11ea_a3fe_0242ac1c0002level0_row2\" class=\"row_heading level0 row2\" >2</th>\n",
       "                        <td id=\"T_e82e691c_9541_11ea_a3fe_0242ac1c0002row2_col0\" class=\"data row2 col0\" >8</td>\n",
       "                        <td id=\"T_e82e691c_9541_11ea_a3fe_0242ac1c0002row2_col1\" class=\"data row2 col1\" >1</td>\n",
       "                        <td id=\"T_e82e691c_9541_11ea_a3fe_0242ac1c0002row2_col2\" class=\"data row2 col2\" >922</td>\n",
       "                        <td id=\"T_e82e691c_9541_11ea_a3fe_0242ac1c0002row2_col3\" class=\"data row2 col3\" >22</td>\n",
       "                        <td id=\"T_e82e691c_9541_11ea_a3fe_0242ac1c0002row2_col4\" class=\"data row2 col4\" >1</td>\n",
       "                        <td id=\"T_e82e691c_9541_11ea_a3fe_0242ac1c0002row2_col5\" class=\"data row2 col5\" >7</td>\n",
       "            </tr>\n",
       "            <tr>\n",
       "                        <th id=\"T_e82e691c_9541_11ea_a3fe_0242ac1c0002level0_row3\" class=\"row_heading level0 row3\" >3</th>\n",
       "                        <td id=\"T_e82e691c_9541_11ea_a3fe_0242ac1c0002row3_col0\" class=\"data row3 col0\" >4</td>\n",
       "                        <td id=\"T_e82e691c_9541_11ea_a3fe_0242ac1c0002row3_col1\" class=\"data row3 col1\" >3</td>\n",
       "                        <td id=\"T_e82e691c_9541_11ea_a3fe_0242ac1c0002row3_col2\" class=\"data row3 col2\" >102</td>\n",
       "                        <td id=\"T_e82e691c_9541_11ea_a3fe_0242ac1c0002row3_col3\" class=\"data row3 col3\" >193</td>\n",
       "                        <td id=\"T_e82e691c_9541_11ea_a3fe_0242ac1c0002row3_col4\" class=\"data row3 col4\" >20</td>\n",
       "                        <td id=\"T_e82e691c_9541_11ea_a3fe_0242ac1c0002row3_col5\" class=\"data row3 col5\" >93</td>\n",
       "            </tr>\n",
       "            <tr>\n",
       "                        <th id=\"T_e82e691c_9541_11ea_a3fe_0242ac1c0002level0_row4\" class=\"row_heading level0 row4\" >4</th>\n",
       "                        <td id=\"T_e82e691c_9541_11ea_a3fe_0242ac1c0002row4_col0\" class=\"data row4 col0\" >14</td>\n",
       "                        <td id=\"T_e82e691c_9541_11ea_a3fe_0242ac1c0002row4_col1\" class=\"data row4 col1\" >12</td>\n",
       "                        <td id=\"T_e82e691c_9541_11ea_a3fe_0242ac1c0002row4_col2\" class=\"data row4 col2\" >2</td>\n",
       "                        <td id=\"T_e82e691c_9541_11ea_a3fe_0242ac1c0002row4_col3\" class=\"data row4 col3\" >10</td>\n",
       "                        <td id=\"T_e82e691c_9541_11ea_a3fe_0242ac1c0002row4_col4\" class=\"data row4 col4\" >376</td>\n",
       "                        <td id=\"T_e82e691c_9541_11ea_a3fe_0242ac1c0002row4_col5\" class=\"data row4 col5\" >56</td>\n",
       "            </tr>\n",
       "            <tr>\n",
       "                        <th id=\"T_e82e691c_9541_11ea_a3fe_0242ac1c0002level0_row5\" class=\"row_heading level0 row5\" >5</th>\n",
       "                        <td id=\"T_e82e691c_9541_11ea_a3fe_0242ac1c0002row5_col0\" class=\"data row5 col0\" >0</td>\n",
       "                        <td id=\"T_e82e691c_9541_11ea_a3fe_0242ac1c0002row5_col1\" class=\"data row5 col1\" >0</td>\n",
       "                        <td id=\"T_e82e691c_9541_11ea_a3fe_0242ac1c0002row5_col2\" class=\"data row5 col2\" >28</td>\n",
       "                        <td id=\"T_e82e691c_9541_11ea_a3fe_0242ac1c0002row5_col3\" class=\"data row5 col3\" >94</td>\n",
       "                        <td id=\"T_e82e691c_9541_11ea_a3fe_0242ac1c0002row5_col4\" class=\"data row5 col4\" >28</td>\n",
       "                        <td id=\"T_e82e691c_9541_11ea_a3fe_0242ac1c0002row5_col5\" class=\"data row5 col5\" >888</td>\n",
       "            </tr>\n",
       "    </tbody></table>"
      ],
      "text/plain": [
       "<pandas.io.formats.style.Styler at 0x7f30eb9f2860>"
      ]
     },
     "metadata": {
      "tags": []
     },
     "output_type": "display_data"
    },
    {
     "name": "stdout",
     "output_type": "stream",
     "text": [
      "Testing confusion matrix:\n"
     ]
    },
    {
     "data": {
      "text/html": [
       "<style  type=\"text/css\" >\n",
       "    #T_e831e3da_9541_11ea_a3fe_0242ac1c0002row0_col0 {\n",
       "            background-color:  #ff0000;\n",
       "            color:  #f1f1f1;\n",
       "        }    #T_e831e3da_9541_11ea_a3fe_0242ac1c0002row0_col1 {\n",
       "            background-color:  #ffe5e5;\n",
       "            color:  #000000;\n",
       "        }    #T_e831e3da_9541_11ea_a3fe_0242ac1c0002row0_col2 {\n",
       "            background-color:  #ffe5e5;\n",
       "            color:  #000000;\n",
       "        }    #T_e831e3da_9541_11ea_a3fe_0242ac1c0002row0_col3 {\n",
       "            background-color:  #ffe5e5;\n",
       "            color:  #000000;\n",
       "        }    #T_e831e3da_9541_11ea_a3fe_0242ac1c0002row0_col4 {\n",
       "            background-color:  #ffe5e5;\n",
       "            color:  #000000;\n",
       "        }    #T_e831e3da_9541_11ea_a3fe_0242ac1c0002row0_col5 {\n",
       "            background-color:  #ffe5e5;\n",
       "            color:  #000000;\n",
       "        }    #T_e831e3da_9541_11ea_a3fe_0242ac1c0002row1_col0 {\n",
       "            background-color:  #ffe5e5;\n",
       "            color:  #000000;\n",
       "        }    #T_e831e3da_9541_11ea_a3fe_0242ac1c0002row1_col1 {\n",
       "            background-color:  #ff0000;\n",
       "            color:  #f1f1f1;\n",
       "        }    #T_e831e3da_9541_11ea_a3fe_0242ac1c0002row1_col2 {\n",
       "            background-color:  #ffe5e5;\n",
       "            color:  #000000;\n",
       "        }    #T_e831e3da_9541_11ea_a3fe_0242ac1c0002row1_col3 {\n",
       "            background-color:  #ffe4e4;\n",
       "            color:  #000000;\n",
       "        }    #T_e831e3da_9541_11ea_a3fe_0242ac1c0002row1_col4 {\n",
       "            background-color:  #ffdbdb;\n",
       "            color:  #000000;\n",
       "        }    #T_e831e3da_9541_11ea_a3fe_0242ac1c0002row1_col5 {\n",
       "            background-color:  #ffe5e5;\n",
       "            color:  #000000;\n",
       "        }    #T_e831e3da_9541_11ea_a3fe_0242ac1c0002row2_col0 {\n",
       "            background-color:  #ffe5e5;\n",
       "            color:  #000000;\n",
       "        }    #T_e831e3da_9541_11ea_a3fe_0242ac1c0002row2_col1 {\n",
       "            background-color:  #ffe5e5;\n",
       "            color:  #000000;\n",
       "        }    #T_e831e3da_9541_11ea_a3fe_0242ac1c0002row2_col2 {\n",
       "            background-color:  #ff0000;\n",
       "            color:  #f1f1f1;\n",
       "        }    #T_e831e3da_9541_11ea_a3fe_0242ac1c0002row2_col3 {\n",
       "            background-color:  #ffc4c4;\n",
       "            color:  #000000;\n",
       "        }    #T_e831e3da_9541_11ea_a3fe_0242ac1c0002row2_col4 {\n",
       "            background-color:  #ffe5e5;\n",
       "            color:  #000000;\n",
       "        }    #T_e831e3da_9541_11ea_a3fe_0242ac1c0002row2_col5 {\n",
       "            background-color:  #ffe4e4;\n",
       "            color:  #000000;\n",
       "        }    #T_e831e3da_9541_11ea_a3fe_0242ac1c0002row3_col0 {\n",
       "            background-color:  #ffe5e5;\n",
       "            color:  #000000;\n",
       "        }    #T_e831e3da_9541_11ea_a3fe_0242ac1c0002row3_col1 {\n",
       "            background-color:  #ffe5e5;\n",
       "            color:  #000000;\n",
       "        }    #T_e831e3da_9541_11ea_a3fe_0242ac1c0002row3_col2 {\n",
       "            background-color:  #ffcaca;\n",
       "            color:  #000000;\n",
       "        }    #T_e831e3da_9541_11ea_a3fe_0242ac1c0002row3_col3 {\n",
       "            background-color:  #ff0000;\n",
       "            color:  #f1f1f1;\n",
       "        }    #T_e831e3da_9541_11ea_a3fe_0242ac1c0002row3_col4 {\n",
       "            background-color:  #ffdddd;\n",
       "            color:  #000000;\n",
       "        }    #T_e831e3da_9541_11ea_a3fe_0242ac1c0002row3_col5 {\n",
       "            background-color:  #ffc3c3;\n",
       "            color:  #000000;\n",
       "        }    #T_e831e3da_9541_11ea_a3fe_0242ac1c0002row4_col0 {\n",
       "            background-color:  #ffe2e2;\n",
       "            color:  #000000;\n",
       "        }    #T_e831e3da_9541_11ea_a3fe_0242ac1c0002row4_col1 {\n",
       "            background-color:  #ffdddd;\n",
       "            color:  #000000;\n",
       "        }    #T_e831e3da_9541_11ea_a3fe_0242ac1c0002row4_col2 {\n",
       "            background-color:  #ffe5e5;\n",
       "            color:  #000000;\n",
       "        }    #T_e831e3da_9541_11ea_a3fe_0242ac1c0002row4_col3 {\n",
       "            background-color:  #ffdada;\n",
       "            color:  #000000;\n",
       "        }    #T_e831e3da_9541_11ea_a3fe_0242ac1c0002row4_col4 {\n",
       "            background-color:  #ff0000;\n",
       "            color:  #f1f1f1;\n",
       "        }    #T_e831e3da_9541_11ea_a3fe_0242ac1c0002row4_col5 {\n",
       "            background-color:  #ffd6d6;\n",
       "            color:  #000000;\n",
       "        }    #T_e831e3da_9541_11ea_a3fe_0242ac1c0002row5_col0 {\n",
       "            background-color:  #ffe5e5;\n",
       "            color:  #000000;\n",
       "        }    #T_e831e3da_9541_11ea_a3fe_0242ac1c0002row5_col1 {\n",
       "            background-color:  #ffe5e5;\n",
       "            color:  #000000;\n",
       "        }    #T_e831e3da_9541_11ea_a3fe_0242ac1c0002row5_col2 {\n",
       "            background-color:  #ffdcdc;\n",
       "            color:  #000000;\n",
       "        }    #T_e831e3da_9541_11ea_a3fe_0242ac1c0002row5_col3 {\n",
       "            background-color:  #ff8d8d;\n",
       "            color:  #000000;\n",
       "        }    #T_e831e3da_9541_11ea_a3fe_0242ac1c0002row5_col4 {\n",
       "            background-color:  #ffd7d7;\n",
       "            color:  #000000;\n",
       "        }    #T_e831e3da_9541_11ea_a3fe_0242ac1c0002row5_col5 {\n",
       "            background-color:  #ff0000;\n",
       "            color:  #f1f1f1;\n",
       "        }</style><table id=\"T_e831e3da_9541_11ea_a3fe_0242ac1c0002\" ><thead>    <tr>        <th class=\"blank level0\" ></th>        <th class=\"col_heading level0 col0\" >0</th>        <th class=\"col_heading level0 col1\" >1</th>        <th class=\"col_heading level0 col2\" >2</th>        <th class=\"col_heading level0 col3\" >3</th>        <th class=\"col_heading level0 col4\" >4</th>        <th class=\"col_heading level0 col5\" >5</th>    </tr></thead><tbody>\n",
       "                <tr>\n",
       "                        <th id=\"T_e831e3da_9541_11ea_a3fe_0242ac1c0002level0_row0\" class=\"row_heading level0 row0\" >0</th>\n",
       "                        <td id=\"T_e831e3da_9541_11ea_a3fe_0242ac1c0002row0_col0\" class=\"data row0 col0\" >459</td>\n",
       "                        <td id=\"T_e831e3da_9541_11ea_a3fe_0242ac1c0002row0_col1\" class=\"data row0 col1\" >0</td>\n",
       "                        <td id=\"T_e831e3da_9541_11ea_a3fe_0242ac1c0002row0_col2\" class=\"data row0 col2\" >1</td>\n",
       "                        <td id=\"T_e831e3da_9541_11ea_a3fe_0242ac1c0002row0_col3\" class=\"data row0 col3\" >0</td>\n",
       "                        <td id=\"T_e831e3da_9541_11ea_a3fe_0242ac1c0002row0_col4\" class=\"data row0 col4\" >1</td>\n",
       "                        <td id=\"T_e831e3da_9541_11ea_a3fe_0242ac1c0002row0_col5\" class=\"data row0 col5\" >0</td>\n",
       "            </tr>\n",
       "            <tr>\n",
       "                        <th id=\"T_e831e3da_9541_11ea_a3fe_0242ac1c0002level0_row1\" class=\"row_heading level0 row1\" >1</th>\n",
       "                        <td id=\"T_e831e3da_9541_11ea_a3fe_0242ac1c0002row1_col0\" class=\"data row1 col0\" >0</td>\n",
       "                        <td id=\"T_e831e3da_9541_11ea_a3fe_0242ac1c0002row1_col1\" class=\"data row1 col1\" >211</td>\n",
       "                        <td id=\"T_e831e3da_9541_11ea_a3fe_0242ac1c0002row1_col2\" class=\"data row1 col2\" >1</td>\n",
       "                        <td id=\"T_e831e3da_9541_11ea_a3fe_0242ac1c0002row1_col3\" class=\"data row1 col3\" >1</td>\n",
       "                        <td id=\"T_e831e3da_9541_11ea_a3fe_0242ac1c0002row1_col4\" class=\"data row1 col4\" >10</td>\n",
       "                        <td id=\"T_e831e3da_9541_11ea_a3fe_0242ac1c0002row1_col5\" class=\"data row1 col5\" >1</td>\n",
       "            </tr>\n",
       "            <tr>\n",
       "                        <th id=\"T_e831e3da_9541_11ea_a3fe_0242ac1c0002level0_row2\" class=\"row_heading level0 row2\" >2</th>\n",
       "                        <td id=\"T_e831e3da_9541_11ea_a3fe_0242ac1c0002row2_col0\" class=\"data row2 col0\" >3</td>\n",
       "                        <td id=\"T_e831e3da_9541_11ea_a3fe_0242ac1c0002row2_col1\" class=\"data row2 col1\" >1</td>\n",
       "                        <td id=\"T_e831e3da_9541_11ea_a3fe_0242ac1c0002row2_col2\" class=\"data row2 col2\" >374</td>\n",
       "                        <td id=\"T_e831e3da_9541_11ea_a3fe_0242ac1c0002row2_col3\" class=\"data row2 col3\" >14</td>\n",
       "                        <td id=\"T_e831e3da_9541_11ea_a3fe_0242ac1c0002row2_col4\" class=\"data row2 col4\" >1</td>\n",
       "                        <td id=\"T_e831e3da_9541_11ea_a3fe_0242ac1c0002row2_col5\" class=\"data row2 col5\" >4</td>\n",
       "            </tr>\n",
       "            <tr>\n",
       "                        <th id=\"T_e831e3da_9541_11ea_a3fe_0242ac1c0002level0_row3\" class=\"row_heading level0 row3\" >3</th>\n",
       "                        <td id=\"T_e831e3da_9541_11ea_a3fe_0242ac1c0002row3_col0\" class=\"data row3 col0\" >0</td>\n",
       "                        <td id=\"T_e831e3da_9541_11ea_a3fe_0242ac1c0002row3_col1\" class=\"data row3 col1\" >0</td>\n",
       "                        <td id=\"T_e831e3da_9541_11ea_a3fe_0242ac1c0002row3_col2\" class=\"data row3 col2\" >46</td>\n",
       "                        <td id=\"T_e831e3da_9541_11ea_a3fe_0242ac1c0002row3_col3\" class=\"data row3 col3\" >96</td>\n",
       "                        <td id=\"T_e831e3da_9541_11ea_a3fe_0242ac1c0002row3_col4\" class=\"data row3 col4\" >8</td>\n",
       "                        <td id=\"T_e831e3da_9541_11ea_a3fe_0242ac1c0002row3_col5\" class=\"data row3 col5\" >61</td>\n",
       "            </tr>\n",
       "            <tr>\n",
       "                        <th id=\"T_e831e3da_9541_11ea_a3fe_0242ac1c0002level0_row4\" class=\"row_heading level0 row4\" >4</th>\n",
       "                        <td id=\"T_e831e3da_9541_11ea_a3fe_0242ac1c0002row4_col0\" class=\"data row4 col0\" >8</td>\n",
       "                        <td id=\"T_e831e3da_9541_11ea_a3fe_0242ac1c0002row4_col1\" class=\"data row4 col1\" >8</td>\n",
       "                        <td id=\"T_e831e3da_9541_11ea_a3fe_0242ac1c0002row4_col2\" class=\"data row4 col2\" >3</td>\n",
       "                        <td id=\"T_e831e3da_9541_11ea_a3fe_0242ac1c0002row4_col3\" class=\"data row4 col3\" >5</td>\n",
       "                        <td id=\"T_e831e3da_9541_11ea_a3fe_0242ac1c0002row4_col4\" class=\"data row4 col4\" >186</td>\n",
       "                        <td id=\"T_e831e3da_9541_11ea_a3fe_0242ac1c0002row4_col5\" class=\"data row4 col5\" >27</td>\n",
       "            </tr>\n",
       "            <tr>\n",
       "                        <th id=\"T_e831e3da_9541_11ea_a3fe_0242ac1c0002level0_row5\" class=\"row_heading level0 row5\" >5</th>\n",
       "                        <td id=\"T_e831e3da_9541_11ea_a3fe_0242ac1c0002row5_col0\" class=\"data row5 col0\" >0</td>\n",
       "                        <td id=\"T_e831e3da_9541_11ea_a3fe_0242ac1c0002row5_col1\" class=\"data row5 col1\" >0</td>\n",
       "                        <td id=\"T_e831e3da_9541_11ea_a3fe_0242ac1c0002row5_col2\" class=\"data row5 col2\" >16</td>\n",
       "                        <td id=\"T_e831e3da_9541_11ea_a3fe_0242ac1c0002row5_col3\" class=\"data row5 col3\" >37</td>\n",
       "                        <td id=\"T_e831e3da_9541_11ea_a3fe_0242ac1c0002row5_col4\" class=\"data row5 col4\" >13</td>\n",
       "                        <td id=\"T_e831e3da_9541_11ea_a3fe_0242ac1c0002row5_col5\" class=\"data row5 col5\" >404</td>\n",
       "            </tr>\n",
       "    </tbody></table>"
      ],
      "text/plain": [
       "<pandas.io.formats.style.Styler at 0x7f30ebad4198>"
      ]
     },
     "metadata": {
      "tags": []
     },
     "output_type": "display_data"
    }
   ],
   "source": [
    "print(\"Training confusion matrix:\")\n",
    "display(x_tr2)\n",
    "\n",
    "print(\"Testing confusion matrix:\")\n",
    "display(x_ts2)\n"
   ]
  },
  {
   "cell_type": "markdown",
   "metadata": {
    "colab_type": "text",
    "id": "S_Ob8VtMENus"
   },
   "source": [
    "The model for the second view takes less time and gives us a better performance, the best parameters are the same for both views: {'C': 1, 'gamma': 1, 'kernel': 'rbf'}. The number of true positives is higher in this model and there is specially a good distinction between very damp grey soil - red soil, and very damp grey soil - cotton crop in both models. Moreover, in this second model with the context, the number of false positives and false negatives between red soil and very damp grey soil is 0 and very low for the case of very damp grey soil and cotton crop while these numbers are not that low in the first model."
   ]
  },
  {
   "cell_type": "markdown",
   "metadata": {
    "colab_type": "text",
    "id": "puH6X9Tj1Gm2"
   },
   "source": [
    "\n",
    "\n",
    "\n",
    "\n",
    "# Design of an *ad hoc* kernel"
   ]
  },
  {
   "cell_type": "markdown",
   "metadata": {
    "colab_type": "text",
    "id": "11ea0NQN1Gm3"
   },
   "source": [
    "In this section we are going to design a kernel that combines the two sources of information: spectral signature and context in the same SVM.\n",
    "\n",
    "We are exploiting a feature that says that a linear combination of kernels is a kernel. Therefore we are constructing a framework to combine RBF kernels with different values of $\\gamma$, one for the spectral features and another for the context. Therefore\n",
    "$$\\kappa(\\mathbf x_i, \\mathbf x_j) = \\mu\\kappa^s(\\mathbf x^{s}_i, \\mathbf x^{s}_j) + (1-\\mu)\\kappa^c(\\mathbf x^{c}_i, \\mathbf x^{c}_j)$$\n",
    "where:\n",
    "- $\\kappa^s$ is the kernel that acts in the spectral information\n",
    "- $\\kappa^c$ is the kernel that acts in the contextual information\n",
    "- $\\mathbf x^{s}_i$ is the spectral signature of patch $\\mathbf x_i$\n",
    "- $\\mathbf x^{c}_i$ is the contextual information of patch $\\mathbf x_i$ (averages of pixels surrounding the central pixel of the patch)\n",
    "- $\\mu \\in [0,1]$ is the combination coefficient. The extreme values $\\mu=0$ and $\\mu=1$ mean only one of the two views is actually used for in the classification."
   ]
  },
  {
   "cell_type": "markdown",
   "metadata": {
    "colab_type": "text",
    "id": "xAACd-Qb63b5"
   },
   "source": [
    "## First step: implementation of the RBF kernel"
   ]
  },
  {
   "cell_type": "markdown",
   "metadata": {
    "colab_type": "text",
    "id": "yG7z96Yk1Gm3"
   },
   "source": [
    "Implement a function called rbf_kernel that gets as parameters the kernel spread parameter $\\gamma$ and two numpy arrays (X and Z) of the same dimension and outputs the kernel matrix where the rows are indexed by the first array and the columns by the second one. If K is the numpy array output by this function, its element $(i,j)$ follows:\n",
    "\n",
    "$$K_{i,j} = \\exp\\{-\\gamma\\|\\mathbf x_i - \\mathbf z_j\\|^2\\}$$\n",
    "\n",
    "where:\n",
    "- $\\mathbf x_i$ is the $i$-th row of X,\n",
    "- $\\mathbf z_j$ is the $j$-th row of Z\n",
    "\n"
   ]
  },
  {
   "cell_type": "code",
   "execution_count": 0,
   "metadata": {
    "colab": {},
    "colab_type": "code",
    "id": "pF8KACaA1Gm4"
   },
   "outputs": [],
   "source": [
    "def rbf_kernel(x,z,gamma): \n",
    "    \"\"\"\n",
    "    YOUR CODE\n",
    "    \"\"\"\n",
    "    K = np.zeros((len(x),len(z)))\n",
    "    for i in range(len(x)):\n",
    "      for j in range(len(z)):\n",
    "        K[i,j] = np.exp(-gamma*np.linalg.norm(x[i]-z[j])**2)\n",
    "    return K"
   ]
  },
  {
   "cell_type": "markdown",
   "metadata": {
    "colab_type": "text",
    "id": "N_pgUr6hCpUw"
   },
   "source": [
    "## Second step: construct an ad hoc kernel matrix\n",
    "\n",
    "In this step we construct the new kernel matrix K as a linear combination of the two kernel matrix corresponding to each view. \n",
    "\n",
    "Using the above coded rbf_kernel compute:\n",
    "- $K_s$: training set kernel matrix of the spectral features, the data are Xtrain_n and $\\gamma$ the one you obtained in best_parameters\n",
    "- $K_c$: training set kernel matrix of the context features, the data are Context_train_n and $\\gamma$ the one you obtained in best_parameters_context\n",
    "- $K = \\mu K_s + (1-\\mu)K_c$. Choose a value for $\\mu$ in $[0,1]$"
   ]
  },
  {
   "cell_type": "code",
   "execution_count": 0,
   "metadata": {
    "colab": {},
    "colab_type": "code",
    "id": "mhVZfcMxnGoS"
   },
   "outputs": [],
   "source": [
    "\"\"\"\n",
    "YOUR CODE\n",
    "\"\"\"\n",
    "K_s = rbf_kernel(Xtrain_n,Xtrain_n,best_params['gamma'])\n",
    "K_c = rbf_kernel(Context_train_n,Context_train_n,context_best_params['gamma'])\n",
    "mu = 0.5\n",
    "K = mu*K_s+(1-mu)*K_c"
   ]
  },
  {
   "cell_type": "code",
   "execution_count": 23,
   "metadata": {
    "colab": {
     "base_uri": "https://localhost:8080/",
     "height": 32
    },
    "colab_type": "code",
    "id": "afpIi-jwkh9i",
    "outputId": "dca1007e-7edb-435a-a21e-c8aa078d7944"
   },
   "outputs": [
    {
     "name": "stdout",
     "output_type": "stream",
     "text": [
      "Final kernel shape  (4435, 4435)\n"
     ]
    }
   ],
   "source": [
    "print('Final kernel shape ',K.shape)"
   ]
  },
  {
   "cell_type": "markdown",
   "metadata": {
    "colab_type": "text",
    "id": "3biwiE_9GuQy"
   },
   "source": [
    "Now create a SVC with 'kernel'='precomputed', 'C' set to any reasonable value. And fit it with K and the labels of the training set. Precomputed kernel means that instead of calling the fit, predict and score method of the inner svm with data matrices (as we've done before), we will call them with the corresponding kernel matrices. Read about it in the sklearn documentation. This gives a great flexibility to compute *ad hoc* kernel matrices."
   ]
  },
  {
   "cell_type": "code",
   "execution_count": 24,
   "metadata": {
    "colab": {
     "base_uri": "https://localhost:8080/",
     "height": 49
    },
    "colab_type": "code",
    "id": "8E6U6PPmG8Tv",
    "outputId": "9553eff3-2055-44f1-dae7-edd9d6cd1327"
   },
   "outputs": [
    {
     "name": "stdout",
     "output_type": "stream",
     "text": [
      "Execution time: 6.456965\n",
      "Best parameters: {'C': 10}\n"
     ]
    }
   ],
   "source": [
    "\"\"\"\n",
    "YOUR CODE\n",
    "- instantiate the classifier\n",
    "- call fit\n",
    "\"\"\"\n",
    "param_grid = [{'C': v_C,}]\n",
    "\n",
    "t1 = time.time()\n",
    "#instantiation of the grid of hyperparameters that will be searched with cross validation\n",
    "SVC_grid_clsf = GridSearchCV(\n",
    "        SVC(kernel='precomputed'), # machine learning object, it needs to implement methods fit, predict and score \n",
    "        param_grid, # grid of hyperparameters\n",
    "        cv = 5) \n",
    "\n",
    "# visit all the nodes in the grid and estimate the true generalization error of a SVM trained with the hyperparameters of the node\n",
    "SVC_grid_clsf.fit(K, ytrain)\n",
    "t2 = time.time()\n",
    "tf3 = t2-t1\n",
    "print('Execution time: {0:2f}'.format(tf3))\n",
    "\n",
    "SVC_classifier = SVC_grid_clsf.best_estimator_\n",
    "\n",
    "SVC_best_params = SVC_grid_clsf.best_params_\n",
    "print('Best parameters:',SVC_best_params)"
   ]
  },
  {
   "cell_type": "markdown",
   "metadata": {
    "colab_type": "text",
    "id": "69TXECKJHVoI"
   },
   "source": [
    "Evaluate the error in the training set and in the test set. Notice you need to construct an appropriate kernel matrix with the **test set**."
   ]
  },
  {
   "cell_type": "code",
   "execution_count": 25,
   "metadata": {
    "colab": {
     "base_uri": "https://localhost:8080/",
     "height": 82
    },
    "colab_type": "code",
    "id": "nd7NUeE550LP",
    "outputId": "e4248aec-96b0-41cf-d28d-f2dd15307120"
   },
   "outputs": [
    {
     "name": "stdout",
     "output_type": "stream",
     "text": [
      "\t CE train: 0.19\n",
      "\t CE test: 0.28\n",
      "\t Training set accuracy 91.77 %\n",
      "\t Test set accuracy 88.10 %\n"
     ]
    }
   ],
   "source": [
    "#Training error\n",
    "SVC_kernel_train_n_pred = SVC_grid_clsf.predict(K)\n",
    "SVC_kernel_error_train_set = metrics.mean_absolute_error(ytrain,SVC_kernel_train_n_pred)\n",
    "\n",
    "K_s_test = rbf_kernel(Xtest_n,Xtrain_n,best_params['gamma']) \n",
    "K_c_test = rbf_kernel(Context_test_n,Context_train_n,context_best_params['gamma'])\n",
    "mu = 0.5\n",
    "K_test = mu*K_s_test+(1-mu)*K_c_test\n",
    "\n",
    "#Testing error\n",
    "SVC_kernel_test_n_pred = SVC_grid_clsf.predict(K_test)\n",
    "SVC_kernel_error_test_set = metrics.mean_absolute_error(ytest,SVC_kernel_test_n_pred)\n",
    "\n",
    "SVC_acc_train_set = SVC_classifier.score(K, ytrain)\n",
    "SVC_acc_test_set = SVC_classifier.score(K_test, ytest)\n",
    "\n",
    "print(\"\\t CE train: {0:.2f}\".format(SVC_kernel_error_train_set))\n",
    "print(\"\\t CE test: {0:.2f}\".format(SVC_kernel_error_test_set))\n",
    "print(\"\\t Training set accuracy {0:.2f} %\".format(SVC_acc_train_set*100))\n",
    "print(\"\\t Test set accuracy {0:.2f} %\".format(SVC_acc_test_set*100))\n",
    "\n",
    "conf_tr3 = metrics.confusion_matrix(ytrain, SVC_kernel_train_n_pred)\n",
    "cm_tr3 = sns.light_palette(\"red\", as_cmap=True)\n",
    "x_tr3 = pd.DataFrame(conf_tr3)\n",
    "x_tr3 = x_tr3.style.background_gradient(cmap=cm_tr3)\n",
    "\n",
    "conf_ts3 = metrics.confusion_matrix(ytest, SVC_kernel_test_n_pred)\n",
    "cm_ts3 = sns.light_palette(\"red\", as_cmap=True)\n",
    "x_ts3 = pd.DataFrame(conf_ts3)\n",
    "x_ts3 = x_ts3.style.background_gradient(cmap=cm_ts3)\n",
    "\n",
    "fscore_tr3 = metrics.precision_recall_fscore_support(ytrain, SVC_kernel_train_n_pred)\n",
    "fscore_ts3 = metrics.precision_recall_fscore_support(ytest, SVC_kernel_test_n_pred)"
   ]
  },
  {
   "cell_type": "code",
   "execution_count": 26,
   "metadata": {
    "colab": {
     "base_uri": "https://localhost:8080/",
     "height": 438
    },
    "colab_type": "code",
    "id": "FXMMw6ey0ibM",
    "outputId": "d5fd38a4-8f9a-4a2f-d6bc-1acf12300c11"
   },
   "outputs": [
    {
     "name": "stdout",
     "output_type": "stream",
     "text": [
      "Training confusion matrix:\n"
     ]
    },
    {
     "data": {
      "text/html": [
       "<style  type=\"text/css\" >\n",
       "    #T_4595fdb2_9543_11ea_a3fe_0242ac1c0002row0_col0 {\n",
       "            background-color:  #ff0000;\n",
       "            color:  #f1f1f1;\n",
       "        }    #T_4595fdb2_9543_11ea_a3fe_0242ac1c0002row0_col1 {\n",
       "            background-color:  #ffe5e5;\n",
       "            color:  #000000;\n",
       "        }    #T_4595fdb2_9543_11ea_a3fe_0242ac1c0002row0_col2 {\n",
       "            background-color:  #ffe4e4;\n",
       "            color:  #000000;\n",
       "        }    #T_4595fdb2_9543_11ea_a3fe_0242ac1c0002row0_col3 {\n",
       "            background-color:  #ffe5e5;\n",
       "            color:  #000000;\n",
       "        }    #T_4595fdb2_9543_11ea_a3fe_0242ac1c0002row0_col4 {\n",
       "            background-color:  #ffe5e5;\n",
       "            color:  #000000;\n",
       "        }    #T_4595fdb2_9543_11ea_a3fe_0242ac1c0002row0_col5 {\n",
       "            background-color:  #ffe5e5;\n",
       "            color:  #000000;\n",
       "        }    #T_4595fdb2_9543_11ea_a3fe_0242ac1c0002row1_col0 {\n",
       "            background-color:  #ffe5e5;\n",
       "            color:  #000000;\n",
       "        }    #T_4595fdb2_9543_11ea_a3fe_0242ac1c0002row1_col1 {\n",
       "            background-color:  #ff0000;\n",
       "            color:  #f1f1f1;\n",
       "        }    #T_4595fdb2_9543_11ea_a3fe_0242ac1c0002row1_col2 {\n",
       "            background-color:  #ffe5e5;\n",
       "            color:  #000000;\n",
       "        }    #T_4595fdb2_9543_11ea_a3fe_0242ac1c0002row1_col3 {\n",
       "            background-color:  #ffe5e5;\n",
       "            color:  #000000;\n",
       "        }    #T_4595fdb2_9543_11ea_a3fe_0242ac1c0002row1_col4 {\n",
       "            background-color:  #ffe2e2;\n",
       "            color:  #000000;\n",
       "        }    #T_4595fdb2_9543_11ea_a3fe_0242ac1c0002row1_col5 {\n",
       "            background-color:  #ffe5e5;\n",
       "            color:  #000000;\n",
       "        }    #T_4595fdb2_9543_11ea_a3fe_0242ac1c0002row2_col0 {\n",
       "            background-color:  #ffe5e5;\n",
       "            color:  #000000;\n",
       "        }    #T_4595fdb2_9543_11ea_a3fe_0242ac1c0002row2_col1 {\n",
       "            background-color:  #ffe5e5;\n",
       "            color:  #000000;\n",
       "        }    #T_4595fdb2_9543_11ea_a3fe_0242ac1c0002row2_col2 {\n",
       "            background-color:  #ff0000;\n",
       "            color:  #f1f1f1;\n",
       "        }    #T_4595fdb2_9543_11ea_a3fe_0242ac1c0002row2_col3 {\n",
       "            background-color:  #ffd3d3;\n",
       "            color:  #000000;\n",
       "        }    #T_4595fdb2_9543_11ea_a3fe_0242ac1c0002row2_col4 {\n",
       "            background-color:  #ffe5e5;\n",
       "            color:  #000000;\n",
       "        }    #T_4595fdb2_9543_11ea_a3fe_0242ac1c0002row2_col5 {\n",
       "            background-color:  #ffe5e5;\n",
       "            color:  #000000;\n",
       "        }    #T_4595fdb2_9543_11ea_a3fe_0242ac1c0002row3_col0 {\n",
       "            background-color:  #ffe5e5;\n",
       "            color:  #000000;\n",
       "        }    #T_4595fdb2_9543_11ea_a3fe_0242ac1c0002row3_col1 {\n",
       "            background-color:  #ffe5e5;\n",
       "            color:  #000000;\n",
       "        }    #T_4595fdb2_9543_11ea_a3fe_0242ac1c0002row3_col2 {\n",
       "            background-color:  #ffd0d0;\n",
       "            color:  #000000;\n",
       "        }    #T_4595fdb2_9543_11ea_a3fe_0242ac1c0002row3_col3 {\n",
       "            background-color:  #ff0000;\n",
       "            color:  #f1f1f1;\n",
       "        }    #T_4595fdb2_9543_11ea_a3fe_0242ac1c0002row3_col4 {\n",
       "            background-color:  #ffe5e5;\n",
       "            color:  #000000;\n",
       "        }    #T_4595fdb2_9543_11ea_a3fe_0242ac1c0002row3_col5 {\n",
       "            background-color:  #ffd6d6;\n",
       "            color:  #000000;\n",
       "        }    #T_4595fdb2_9543_11ea_a3fe_0242ac1c0002row4_col0 {\n",
       "            background-color:  #ffe5e5;\n",
       "            color:  #000000;\n",
       "        }    #T_4595fdb2_9543_11ea_a3fe_0242ac1c0002row4_col1 {\n",
       "            background-color:  #ffe5e5;\n",
       "            color:  #000000;\n",
       "        }    #T_4595fdb2_9543_11ea_a3fe_0242ac1c0002row4_col2 {\n",
       "            background-color:  #ffe5e5;\n",
       "            color:  #000000;\n",
       "        }    #T_4595fdb2_9543_11ea_a3fe_0242ac1c0002row4_col3 {\n",
       "            background-color:  #ffe5e5;\n",
       "            color:  #000000;\n",
       "        }    #T_4595fdb2_9543_11ea_a3fe_0242ac1c0002row4_col4 {\n",
       "            background-color:  #ff0000;\n",
       "            color:  #f1f1f1;\n",
       "        }    #T_4595fdb2_9543_11ea_a3fe_0242ac1c0002row4_col5 {\n",
       "            background-color:  #ffdddd;\n",
       "            color:  #000000;\n",
       "        }    #T_4595fdb2_9543_11ea_a3fe_0242ac1c0002row5_col0 {\n",
       "            background-color:  #ffe5e5;\n",
       "            color:  #000000;\n",
       "        }    #T_4595fdb2_9543_11ea_a3fe_0242ac1c0002row5_col1 {\n",
       "            background-color:  #ffe5e5;\n",
       "            color:  #000000;\n",
       "        }    #T_4595fdb2_9543_11ea_a3fe_0242ac1c0002row5_col2 {\n",
       "            background-color:  #ffe1e1;\n",
       "            color:  #000000;\n",
       "        }    #T_4595fdb2_9543_11ea_a3fe_0242ac1c0002row5_col3 {\n",
       "            background-color:  #ffa4a4;\n",
       "            color:  #000000;\n",
       "        }    #T_4595fdb2_9543_11ea_a3fe_0242ac1c0002row5_col4 {\n",
       "            background-color:  #ffdede;\n",
       "            color:  #000000;\n",
       "        }    #T_4595fdb2_9543_11ea_a3fe_0242ac1c0002row5_col5 {\n",
       "            background-color:  #ff0000;\n",
       "            color:  #f1f1f1;\n",
       "        }</style><table id=\"T_4595fdb2_9543_11ea_a3fe_0242ac1c0002\" ><thead>    <tr>        <th class=\"blank level0\" ></th>        <th class=\"col_heading level0 col0\" >0</th>        <th class=\"col_heading level0 col1\" >1</th>        <th class=\"col_heading level0 col2\" >2</th>        <th class=\"col_heading level0 col3\" >3</th>        <th class=\"col_heading level0 col4\" >4</th>        <th class=\"col_heading level0 col5\" >5</th>    </tr></thead><tbody>\n",
       "                <tr>\n",
       "                        <th id=\"T_4595fdb2_9543_11ea_a3fe_0242ac1c0002level0_row0\" class=\"row_heading level0 row0\" >0</th>\n",
       "                        <td id=\"T_4595fdb2_9543_11ea_a3fe_0242ac1c0002row0_col0\" class=\"data row0 col0\" >1061</td>\n",
       "                        <td id=\"T_4595fdb2_9543_11ea_a3fe_0242ac1c0002row0_col1\" class=\"data row0 col1\" >0</td>\n",
       "                        <td id=\"T_4595fdb2_9543_11ea_a3fe_0242ac1c0002row0_col2\" class=\"data row0 col2\" >8</td>\n",
       "                        <td id=\"T_4595fdb2_9543_11ea_a3fe_0242ac1c0002row0_col3\" class=\"data row0 col3\" >0</td>\n",
       "                        <td id=\"T_4595fdb2_9543_11ea_a3fe_0242ac1c0002row0_col4\" class=\"data row0 col4\" >3</td>\n",
       "                        <td id=\"T_4595fdb2_9543_11ea_a3fe_0242ac1c0002row0_col5\" class=\"data row0 col5\" >0</td>\n",
       "            </tr>\n",
       "            <tr>\n",
       "                        <th id=\"T_4595fdb2_9543_11ea_a3fe_0242ac1c0002level0_row1\" class=\"row_heading level0 row1\" >1</th>\n",
       "                        <td id=\"T_4595fdb2_9543_11ea_a3fe_0242ac1c0002row1_col0\" class=\"data row1 col0\" >0</td>\n",
       "                        <td id=\"T_4595fdb2_9543_11ea_a3fe_0242ac1c0002row1_col1\" class=\"data row1 col1\" >469</td>\n",
       "                        <td id=\"T_4595fdb2_9543_11ea_a3fe_0242ac1c0002row1_col2\" class=\"data row1 col2\" >0</td>\n",
       "                        <td id=\"T_4595fdb2_9543_11ea_a3fe_0242ac1c0002row1_col3\" class=\"data row1 col3\" >1</td>\n",
       "                        <td id=\"T_4595fdb2_9543_11ea_a3fe_0242ac1c0002row1_col4\" class=\"data row1 col4\" >8</td>\n",
       "                        <td id=\"T_4595fdb2_9543_11ea_a3fe_0242ac1c0002row1_col5\" class=\"data row1 col5\" >1</td>\n",
       "            </tr>\n",
       "            <tr>\n",
       "                        <th id=\"T_4595fdb2_9543_11ea_a3fe_0242ac1c0002level0_row2\" class=\"row_heading level0 row2\" >2</th>\n",
       "                        <td id=\"T_4595fdb2_9543_11ea_a3fe_0242ac1c0002row2_col0\" class=\"data row2 col0\" >5</td>\n",
       "                        <td id=\"T_4595fdb2_9543_11ea_a3fe_0242ac1c0002row2_col1\" class=\"data row2 col1\" >0</td>\n",
       "                        <td id=\"T_4595fdb2_9543_11ea_a3fe_0242ac1c0002row2_col2\" class=\"data row2 col2\" >931</td>\n",
       "                        <td id=\"T_4595fdb2_9543_11ea_a3fe_0242ac1c0002row2_col3\" class=\"data row2 col3\" >21</td>\n",
       "                        <td id=\"T_4595fdb2_9543_11ea_a3fe_0242ac1c0002row2_col4\" class=\"data row2 col4\" >0</td>\n",
       "                        <td id=\"T_4595fdb2_9543_11ea_a3fe_0242ac1c0002row2_col5\" class=\"data row2 col5\" >4</td>\n",
       "            </tr>\n",
       "            <tr>\n",
       "                        <th id=\"T_4595fdb2_9543_11ea_a3fe_0242ac1c0002level0_row3\" class=\"row_heading level0 row3\" >3</th>\n",
       "                        <td id=\"T_4595fdb2_9543_11ea_a3fe_0242ac1c0002row3_col0\" class=\"data row3 col0\" >0</td>\n",
       "                        <td id=\"T_4595fdb2_9543_11ea_a3fe_0242ac1c0002row3_col1\" class=\"data row3 col1\" >2</td>\n",
       "                        <td id=\"T_4595fdb2_9543_11ea_a3fe_0242ac1c0002row3_col2\" class=\"data row3 col2\" >90</td>\n",
       "                        <td id=\"T_4595fdb2_9543_11ea_a3fe_0242ac1c0002row3_col3\" class=\"data row3 col3\" >258</td>\n",
       "                        <td id=\"T_4595fdb2_9543_11ea_a3fe_0242ac1c0002row3_col4\" class=\"data row3 col4\" >2</td>\n",
       "                        <td id=\"T_4595fdb2_9543_11ea_a3fe_0242ac1c0002row3_col5\" class=\"data row3 col5\" >63</td>\n",
       "            </tr>\n",
       "            <tr>\n",
       "                        <th id=\"T_4595fdb2_9543_11ea_a3fe_0242ac1c0002level0_row4\" class=\"row_heading level0 row4\" >4</th>\n",
       "                        <td id=\"T_4595fdb2_9543_11ea_a3fe_0242ac1c0002row4_col0\" class=\"data row4 col0\" >6</td>\n",
       "                        <td id=\"T_4595fdb2_9543_11ea_a3fe_0242ac1c0002row4_col1\" class=\"data row4 col1\" >3</td>\n",
       "                        <td id=\"T_4595fdb2_9543_11ea_a3fe_0242ac1c0002row4_col2\" class=\"data row4 col2\" >1</td>\n",
       "                        <td id=\"T_4595fdb2_9543_11ea_a3fe_0242ac1c0002row4_col3\" class=\"data row4 col3\" >2</td>\n",
       "                        <td id=\"T_4595fdb2_9543_11ea_a3fe_0242ac1c0002row4_col4\" class=\"data row4 col4\" >422</td>\n",
       "                        <td id=\"T_4595fdb2_9543_11ea_a3fe_0242ac1c0002row4_col5\" class=\"data row4 col5\" >36</td>\n",
       "            </tr>\n",
       "            <tr>\n",
       "                        <th id=\"T_4595fdb2_9543_11ea_a3fe_0242ac1c0002level0_row5\" class=\"row_heading level0 row5\" >5</th>\n",
       "                        <td id=\"T_4595fdb2_9543_11ea_a3fe_0242ac1c0002row5_col0\" class=\"data row5 col0\" >0</td>\n",
       "                        <td id=\"T_4595fdb2_9543_11ea_a3fe_0242ac1c0002row5_col1\" class=\"data row5 col1\" >0</td>\n",
       "                        <td id=\"T_4595fdb2_9543_11ea_a3fe_0242ac1c0002row5_col2\" class=\"data row5 col2\" >21</td>\n",
       "                        <td id=\"T_4595fdb2_9543_11ea_a3fe_0242ac1c0002row5_col3\" class=\"data row5 col3\" >74</td>\n",
       "                        <td id=\"T_4595fdb2_9543_11ea_a3fe_0242ac1c0002row5_col4\" class=\"data row5 col4\" >14</td>\n",
       "                        <td id=\"T_4595fdb2_9543_11ea_a3fe_0242ac1c0002row5_col5\" class=\"data row5 col5\" >929</td>\n",
       "            </tr>\n",
       "    </tbody></table>"
      ],
      "text/plain": [
       "<pandas.io.formats.style.Styler at 0x7f30ebad4b00>"
      ]
     },
     "metadata": {
      "tags": []
     },
     "output_type": "display_data"
    },
    {
     "name": "stdout",
     "output_type": "stream",
     "text": [
      "Recall for training set:  [0.98973881 0.98945148 0.88582303 0.7247191  0.93986637 0.89932236]\n",
      "Fscore for training set:  [0.98973881 0.97912317 0.96878252 0.62168675 0.89787234 0.89499037]\n",
      "Support for training set:  [0.98973881 0.98426023 0.92544732 0.6692607  0.91838955 0.89715113]\n",
      "Testing confusion matrix:\n"
     ]
    },
    {
     "data": {
      "text/html": [
       "<style  type=\"text/css\" >\n",
       "    #T_45994ec2_9543_11ea_a3fe_0242ac1c0002row0_col0 {\n",
       "            background-color:  #ff0000;\n",
       "            color:  #f1f1f1;\n",
       "        }    #T_45994ec2_9543_11ea_a3fe_0242ac1c0002row0_col1 {\n",
       "            background-color:  #ffe5e5;\n",
       "            color:  #000000;\n",
       "        }    #T_45994ec2_9543_11ea_a3fe_0242ac1c0002row0_col2 {\n",
       "            background-color:  #ffe5e5;\n",
       "            color:  #000000;\n",
       "        }    #T_45994ec2_9543_11ea_a3fe_0242ac1c0002row0_col3 {\n",
       "            background-color:  #ffe5e5;\n",
       "            color:  #000000;\n",
       "        }    #T_45994ec2_9543_11ea_a3fe_0242ac1c0002row0_col4 {\n",
       "            background-color:  #ffe1e1;\n",
       "            color:  #000000;\n",
       "        }    #T_45994ec2_9543_11ea_a3fe_0242ac1c0002row0_col5 {\n",
       "            background-color:  #ffe5e5;\n",
       "            color:  #000000;\n",
       "        }    #T_45994ec2_9543_11ea_a3fe_0242ac1c0002row1_col0 {\n",
       "            background-color:  #ffe5e5;\n",
       "            color:  #000000;\n",
       "        }    #T_45994ec2_9543_11ea_a3fe_0242ac1c0002row1_col1 {\n",
       "            background-color:  #ff0000;\n",
       "            color:  #f1f1f1;\n",
       "        }    #T_45994ec2_9543_11ea_a3fe_0242ac1c0002row1_col2 {\n",
       "            background-color:  #ffe5e5;\n",
       "            color:  #000000;\n",
       "        }    #T_45994ec2_9543_11ea_a3fe_0242ac1c0002row1_col3 {\n",
       "            background-color:  #ffe4e4;\n",
       "            color:  #000000;\n",
       "        }    #T_45994ec2_9543_11ea_a3fe_0242ac1c0002row1_col4 {\n",
       "            background-color:  #ffe0e0;\n",
       "            color:  #000000;\n",
       "        }    #T_45994ec2_9543_11ea_a3fe_0242ac1c0002row1_col5 {\n",
       "            background-color:  #ffe5e5;\n",
       "            color:  #000000;\n",
       "        }    #T_45994ec2_9543_11ea_a3fe_0242ac1c0002row2_col0 {\n",
       "            background-color:  #ffe5e5;\n",
       "            color:  #000000;\n",
       "        }    #T_45994ec2_9543_11ea_a3fe_0242ac1c0002row2_col1 {\n",
       "            background-color:  #ffe5e5;\n",
       "            color:  #000000;\n",
       "        }    #T_45994ec2_9543_11ea_a3fe_0242ac1c0002row2_col2 {\n",
       "            background-color:  #ff0000;\n",
       "            color:  #f1f1f1;\n",
       "        }    #T_45994ec2_9543_11ea_a3fe_0242ac1c0002row2_col3 {\n",
       "            background-color:  #ffc7c7;\n",
       "            color:  #000000;\n",
       "        }    #T_45994ec2_9543_11ea_a3fe_0242ac1c0002row2_col4 {\n",
       "            background-color:  #ffe5e5;\n",
       "            color:  #000000;\n",
       "        }    #T_45994ec2_9543_11ea_a3fe_0242ac1c0002row2_col5 {\n",
       "            background-color:  #ffe5e5;\n",
       "            color:  #000000;\n",
       "        }    #T_45994ec2_9543_11ea_a3fe_0242ac1c0002row3_col0 {\n",
       "            background-color:  #ffe5e5;\n",
       "            color:  #000000;\n",
       "        }    #T_45994ec2_9543_11ea_a3fe_0242ac1c0002row3_col1 {\n",
       "            background-color:  #ffe5e5;\n",
       "            color:  #000000;\n",
       "        }    #T_45994ec2_9543_11ea_a3fe_0242ac1c0002row3_col2 {\n",
       "            background-color:  #ffc8c8;\n",
       "            color:  #000000;\n",
       "        }    #T_45994ec2_9543_11ea_a3fe_0242ac1c0002row3_col3 {\n",
       "            background-color:  #ff0000;\n",
       "            color:  #f1f1f1;\n",
       "        }    #T_45994ec2_9543_11ea_a3fe_0242ac1c0002row3_col4 {\n",
       "            background-color:  #ffe5e5;\n",
       "            color:  #000000;\n",
       "        }    #T_45994ec2_9543_11ea_a3fe_0242ac1c0002row3_col5 {\n",
       "            background-color:  #ffcaca;\n",
       "            color:  #000000;\n",
       "        }    #T_45994ec2_9543_11ea_a3fe_0242ac1c0002row4_col0 {\n",
       "            background-color:  #ffe5e5;\n",
       "            color:  #000000;\n",
       "        }    #T_45994ec2_9543_11ea_a3fe_0242ac1c0002row4_col1 {\n",
       "            background-color:  #ffdfdf;\n",
       "            color:  #000000;\n",
       "        }    #T_45994ec2_9543_11ea_a3fe_0242ac1c0002row4_col2 {\n",
       "            background-color:  #ffe5e5;\n",
       "            color:  #000000;\n",
       "        }    #T_45994ec2_9543_11ea_a3fe_0242ac1c0002row4_col3 {\n",
       "            background-color:  #ffe4e4;\n",
       "            color:  #000000;\n",
       "        }    #T_45994ec2_9543_11ea_a3fe_0242ac1c0002row4_col4 {\n",
       "            background-color:  #ff0000;\n",
       "            color:  #f1f1f1;\n",
       "        }    #T_45994ec2_9543_11ea_a3fe_0242ac1c0002row4_col5 {\n",
       "            background-color:  #ffd8d8;\n",
       "            color:  #000000;\n",
       "        }    #T_45994ec2_9543_11ea_a3fe_0242ac1c0002row5_col0 {\n",
       "            background-color:  #ffe5e5;\n",
       "            color:  #000000;\n",
       "        }    #T_45994ec2_9543_11ea_a3fe_0242ac1c0002row5_col1 {\n",
       "            background-color:  #ffe5e5;\n",
       "            color:  #000000;\n",
       "        }    #T_45994ec2_9543_11ea_a3fe_0242ac1c0002row5_col2 {\n",
       "            background-color:  #ffdede;\n",
       "            color:  #000000;\n",
       "        }    #T_45994ec2_9543_11ea_a3fe_0242ac1c0002row5_col3 {\n",
       "            background-color:  #ff8484;\n",
       "            color:  #000000;\n",
       "        }    #T_45994ec2_9543_11ea_a3fe_0242ac1c0002row5_col4 {\n",
       "            background-color:  #ffdada;\n",
       "            color:  #000000;\n",
       "        }    #T_45994ec2_9543_11ea_a3fe_0242ac1c0002row5_col5 {\n",
       "            background-color:  #ff0000;\n",
       "            color:  #f1f1f1;\n",
       "        }</style><table id=\"T_45994ec2_9543_11ea_a3fe_0242ac1c0002\" ><thead>    <tr>        <th class=\"blank level0\" ></th>        <th class=\"col_heading level0 col0\" >0</th>        <th class=\"col_heading level0 col1\" >1</th>        <th class=\"col_heading level0 col2\" >2</th>        <th class=\"col_heading level0 col3\" >3</th>        <th class=\"col_heading level0 col4\" >4</th>        <th class=\"col_heading level0 col5\" >5</th>    </tr></thead><tbody>\n",
       "                <tr>\n",
       "                        <th id=\"T_45994ec2_9543_11ea_a3fe_0242ac1c0002level0_row0\" class=\"row_heading level0 row0\" >0</th>\n",
       "                        <td id=\"T_45994ec2_9543_11ea_a3fe_0242ac1c0002row0_col0\" class=\"data row0 col0\" >457</td>\n",
       "                        <td id=\"T_45994ec2_9543_11ea_a3fe_0242ac1c0002row0_col1\" class=\"data row0 col1\" >0</td>\n",
       "                        <td id=\"T_45994ec2_9543_11ea_a3fe_0242ac1c0002row0_col2\" class=\"data row0 col2\" >0</td>\n",
       "                        <td id=\"T_45994ec2_9543_11ea_a3fe_0242ac1c0002row0_col3\" class=\"data row0 col3\" >0</td>\n",
       "                        <td id=\"T_45994ec2_9543_11ea_a3fe_0242ac1c0002row0_col4\" class=\"data row0 col4\" >4</td>\n",
       "                        <td id=\"T_45994ec2_9543_11ea_a3fe_0242ac1c0002row0_col5\" class=\"data row0 col5\" >0</td>\n",
       "            </tr>\n",
       "            <tr>\n",
       "                        <th id=\"T_45994ec2_9543_11ea_a3fe_0242ac1c0002level0_row1\" class=\"row_heading level0 row1\" >1</th>\n",
       "                        <td id=\"T_45994ec2_9543_11ea_a3fe_0242ac1c0002row1_col0\" class=\"data row1 col0\" >0</td>\n",
       "                        <td id=\"T_45994ec2_9543_11ea_a3fe_0242ac1c0002row1_col1\" class=\"data row1 col1\" >217</td>\n",
       "                        <td id=\"T_45994ec2_9543_11ea_a3fe_0242ac1c0002row1_col2\" class=\"data row1 col2\" >0</td>\n",
       "                        <td id=\"T_45994ec2_9543_11ea_a3fe_0242ac1c0002row1_col3\" class=\"data row1 col3\" >1</td>\n",
       "                        <td id=\"T_45994ec2_9543_11ea_a3fe_0242ac1c0002row1_col4\" class=\"data row1 col4\" >5</td>\n",
       "                        <td id=\"T_45994ec2_9543_11ea_a3fe_0242ac1c0002row1_col5\" class=\"data row1 col5\" >1</td>\n",
       "            </tr>\n",
       "            <tr>\n",
       "                        <th id=\"T_45994ec2_9543_11ea_a3fe_0242ac1c0002level0_row2\" class=\"row_heading level0 row2\" >2</th>\n",
       "                        <td id=\"T_45994ec2_9543_11ea_a3fe_0242ac1c0002row2_col0\" class=\"data row2 col0\" >3</td>\n",
       "                        <td id=\"T_45994ec2_9543_11ea_a3fe_0242ac1c0002row2_col1\" class=\"data row2 col1\" >0</td>\n",
       "                        <td id=\"T_45994ec2_9543_11ea_a3fe_0242ac1c0002row2_col2\" class=\"data row2 col2\" >377</td>\n",
       "                        <td id=\"T_45994ec2_9543_11ea_a3fe_0242ac1c0002row2_col3\" class=\"data row2 col3\" >15</td>\n",
       "                        <td id=\"T_45994ec2_9543_11ea_a3fe_0242ac1c0002row2_col4\" class=\"data row2 col4\" >0</td>\n",
       "                        <td id=\"T_45994ec2_9543_11ea_a3fe_0242ac1c0002row2_col5\" class=\"data row2 col5\" >2</td>\n",
       "            </tr>\n",
       "            <tr>\n",
       "                        <th id=\"T_45994ec2_9543_11ea_a3fe_0242ac1c0002level0_row3\" class=\"row_heading level0 row3\" >3</th>\n",
       "                        <td id=\"T_45994ec2_9543_11ea_a3fe_0242ac1c0002row3_col0\" class=\"data row3 col0\" >0</td>\n",
       "                        <td id=\"T_45994ec2_9543_11ea_a3fe_0242ac1c0002row3_col1\" class=\"data row3 col1\" >1</td>\n",
       "                        <td id=\"T_45994ec2_9543_11ea_a3fe_0242ac1c0002row3_col2\" class=\"data row3 col2\" >50</td>\n",
       "                        <td id=\"T_45994ec2_9543_11ea_a3fe_0242ac1c0002row3_col3\" class=\"data row3 col3\" >111</td>\n",
       "                        <td id=\"T_45994ec2_9543_11ea_a3fe_0242ac1c0002row3_col4\" class=\"data row3 col4\" >1</td>\n",
       "                        <td id=\"T_45994ec2_9543_11ea_a3fe_0242ac1c0002row3_col5\" class=\"data row3 col5\" >48</td>\n",
       "            </tr>\n",
       "            <tr>\n",
       "                        <th id=\"T_45994ec2_9543_11ea_a3fe_0242ac1c0002level0_row4\" class=\"row_heading level0 row4\" >4</th>\n",
       "                        <td id=\"T_45994ec2_9543_11ea_a3fe_0242ac1c0002row4_col0\" class=\"data row4 col0\" >3</td>\n",
       "                        <td id=\"T_45994ec2_9543_11ea_a3fe_0242ac1c0002row4_col1\" class=\"data row4 col1\" >6</td>\n",
       "                        <td id=\"T_45994ec2_9543_11ea_a3fe_0242ac1c0002row4_col2\" class=\"data row4 col2\" >1</td>\n",
       "                        <td id=\"T_45994ec2_9543_11ea_a3fe_0242ac1c0002row4_col3\" class=\"data row4 col3\" >1</td>\n",
       "                        <td id=\"T_45994ec2_9543_11ea_a3fe_0242ac1c0002row4_col4\" class=\"data row4 col4\" >202</td>\n",
       "                        <td id=\"T_45994ec2_9543_11ea_a3fe_0242ac1c0002row4_col5\" class=\"data row4 col5\" >24</td>\n",
       "            </tr>\n",
       "            <tr>\n",
       "                        <th id=\"T_45994ec2_9543_11ea_a3fe_0242ac1c0002level0_row5\" class=\"row_heading level0 row5\" >5</th>\n",
       "                        <td id=\"T_45994ec2_9543_11ea_a3fe_0242ac1c0002row5_col0\" class=\"data row5 col0\" >0</td>\n",
       "                        <td id=\"T_45994ec2_9543_11ea_a3fe_0242ac1c0002row5_col1\" class=\"data row5 col1\" >1</td>\n",
       "                        <td id=\"T_45994ec2_9543_11ea_a3fe_0242ac1c0002row5_col2\" class=\"data row5 col2\" >13</td>\n",
       "                        <td id=\"T_45994ec2_9543_11ea_a3fe_0242ac1c0002row5_col3\" class=\"data row5 col3\" >47</td>\n",
       "                        <td id=\"T_45994ec2_9543_11ea_a3fe_0242ac1c0002row5_col4\" class=\"data row5 col4\" >11</td>\n",
       "                        <td id=\"T_45994ec2_9543_11ea_a3fe_0242ac1c0002row5_col5\" class=\"data row5 col5\" >398</td>\n",
       "            </tr>\n",
       "    </tbody></table>"
      ],
      "text/plain": [
       "<pandas.io.formats.style.Styler at 0x7f30ebad4d68>"
      ]
     },
     "metadata": {
      "tags": []
     },
     "output_type": "display_data"
    },
    {
     "name": "stdout",
     "output_type": "stream",
     "text": [
      "Recall for testing set:  [0.98704104 0.96444444 0.85487528 0.63428571 0.9058296  0.84143763]\n",
      "Fscore for testing set:  [0.99132321 0.96875    0.94962217 0.52606635 0.85232068 0.84680851]\n",
      "Support for testing set:  [0.98917749 0.96659243 0.89976134 0.57512953 0.87826087 0.84411453]\n"
     ]
    }
   ],
   "source": [
    "print(\"Training confusion matrix:\")\n",
    "display(x_tr3)\n",
    "print(\"Recall for training set: \", fscore_tr3[0])\n",
    "print(\"Fscore for training set: \", fscore_tr3[1])\n",
    "print(\"Support for training set: \", fscore_tr3[2])\n",
    "print(\"Testing confusion matrix:\")\n",
    "display(x_ts3)\n",
    "print(\"Recall for testing set: \", fscore_ts3[0])\n",
    "print(\"Fscore for testing set: \", fscore_ts3[1])\n",
    "print(\"Support for testing set: \", fscore_ts3[2])"
   ]
  },
  {
   "cell_type": "markdown",
   "metadata": {
    "colab_type": "text",
    "id": "GW4x6THSWYs6"
   },
   "source": [
    "Giving equal weight to both views, this model shows more true positives and true negatives in both sets than in any of the two views. Moreover, it improves the error and the accuracy. This model has higher recall, Fscore and Support for red soil, cotton crop and grey soil than for the rest of the labels, it can be becuase from the types of soil on the dataset they seem the most different ones."
   ]
  },
  {
   "cell_type": "markdown",
   "metadata": {
    "colab_type": "text",
    "id": "PU4nfbj6H-vn"
   },
   "source": [
    "Explore a few values of $\\mu$ in the range $[0,1]$ to see if it is possible to achieve better accuracy mixing the two views. Plot the error in the train and the error in the test set as a function of $\\mu$ to support your discussion."
   ]
  },
  {
   "cell_type": "code",
   "execution_count": 27,
   "metadata": {
    "colab": {
     "base_uri": "https://localhost:8080/",
     "height": 49
    },
    "colab_type": "code",
    "id": "Nvl0dl8nPoR5",
    "outputId": "12cb6a34-26c0-4751-fb9b-b0fbe17440f6"
   },
   "outputs": [
    {
     "name": "stdout",
     "output_type": "stream",
     "text": [
      "The smallest training error is obtained for mu =  0.4\n",
      "The smallest testing error is obtained for mu =  0.2\n"
     ]
    }
   ],
   "source": [
    "\"\"\"\n",
    "YOUR CODE\n",
    "\"\"\"\n",
    "train_error = []\n",
    "test_error = []\n",
    "m = np.arange(0,1.2,0.2)\n",
    "for mu in m:\n",
    "  K = mu*K_s+(1-mu)*K_c\n",
    "  SVC_grid_clsf.fit(K, ytrain)\n",
    "\n",
    "  #Training error\n",
    "  SVC_kernel_train_n_pred = SVC_grid_clsf.predict(K)\n",
    "  train_error.append(metrics.mean_absolute_error(ytrain,SVC_kernel_train_n_pred))\n",
    "  \n",
    "  K_test = mu*K_s_test+(1-mu)*K_c_test\n",
    "\n",
    "  #Test error\n",
    "  SVC_kernel_test_n_pred = SVC_grid_clsf.predict(K_test)\n",
    "  test_error.append(metrics.mean_absolute_error(ytest,SVC_kernel_test_n_pred))\n",
    "\n",
    "print(\"The smallest training error is obtained for mu = \", m[train_error.index(min(train_error))])\n",
    "print(\"The smallest testing error is obtained for mu = \", m[test_error.index(min(test_error))])"
   ]
  },
  {
   "cell_type": "code",
   "execution_count": 28,
   "metadata": {
    "colab": {
     "base_uri": "https://localhost:8080/",
     "height": 49
    },
    "colab_type": "code",
    "id": "c44Mw1Y1Pr9F",
    "outputId": "333edc59-297a-4da2-c45f-1a972122e7f8"
   },
   "outputs": [
    {
     "name": "stdout",
     "output_type": "stream",
     "text": [
      "Train error: [0.28883878241262684, 0.19751972942502818, 0.19120631341600902, 0.19165727170236754, 0.20315670800450958, 0.3289740698985344]\n",
      "Test error: [0.321, 0.269, 0.2805, 0.2725, 0.2755, 0.369]\n"
     ]
    }
   ],
   "source": [
    "print('Train error:',train_error)\n",
    "print('Test error:',test_error)"
   ]
  },
  {
   "cell_type": "code",
   "execution_count": 29,
   "metadata": {
    "colab": {
     "base_uri": "https://localhost:8080/",
     "height": 295
    },
    "colab_type": "code",
    "id": "LOwzad7-PvYX",
    "outputId": "dda77389-c170-400d-f2be-7b2115d64321"
   },
   "outputs": [
    {
     "data": {
      "text/plain": [
       "<matplotlib.legend.Legend at 0x7f30ebc54ac8>"
      ]
     },
     "execution_count": 29,
     "metadata": {
      "tags": []
     },
     "output_type": "execute_result"
    },
    {
     "data": {
      "image/png": "[encoded data removed]",
      "text/plain": [
       "<Figure size 432x288 with 1 Axes>"
      ]
     },
     "metadata": {
      "needs_background": "light",
      "tags": []
     },
     "output_type": "display_data"
    }
   ],
   "source": [
    "plt.plot(m,train_error,'-b',label='Train error')\n",
    "plt.plot(m,test_error,'-r',label='Test error')\n",
    "plt.xlabel('mu')\n",
    "plt.ylabel('Error')\n",
    "plt.legend()"
   ]
  },
  {
   "cell_type": "markdown",
   "metadata": {
    "colab_type": "text",
    "id": "_I-Q9ESZl8uD"
   },
   "source": [
    "**Your discussion**\n",
    "\n",
    "From the plot above we can conclude that it is possible to obtain better accuracy mixing the two views, since we observe that maximum errors for both sets happen for 0 and 1 values of  $\\mu$.\n",
    "\n",
    "Overall, we obtain best training accuracy for  $\\mu$ = 0.4. It was expected for the best model to have a  $\\mu$ smaller than 0.5 as the model with the second view gave us better results than the model with the first view. But at the same time, we expected it to be close to 0.5 as the in the previous model ($\\mu$ = 0.5) we have seen that the mixture of both views enhances its performance.\n"
   ]
  },
  {
   "cell_type": "markdown",
   "metadata": {
    "colab_type": "text",
    "id": "8DbZcbG71Gm8"
   },
   "source": [
    "## Joint optimization of all the parameters\n",
    "\n",
    "To exploit the weaponry of sklearn in what respects to learning parameters for a classifier, we are designing our SVM with two kernels in a more professional way, as an instantiation of the class Estimator of sklearn.\n",
    "\n",
    "The idea of this section is to create our own classifier object, with methods fit, predict and score, so that we can use it within sklearn, in the same way as we use svm.SVC. \n",
    "\n",
    "Basically our DualKernelSVM object will encapsulate a sklearn.svm.SVC with the option 'kernel'='precomputed'. This way, the DualKernelSVM methods can be called with actual data matrices (within these methods our code will have to construct the appropriate kernel matrices that the encapsulated inner svm needs to function in mode kernel='precomputed'). \n",
    "\n",
    "To keep it as simple as possible, our data matrices will be the horizontal stacking of the corresponding matrices of the two views, for instance \n",
    "\n",
    "Joint_train = np.hstack((Xtrain_n, Context_train_n))\n",
    "\n",
    "The fit, predict and score methods, are going to receive the corresponding Joint_train or Joint_test numpy arrays. Within these methods, your code has to split these Joint_t* arrays in the corresponding Xtrain_n and Context_train_n (or their test counterparts) in order to compute the two kernel matrices that are needed.\n",
    "\n",
    "The objects of the class DualKernelSVM include the following **attributes** to implement the SVM with the dual kernel:\n",
    "- numspatial: number of components of the first view of the data. This is because methods fit(), predict() and score() of the DualKernelSVM will be called with a single data array that will include both views. Every row of the input data has the following structure:\n",
    " - first numspatial columns have the data corresponding to the first view \n",
    " - columns from numspatial to the end have the data corresponding to the second view.\n",
    " \n",
    "Therefore before calling the methods of the inner SVM, one needs to retrieve each data view from the columns of the input.\n",
    "\n",
    "- gammas: $\\gamma$ for the kernel on the spectral features of the central pixel\n",
    "- gammac: $\\gamma$ for the kernel on the context features. In principle each kernel could have a different value for $\\gamma$\n",
    "- C: $C$ for the SVM with the ad-hoc kernel\n",
    "- mu: $\\mu$, parameter that combines the two kernels\n",
    "- svm: inner SVM, the one that uses as kernel the one we are constructing (kernel='precomputed')\n",
    "\n",
    "And the following **methods**:\n",
    "- fit: your implementation. Construct kernel matrix and call inner svm fit\n",
    "- predict: your implementation. Construct kernel matrix and call inner svm predict\n",
    "- score: your implementation. Construct kernel matrix and call inner svm score\n",
    "- get_params: already coded\n",
    "- set_params: already coded\n"
   ]
  },
  {
   "cell_type": "code",
   "execution_count": 0,
   "metadata": {
    "colab": {},
    "colab_type": "code",
    "id": "GtbWsCvC1Gm_"
   },
   "outputs": [],
   "source": [
    "import numpy as np\n",
    "from sklearn.base import BaseEstimator, ClassifierMixin\n",
    "from sklearn.utils.validation import check_X_y, check_array, check_is_fitted\n",
    "from sklearn.utils.multiclass import unique_labels\n",
    "\n",
    "class TemplateClassifier(BaseEstimator, ClassifierMixin):\n",
    "    def __init__(self, \n",
    "                 numspatial = 4,\n",
    "                 C = 1,\n",
    "                 gammas = 1,\n",
    "                 gammac = 1,\n",
    "                 mu = 0.5):\n",
    "        self.numspatial = numspatial\n",
    "        self.C = C\n",
    "        self.gammas= gammas\n",
    "        self.gammac = gammac\n",
    "        self.svm = svm.SVC(C=C, \n",
    "                           kernel='precomputed') #inner SVM\n",
    "        self.mu = mu\n",
    "    \n",
    "    def fit(self, X, y):\n",
    "        # Check that X and y have correct shape\n",
    "        X, y = check_X_y(X, y)\n",
    "        # Store the classes seen during fit\n",
    "        self.classes_ = unique_labels(y)\n",
    "\n",
    "        \"\"\"\n",
    "        YOUR CODE\n",
    "        - Splits X in spectral data and context\n",
    "        - Construct Kernel matrix K\n",
    "        - fits the internal SVM with K\n",
    "        \"\"\"\n",
    "        self.X = X.copy()\n",
    "        X_spectral_tr = X[:,0:self.numspatial]\n",
    "        X_context_tr = X[:,self.numspatial:]\n",
    "        K_s = rbf_kernel(X_spectral_tr,X_spectral_tr,self.gammas)\n",
    "        K_c = rbf_kernel(X_context_tr,X_context_tr,self.gammac)\n",
    "        K = self.mu*K_s+(1-self.mu)*K_c\n",
    "        self.svm.fit(K, y)\n",
    "\n",
    "        return self\n",
    "\n",
    "    def predict(self, X):\n",
    "        # Check is fit had been called\n",
    "        check_is_fitted(self)\n",
    "        \"\"\"\n",
    "        YOUR CODE\n",
    "        - Splits X in spectral data and context\n",
    "        - Constructs Kernel matrix Ktest\n",
    "        - Predicts Ktest with the (already fit) internal SVM\n",
    "        \"\"\"\n",
    "        X_spectral_tr = self.X[:,0:self.numspatial]\n",
    "        X_context_tr = self.X[:,self.numspatial:]\n",
    "        X_spectral_ts = X[:,0:self.numspatial]\n",
    "        X_context_ts = X[:,self.numspatial:]\n",
    "        K_s = rbf_kernel(X_spectral_ts,X_spectral_tr,self.gammas)\n",
    "        K_c = rbf_kernel(X_context_ts,X_context_tr,self.gammac)\n",
    "        Ktest = self.mu*K_s+(1-self.mu)*K_c\n",
    "\n",
    "        return self.svm.predict(Ktest)\n",
    "    \n",
    "    def get_params(self, deep=True):\n",
    "        # suppose this estimator has parameters \"alpha\" and \"recursive\"\n",
    "        return {\"C\": self.C, \n",
    "                \"numspatial\": self.numspatial,\n",
    "               \"gammas\" : self.gammas,\n",
    "               \"gammac\" : self.gammac,\n",
    "               \"mu\" : self.mu}\n",
    "\n",
    "    def set_params(self, **parameters):\n",
    "        for parameter, value in parameters.items():\n",
    "            setattr(self, parameter, value)\n",
    "        return self\n",
    "\n",
    "    def score(self, X, y):\n",
    "        X, y = check_X_y(X, y)\n",
    "        \"\"\"\n",
    "        YOUR CODE\n",
    "        - Splits X in spectral data and context\n",
    "        - Constructs Kernel matrix Ktest\n",
    "        \"\"\"\n",
    "        X_spectral_tr = self.X[:,0:self.numspatial]\n",
    "        X_context_tr = self.X[:,self.numspatial:]\n",
    "        X_spectral_ts = X[:,0:self.numspatial]\n",
    "        X_context_ts = X[:,self.numspatial:]\n",
    "        K_s = rbf_kernel(X_spectral_ts,X_spectral_tr,self.gammas)\n",
    "        K_c = rbf_kernel(X_context_ts,X_context_tr,self.gammac)\n",
    "        Ktest = self.mu*K_s+(1-self.mu)*K_c\n",
    "        \n",
    "        return self.svm.score(Ktest, y)"
   ]
  },
  {
   "cell_type": "markdown",
   "metadata": {
    "colab_type": "text",
    "id": "4Avbacl1cuxf"
   },
   "source": [
    "Create grid with parameters"
   ]
  },
  {
   "cell_type": "markdown",
   "metadata": {
    "colab_type": "text",
    "id": "Hz9YxnIkUR_K"
   },
   "source": [
    "We fixed the values of gamma and C obtaining best results and change the value of mu in order to obtain the best combination of kernels."
   ]
  },
  {
   "cell_type": "code",
   "execution_count": 31,
   "metadata": {
    "colab": {
     "base_uri": "https://localhost:8080/",
     "height": 65
    },
    "colab_type": "code",
    "id": "oMZtYStydD61",
    "outputId": "73535d38-13b0-4007-c71b-aacf4ba3d8b8"
   },
   "outputs": [
    {
     "data": {
      "text/plain": [
       "[{'C': 10, 'gammac': 1, 'gammas': 1, 'mu': 0.4, 'numspatial': 4},\n",
       " {'C': 10, 'gammac': 1, 'gammas': 1, 'mu': 0.5, 'numspatial': 4},\n",
       " {'C': 10, 'gammac': 1, 'gammas': 1, 'mu': 0.6, 'numspatial': 4}]"
      ]
     },
     "metadata": {
      "tags": []
     },
     "output_type": "display_data"
    }
   ],
   "source": [
    "\"\"\" \n",
    "YOUR CODE\n",
    "\"\"\"\n",
    "from sklearn.model_selection import ParameterGrid\n",
    "v_mu = [0.4,0.5,0.6]\n",
    "\n",
    "params_grid = [{'numspatial': [4], 'C': [10], 'gammas': [1], 'gammac': [1], 'mu': v_mu},]\n",
    "param_grid = list(ParameterGrid(params_grid))\n",
    "display(param_grid)"
   ]
  },
  {
   "cell_type": "markdown",
   "metadata": {
    "colab_type": "text",
    "id": "OlSSjY0Yczrw"
   },
   "source": [
    "Fit grid with training data"
   ]
  },
  {
   "cell_type": "code",
   "execution_count": 32,
   "metadata": {
    "colab": {
     "base_uri": "https://localhost:8080/",
     "height": 32
    },
    "colab_type": "code",
    "id": "TX_nbx_udIQ5",
    "outputId": "28662ff4-d997-4aad-95de-0802545fdcab"
   },
   "outputs": [
    {
     "name": "stdout",
     "output_type": "stream",
     "text": [
      "Execution time: 3357.904783\n"
     ]
    }
   ],
   "source": [
    "\"\"\" \n",
    "YOUR CODE\n",
    "\"\"\"\n",
    "t1 = time.time()\n",
    "#instantiation of the grid of hyperparameters that will be searched with cross validation\n",
    "grid_clsf_temp = TemplateClassifier()\n",
    "\n",
    "Joint_train = np.hstack((Xtrain_n, Context_train_n))\n",
    "Joint_test = np.hstack((Xtest_n, Context_test_n))\n",
    "\n",
    "score_max_train = 0.\n",
    "grid_clsf_temp_opt = grid_clsf_temp\n",
    "score_test = 0.\n",
    "pred_test = []\n",
    "pred_train = []\n",
    "for i in range(len(param_grid)):\n",
    "  param = param_grid[i]\n",
    "  # visit all the nodes in the grid and estimate the true generalization error of a SVM trained with the hyperparameters of the node\n",
    "  grid_clsf_temp.set_params(**param).fit(Joint_train, ytrain)\n",
    "  grid_clsf_temp_pred_train = grid_clsf_temp.predict(Joint_train)\n",
    "  score = grid_clsf_temp.score(Joint_train,ytrain)\n",
    "  \n",
    "  if (score>score_max_train):\n",
    "    score_max_train = score\n",
    "    grid_clsf_temp_opt = grid_clsf_temp\n",
    "    score_test = grid_clsf_temp.score(Joint_test,ytest)\n",
    "    pred_train.append(grid_clsf_temp_pred_train) \n",
    "    grid_clsf_temp.set_params(**param).fit(Joint_test, ytest)\n",
    "    grid_clsf_temp_pred_test = grid_clsf_temp.predict(Joint_test)\n",
    "    pred_test.append(grid_clsf_temp_pred_test)\n",
    "\n",
    "t2 = time.time()\n",
    "tf4 = t2-t1\n",
    "print('Execution time: {0:2f}'.format(tf4))\n",
    "\n",
    "conf_tr4 = metrics.confusion_matrix(ytrain, pred_train[-1])\n",
    "cm_tr4 = sns.light_palette(\"red\", as_cmap=True)\n",
    "x_tr4 = pd.DataFrame(conf_tr3)\n",
    "x_tr4 = x_tr4.style.background_gradient(cmap=cm_tr3)\n",
    "\n",
    "conf_ts4 = metrics.confusion_matrix(ytest, pred_test[-1])\n",
    "cm_ts4 = sns.light_palette(\"red\", as_cmap=True)\n",
    "x_ts4 = pd.DataFrame(conf_ts4)\n",
    "x_ts4 = x_ts4.style.background_gradient(cmap=cm_ts4)\n",
    "\n"
   ]
  },
  {
   "cell_type": "code",
   "execution_count": 0,
   "metadata": {
    "colab": {},
    "colab_type": "code",
    "id": "E4Iom7__LBYJ"
   },
   "outputs": [],
   "source": [
    "fscore_tr4 = metrics.precision_recall_fscore_support(ytrain, pred_train[-1])\n",
    "fscore_ts4 = metrics.precision_recall_fscore_support(ytest, pred_test[-1])"
   ]
  },
  {
   "cell_type": "markdown",
   "metadata": {
    "colab_type": "text",
    "id": "fLTZgqsqc47g"
   },
   "source": [
    "Evaluate best classifier, training and test"
   ]
  },
  {
   "cell_type": "code",
   "execution_count": 34,
   "metadata": {
    "colab": {
     "base_uri": "https://localhost:8080/",
     "height": 438
    },
    "colab_type": "code",
    "id": "NCKDg0JB3Z59",
    "outputId": "8e12fb17-7ed6-4179-c1e2-7a0e90260b01"
   },
   "outputs": [
    {
     "name": "stdout",
     "output_type": "stream",
     "text": [
      "Training confusion matrix:\n"
     ]
    },
    {
     "data": {
      "text/html": [
       "<style  type=\"text/css\" >\n",
       "    #T_2fc14de0_954b_11ea_a3fe_0242ac1c0002row0_col0 {\n",
       "            background-color:  #ff0000;\n",
       "            color:  #f1f1f1;\n",
       "        }    #T_2fc14de0_954b_11ea_a3fe_0242ac1c0002row0_col1 {\n",
       "            background-color:  #ffe5e5;\n",
       "            color:  #000000;\n",
       "        }    #T_2fc14de0_954b_11ea_a3fe_0242ac1c0002row0_col2 {\n",
       "            background-color:  #ffe4e4;\n",
       "            color:  #000000;\n",
       "        }    #T_2fc14de0_954b_11ea_a3fe_0242ac1c0002row0_col3 {\n",
       "            background-color:  #ffe5e5;\n",
       "            color:  #000000;\n",
       "        }    #T_2fc14de0_954b_11ea_a3fe_0242ac1c0002row0_col4 {\n",
       "            background-color:  #ffe5e5;\n",
       "            color:  #000000;\n",
       "        }    #T_2fc14de0_954b_11ea_a3fe_0242ac1c0002row0_col5 {\n",
       "            background-color:  #ffe5e5;\n",
       "            color:  #000000;\n",
       "        }    #T_2fc14de0_954b_11ea_a3fe_0242ac1c0002row1_col0 {\n",
       "            background-color:  #ffe5e5;\n",
       "            color:  #000000;\n",
       "        }    #T_2fc14de0_954b_11ea_a3fe_0242ac1c0002row1_col1 {\n",
       "            background-color:  #ff0000;\n",
       "            color:  #f1f1f1;\n",
       "        }    #T_2fc14de0_954b_11ea_a3fe_0242ac1c0002row1_col2 {\n",
       "            background-color:  #ffe5e5;\n",
       "            color:  #000000;\n",
       "        }    #T_2fc14de0_954b_11ea_a3fe_0242ac1c0002row1_col3 {\n",
       "            background-color:  #ffe5e5;\n",
       "            color:  #000000;\n",
       "        }    #T_2fc14de0_954b_11ea_a3fe_0242ac1c0002row1_col4 {\n",
       "            background-color:  #ffe2e2;\n",
       "            color:  #000000;\n",
       "        }    #T_2fc14de0_954b_11ea_a3fe_0242ac1c0002row1_col5 {\n",
       "            background-color:  #ffe5e5;\n",
       "            color:  #000000;\n",
       "        }    #T_2fc14de0_954b_11ea_a3fe_0242ac1c0002row2_col0 {\n",
       "            background-color:  #ffe5e5;\n",
       "            color:  #000000;\n",
       "        }    #T_2fc14de0_954b_11ea_a3fe_0242ac1c0002row2_col1 {\n",
       "            background-color:  #ffe5e5;\n",
       "            color:  #000000;\n",
       "        }    #T_2fc14de0_954b_11ea_a3fe_0242ac1c0002row2_col2 {\n",
       "            background-color:  #ff0000;\n",
       "            color:  #f1f1f1;\n",
       "        }    #T_2fc14de0_954b_11ea_a3fe_0242ac1c0002row2_col3 {\n",
       "            background-color:  #ffd3d3;\n",
       "            color:  #000000;\n",
       "        }    #T_2fc14de0_954b_11ea_a3fe_0242ac1c0002row2_col4 {\n",
       "            background-color:  #ffe5e5;\n",
       "            color:  #000000;\n",
       "        }    #T_2fc14de0_954b_11ea_a3fe_0242ac1c0002row2_col5 {\n",
       "            background-color:  #ffe5e5;\n",
       "            color:  #000000;\n",
       "        }    #T_2fc14de0_954b_11ea_a3fe_0242ac1c0002row3_col0 {\n",
       "            background-color:  #ffe5e5;\n",
       "            color:  #000000;\n",
       "        }    #T_2fc14de0_954b_11ea_a3fe_0242ac1c0002row3_col1 {\n",
       "            background-color:  #ffe5e5;\n",
       "            color:  #000000;\n",
       "        }    #T_2fc14de0_954b_11ea_a3fe_0242ac1c0002row3_col2 {\n",
       "            background-color:  #ffd0d0;\n",
       "            color:  #000000;\n",
       "        }    #T_2fc14de0_954b_11ea_a3fe_0242ac1c0002row3_col3 {\n",
       "            background-color:  #ff0000;\n",
       "            color:  #f1f1f1;\n",
       "        }    #T_2fc14de0_954b_11ea_a3fe_0242ac1c0002row3_col4 {\n",
       "            background-color:  #ffe5e5;\n",
       "            color:  #000000;\n",
       "        }    #T_2fc14de0_954b_11ea_a3fe_0242ac1c0002row3_col5 {\n",
       "            background-color:  #ffd6d6;\n",
       "            color:  #000000;\n",
       "        }    #T_2fc14de0_954b_11ea_a3fe_0242ac1c0002row4_col0 {\n",
       "            background-color:  #ffe5e5;\n",
       "            color:  #000000;\n",
       "        }    #T_2fc14de0_954b_11ea_a3fe_0242ac1c0002row4_col1 {\n",
       "            background-color:  #ffe5e5;\n",
       "            color:  #000000;\n",
       "        }    #T_2fc14de0_954b_11ea_a3fe_0242ac1c0002row4_col2 {\n",
       "            background-color:  #ffe5e5;\n",
       "            color:  #000000;\n",
       "        }    #T_2fc14de0_954b_11ea_a3fe_0242ac1c0002row4_col3 {\n",
       "            background-color:  #ffe5e5;\n",
       "            color:  #000000;\n",
       "        }    #T_2fc14de0_954b_11ea_a3fe_0242ac1c0002row4_col4 {\n",
       "            background-color:  #ff0000;\n",
       "            color:  #f1f1f1;\n",
       "        }    #T_2fc14de0_954b_11ea_a3fe_0242ac1c0002row4_col5 {\n",
       "            background-color:  #ffdddd;\n",
       "            color:  #000000;\n",
       "        }    #T_2fc14de0_954b_11ea_a3fe_0242ac1c0002row5_col0 {\n",
       "            background-color:  #ffe5e5;\n",
       "            color:  #000000;\n",
       "        }    #T_2fc14de0_954b_11ea_a3fe_0242ac1c0002row5_col1 {\n",
       "            background-color:  #ffe5e5;\n",
       "            color:  #000000;\n",
       "        }    #T_2fc14de0_954b_11ea_a3fe_0242ac1c0002row5_col2 {\n",
       "            background-color:  #ffe1e1;\n",
       "            color:  #000000;\n",
       "        }    #T_2fc14de0_954b_11ea_a3fe_0242ac1c0002row5_col3 {\n",
       "            background-color:  #ffa4a4;\n",
       "            color:  #000000;\n",
       "        }    #T_2fc14de0_954b_11ea_a3fe_0242ac1c0002row5_col4 {\n",
       "            background-color:  #ffdede;\n",
       "            color:  #000000;\n",
       "        }    #T_2fc14de0_954b_11ea_a3fe_0242ac1c0002row5_col5 {\n",
       "            background-color:  #ff0000;\n",
       "            color:  #f1f1f1;\n",
       "        }</style><table id=\"T_2fc14de0_954b_11ea_a3fe_0242ac1c0002\" ><thead>    <tr>        <th class=\"blank level0\" ></th>        <th class=\"col_heading level0 col0\" >0</th>        <th class=\"col_heading level0 col1\" >1</th>        <th class=\"col_heading level0 col2\" >2</th>        <th class=\"col_heading level0 col3\" >3</th>        <th class=\"col_heading level0 col4\" >4</th>        <th class=\"col_heading level0 col5\" >5</th>    </tr></thead><tbody>\n",
       "                <tr>\n",
       "                        <th id=\"T_2fc14de0_954b_11ea_a3fe_0242ac1c0002level0_row0\" class=\"row_heading level0 row0\" >0</th>\n",
       "                        <td id=\"T_2fc14de0_954b_11ea_a3fe_0242ac1c0002row0_col0\" class=\"data row0 col0\" >1061</td>\n",
       "                        <td id=\"T_2fc14de0_954b_11ea_a3fe_0242ac1c0002row0_col1\" class=\"data row0 col1\" >0</td>\n",
       "                        <td id=\"T_2fc14de0_954b_11ea_a3fe_0242ac1c0002row0_col2\" class=\"data row0 col2\" >8</td>\n",
       "                        <td id=\"T_2fc14de0_954b_11ea_a3fe_0242ac1c0002row0_col3\" class=\"data row0 col3\" >0</td>\n",
       "                        <td id=\"T_2fc14de0_954b_11ea_a3fe_0242ac1c0002row0_col4\" class=\"data row0 col4\" >3</td>\n",
       "                        <td id=\"T_2fc14de0_954b_11ea_a3fe_0242ac1c0002row0_col5\" class=\"data row0 col5\" >0</td>\n",
       "            </tr>\n",
       "            <tr>\n",
       "                        <th id=\"T_2fc14de0_954b_11ea_a3fe_0242ac1c0002level0_row1\" class=\"row_heading level0 row1\" >1</th>\n",
       "                        <td id=\"T_2fc14de0_954b_11ea_a3fe_0242ac1c0002row1_col0\" class=\"data row1 col0\" >0</td>\n",
       "                        <td id=\"T_2fc14de0_954b_11ea_a3fe_0242ac1c0002row1_col1\" class=\"data row1 col1\" >469</td>\n",
       "                        <td id=\"T_2fc14de0_954b_11ea_a3fe_0242ac1c0002row1_col2\" class=\"data row1 col2\" >0</td>\n",
       "                        <td id=\"T_2fc14de0_954b_11ea_a3fe_0242ac1c0002row1_col3\" class=\"data row1 col3\" >1</td>\n",
       "                        <td id=\"T_2fc14de0_954b_11ea_a3fe_0242ac1c0002row1_col4\" class=\"data row1 col4\" >8</td>\n",
       "                        <td id=\"T_2fc14de0_954b_11ea_a3fe_0242ac1c0002row1_col5\" class=\"data row1 col5\" >1</td>\n",
       "            </tr>\n",
       "            <tr>\n",
       "                        <th id=\"T_2fc14de0_954b_11ea_a3fe_0242ac1c0002level0_row2\" class=\"row_heading level0 row2\" >2</th>\n",
       "                        <td id=\"T_2fc14de0_954b_11ea_a3fe_0242ac1c0002row2_col0\" class=\"data row2 col0\" >5</td>\n",
       "                        <td id=\"T_2fc14de0_954b_11ea_a3fe_0242ac1c0002row2_col1\" class=\"data row2 col1\" >0</td>\n",
       "                        <td id=\"T_2fc14de0_954b_11ea_a3fe_0242ac1c0002row2_col2\" class=\"data row2 col2\" >931</td>\n",
       "                        <td id=\"T_2fc14de0_954b_11ea_a3fe_0242ac1c0002row2_col3\" class=\"data row2 col3\" >21</td>\n",
       "                        <td id=\"T_2fc14de0_954b_11ea_a3fe_0242ac1c0002row2_col4\" class=\"data row2 col4\" >0</td>\n",
       "                        <td id=\"T_2fc14de0_954b_11ea_a3fe_0242ac1c0002row2_col5\" class=\"data row2 col5\" >4</td>\n",
       "            </tr>\n",
       "            <tr>\n",
       "                        <th id=\"T_2fc14de0_954b_11ea_a3fe_0242ac1c0002level0_row3\" class=\"row_heading level0 row3\" >3</th>\n",
       "                        <td id=\"T_2fc14de0_954b_11ea_a3fe_0242ac1c0002row3_col0\" class=\"data row3 col0\" >0</td>\n",
       "                        <td id=\"T_2fc14de0_954b_11ea_a3fe_0242ac1c0002row3_col1\" class=\"data row3 col1\" >2</td>\n",
       "                        <td id=\"T_2fc14de0_954b_11ea_a3fe_0242ac1c0002row3_col2\" class=\"data row3 col2\" >90</td>\n",
       "                        <td id=\"T_2fc14de0_954b_11ea_a3fe_0242ac1c0002row3_col3\" class=\"data row3 col3\" >258</td>\n",
       "                        <td id=\"T_2fc14de0_954b_11ea_a3fe_0242ac1c0002row3_col4\" class=\"data row3 col4\" >2</td>\n",
       "                        <td id=\"T_2fc14de0_954b_11ea_a3fe_0242ac1c0002row3_col5\" class=\"data row3 col5\" >63</td>\n",
       "            </tr>\n",
       "            <tr>\n",
       "                        <th id=\"T_2fc14de0_954b_11ea_a3fe_0242ac1c0002level0_row4\" class=\"row_heading level0 row4\" >4</th>\n",
       "                        <td id=\"T_2fc14de0_954b_11ea_a3fe_0242ac1c0002row4_col0\" class=\"data row4 col0\" >6</td>\n",
       "                        <td id=\"T_2fc14de0_954b_11ea_a3fe_0242ac1c0002row4_col1\" class=\"data row4 col1\" >3</td>\n",
       "                        <td id=\"T_2fc14de0_954b_11ea_a3fe_0242ac1c0002row4_col2\" class=\"data row4 col2\" >1</td>\n",
       "                        <td id=\"T_2fc14de0_954b_11ea_a3fe_0242ac1c0002row4_col3\" class=\"data row4 col3\" >2</td>\n",
       "                        <td id=\"T_2fc14de0_954b_11ea_a3fe_0242ac1c0002row4_col4\" class=\"data row4 col4\" >422</td>\n",
       "                        <td id=\"T_2fc14de0_954b_11ea_a3fe_0242ac1c0002row4_col5\" class=\"data row4 col5\" >36</td>\n",
       "            </tr>\n",
       "            <tr>\n",
       "                        <th id=\"T_2fc14de0_954b_11ea_a3fe_0242ac1c0002level0_row5\" class=\"row_heading level0 row5\" >5</th>\n",
       "                        <td id=\"T_2fc14de0_954b_11ea_a3fe_0242ac1c0002row5_col0\" class=\"data row5 col0\" >0</td>\n",
       "                        <td id=\"T_2fc14de0_954b_11ea_a3fe_0242ac1c0002row5_col1\" class=\"data row5 col1\" >0</td>\n",
       "                        <td id=\"T_2fc14de0_954b_11ea_a3fe_0242ac1c0002row5_col2\" class=\"data row5 col2\" >21</td>\n",
       "                        <td id=\"T_2fc14de0_954b_11ea_a3fe_0242ac1c0002row5_col3\" class=\"data row5 col3\" >74</td>\n",
       "                        <td id=\"T_2fc14de0_954b_11ea_a3fe_0242ac1c0002row5_col4\" class=\"data row5 col4\" >14</td>\n",
       "                        <td id=\"T_2fc14de0_954b_11ea_a3fe_0242ac1c0002row5_col5\" class=\"data row5 col5\" >929</td>\n",
       "            </tr>\n",
       "    </tbody></table>"
      ],
      "text/plain": [
       "<pandas.io.formats.style.Styler at 0x7f30ebce7908>"
      ]
     },
     "metadata": {
      "tags": []
     },
     "output_type": "display_data"
    },
    {
     "name": "stdout",
     "output_type": "stream",
     "text": [
      "Recall for training set:  [0.97506925 0.97659574 0.86997194 0.64488636 0.91136364 0.87757101]\n",
      "Fscore for training set:  [0.98507463 0.95824635 0.96774194 0.54698795 0.85319149 0.86319846]\n",
      "Support for training set:  [0.9800464  0.96733404 0.91625616 0.59191656 0.88131868 0.8703254 ]\n",
      "Testing confusion matrix:\n"
     ]
    },
    {
     "data": {
      "text/html": [
       "<style  type=\"text/css\" >\n",
       "    #T_2fc45bb6_954b_11ea_a3fe_0242ac1c0002row0_col0 {\n",
       "            background-color:  #ff0000;\n",
       "            color:  #f1f1f1;\n",
       "        }    #T_2fc45bb6_954b_11ea_a3fe_0242ac1c0002row0_col1 {\n",
       "            background-color:  #ffe5e5;\n",
       "            color:  #000000;\n",
       "        }    #T_2fc45bb6_954b_11ea_a3fe_0242ac1c0002row0_col2 {\n",
       "            background-color:  #ffe5e5;\n",
       "            color:  #000000;\n",
       "        }    #T_2fc45bb6_954b_11ea_a3fe_0242ac1c0002row0_col3 {\n",
       "            background-color:  #ffe5e5;\n",
       "            color:  #000000;\n",
       "        }    #T_2fc45bb6_954b_11ea_a3fe_0242ac1c0002row0_col4 {\n",
       "            background-color:  #ffe5e5;\n",
       "            color:  #000000;\n",
       "        }    #T_2fc45bb6_954b_11ea_a3fe_0242ac1c0002row0_col5 {\n",
       "            background-color:  #ffe5e5;\n",
       "            color:  #000000;\n",
       "        }    #T_2fc45bb6_954b_11ea_a3fe_0242ac1c0002row1_col0 {\n",
       "            background-color:  #ffe5e5;\n",
       "            color:  #000000;\n",
       "        }    #T_2fc45bb6_954b_11ea_a3fe_0242ac1c0002row1_col1 {\n",
       "            background-color:  #ff0000;\n",
       "            color:  #f1f1f1;\n",
       "        }    #T_2fc45bb6_954b_11ea_a3fe_0242ac1c0002row1_col2 {\n",
       "            background-color:  #ffe5e5;\n",
       "            color:  #000000;\n",
       "        }    #T_2fc45bb6_954b_11ea_a3fe_0242ac1c0002row1_col3 {\n",
       "            background-color:  #ffe5e5;\n",
       "            color:  #000000;\n",
       "        }    #T_2fc45bb6_954b_11ea_a3fe_0242ac1c0002row1_col4 {\n",
       "            background-color:  #ffe0e0;\n",
       "            color:  #000000;\n",
       "        }    #T_2fc45bb6_954b_11ea_a3fe_0242ac1c0002row1_col5 {\n",
       "            background-color:  #ffe5e5;\n",
       "            color:  #000000;\n",
       "        }    #T_2fc45bb6_954b_11ea_a3fe_0242ac1c0002row2_col0 {\n",
       "            background-color:  #ffe5e5;\n",
       "            color:  #000000;\n",
       "        }    #T_2fc45bb6_954b_11ea_a3fe_0242ac1c0002row2_col1 {\n",
       "            background-color:  #ffe5e5;\n",
       "            color:  #000000;\n",
       "        }    #T_2fc45bb6_954b_11ea_a3fe_0242ac1c0002row2_col2 {\n",
       "            background-color:  #ff0000;\n",
       "            color:  #f1f1f1;\n",
       "        }    #T_2fc45bb6_954b_11ea_a3fe_0242ac1c0002row2_col3 {\n",
       "            background-color:  #ffcaca;\n",
       "            color:  #000000;\n",
       "        }    #T_2fc45bb6_954b_11ea_a3fe_0242ac1c0002row2_col4 {\n",
       "            background-color:  #ffe5e5;\n",
       "            color:  #000000;\n",
       "        }    #T_2fc45bb6_954b_11ea_a3fe_0242ac1c0002row2_col5 {\n",
       "            background-color:  #ffe5e5;\n",
       "            color:  #000000;\n",
       "        }    #T_2fc45bb6_954b_11ea_a3fe_0242ac1c0002row3_col0 {\n",
       "            background-color:  #ffe5e5;\n",
       "            color:  #000000;\n",
       "        }    #T_2fc45bb6_954b_11ea_a3fe_0242ac1c0002row3_col1 {\n",
       "            background-color:  #ffe5e5;\n",
       "            color:  #000000;\n",
       "        }    #T_2fc45bb6_954b_11ea_a3fe_0242ac1c0002row3_col2 {\n",
       "            background-color:  #ffd0d0;\n",
       "            color:  #000000;\n",
       "        }    #T_2fc45bb6_954b_11ea_a3fe_0242ac1c0002row3_col3 {\n",
       "            background-color:  #ff0000;\n",
       "            color:  #f1f1f1;\n",
       "        }    #T_2fc45bb6_954b_11ea_a3fe_0242ac1c0002row3_col4 {\n",
       "            background-color:  #ffe3e3;\n",
       "            color:  #000000;\n",
       "        }    #T_2fc45bb6_954b_11ea_a3fe_0242ac1c0002row3_col5 {\n",
       "            background-color:  #ffcece;\n",
       "            color:  #000000;\n",
       "        }    #T_2fc45bb6_954b_11ea_a3fe_0242ac1c0002row4_col0 {\n",
       "            background-color:  #ffe2e2;\n",
       "            color:  #000000;\n",
       "        }    #T_2fc45bb6_954b_11ea_a3fe_0242ac1c0002row4_col1 {\n",
       "            background-color:  #ffe5e5;\n",
       "            color:  #000000;\n",
       "        }    #T_2fc45bb6_954b_11ea_a3fe_0242ac1c0002row4_col2 {\n",
       "            background-color:  #ffe5e5;\n",
       "            color:  #000000;\n",
       "        }    #T_2fc45bb6_954b_11ea_a3fe_0242ac1c0002row4_col3 {\n",
       "            background-color:  #ffe5e5;\n",
       "            color:  #000000;\n",
       "        }    #T_2fc45bb6_954b_11ea_a3fe_0242ac1c0002row4_col4 {\n",
       "            background-color:  #ff0000;\n",
       "            color:  #f1f1f1;\n",
       "        }    #T_2fc45bb6_954b_11ea_a3fe_0242ac1c0002row4_col5 {\n",
       "            background-color:  #ffdcdc;\n",
       "            color:  #000000;\n",
       "        }    #T_2fc45bb6_954b_11ea_a3fe_0242ac1c0002row5_col0 {\n",
       "            background-color:  #ffe5e5;\n",
       "            color:  #000000;\n",
       "        }    #T_2fc45bb6_954b_11ea_a3fe_0242ac1c0002row5_col1 {\n",
       "            background-color:  #ffe5e5;\n",
       "            color:  #000000;\n",
       "        }    #T_2fc45bb6_954b_11ea_a3fe_0242ac1c0002row5_col2 {\n",
       "            background-color:  #ffdede;\n",
       "            color:  #000000;\n",
       "        }    #T_2fc45bb6_954b_11ea_a3fe_0242ac1c0002row5_col3 {\n",
       "            background-color:  #ff8585;\n",
       "            color:  #000000;\n",
       "        }    #T_2fc45bb6_954b_11ea_a3fe_0242ac1c0002row5_col4 {\n",
       "            background-color:  #ffd9d9;\n",
       "            color:  #000000;\n",
       "        }    #T_2fc45bb6_954b_11ea_a3fe_0242ac1c0002row5_col5 {\n",
       "            background-color:  #ff0000;\n",
       "            color:  #f1f1f1;\n",
       "        }</style><table id=\"T_2fc45bb6_954b_11ea_a3fe_0242ac1c0002\" ><thead>    <tr>        <th class=\"blank level0\" ></th>        <th class=\"col_heading level0 col0\" >0</th>        <th class=\"col_heading level0 col1\" >1</th>        <th class=\"col_heading level0 col2\" >2</th>        <th class=\"col_heading level0 col3\" >3</th>        <th class=\"col_heading level0 col4\" >4</th>        <th class=\"col_heading level0 col5\" >5</th>    </tr></thead><tbody>\n",
       "                <tr>\n",
       "                        <th id=\"T_2fc45bb6_954b_11ea_a3fe_0242ac1c0002level0_row0\" class=\"row_heading level0 row0\" >0</th>\n",
       "                        <td id=\"T_2fc45bb6_954b_11ea_a3fe_0242ac1c0002row0_col0\" class=\"data row0 col0\" >459</td>\n",
       "                        <td id=\"T_2fc45bb6_954b_11ea_a3fe_0242ac1c0002row0_col1\" class=\"data row0 col1\" >0</td>\n",
       "                        <td id=\"T_2fc45bb6_954b_11ea_a3fe_0242ac1c0002row0_col2\" class=\"data row0 col2\" >1</td>\n",
       "                        <td id=\"T_2fc45bb6_954b_11ea_a3fe_0242ac1c0002row0_col3\" class=\"data row0 col3\" >0</td>\n",
       "                        <td id=\"T_2fc45bb6_954b_11ea_a3fe_0242ac1c0002row0_col4\" class=\"data row0 col4\" >1</td>\n",
       "                        <td id=\"T_2fc45bb6_954b_11ea_a3fe_0242ac1c0002row0_col5\" class=\"data row0 col5\" >0</td>\n",
       "            </tr>\n",
       "            <tr>\n",
       "                        <th id=\"T_2fc45bb6_954b_11ea_a3fe_0242ac1c0002level0_row1\" class=\"row_heading level0 row1\" >1</th>\n",
       "                        <td id=\"T_2fc45bb6_954b_11ea_a3fe_0242ac1c0002row1_col0\" class=\"data row1 col0\" >0</td>\n",
       "                        <td id=\"T_2fc45bb6_954b_11ea_a3fe_0242ac1c0002row1_col1\" class=\"data row1 col1\" >218</td>\n",
       "                        <td id=\"T_2fc45bb6_954b_11ea_a3fe_0242ac1c0002row1_col2\" class=\"data row1 col2\" >0</td>\n",
       "                        <td id=\"T_2fc45bb6_954b_11ea_a3fe_0242ac1c0002row1_col3\" class=\"data row1 col3\" >1</td>\n",
       "                        <td id=\"T_2fc45bb6_954b_11ea_a3fe_0242ac1c0002row1_col4\" class=\"data row1 col4\" >5</td>\n",
       "                        <td id=\"T_2fc45bb6_954b_11ea_a3fe_0242ac1c0002row1_col5\" class=\"data row1 col5\" >0</td>\n",
       "            </tr>\n",
       "            <tr>\n",
       "                        <th id=\"T_2fc45bb6_954b_11ea_a3fe_0242ac1c0002level0_row2\" class=\"row_heading level0 row2\" >2</th>\n",
       "                        <td id=\"T_2fc45bb6_954b_11ea_a3fe_0242ac1c0002row2_col0\" class=\"data row2 col0\" >2</td>\n",
       "                        <td id=\"T_2fc45bb6_954b_11ea_a3fe_0242ac1c0002row2_col1\" class=\"data row2 col1\" >1</td>\n",
       "                        <td id=\"T_2fc45bb6_954b_11ea_a3fe_0242ac1c0002row2_col2\" class=\"data row2 col2\" >375</td>\n",
       "                        <td id=\"T_2fc45bb6_954b_11ea_a3fe_0242ac1c0002row2_col3\" class=\"data row2 col3\" >16</td>\n",
       "                        <td id=\"T_2fc45bb6_954b_11ea_a3fe_0242ac1c0002row2_col4\" class=\"data row2 col4\" >0</td>\n",
       "                        <td id=\"T_2fc45bb6_954b_11ea_a3fe_0242ac1c0002row2_col5\" class=\"data row2 col5\" >3</td>\n",
       "            </tr>\n",
       "            <tr>\n",
       "                        <th id=\"T_2fc45bb6_954b_11ea_a3fe_0242ac1c0002level0_row3\" class=\"row_heading level0 row3\" >3</th>\n",
       "                        <td id=\"T_2fc45bb6_954b_11ea_a3fe_0242ac1c0002row3_col0\" class=\"data row3 col0\" >0</td>\n",
       "                        <td id=\"T_2fc45bb6_954b_11ea_a3fe_0242ac1c0002row3_col1\" class=\"data row3 col1\" >0</td>\n",
       "                        <td id=\"T_2fc45bb6_954b_11ea_a3fe_0242ac1c0002row3_col2\" class=\"data row3 col2\" >36</td>\n",
       "                        <td id=\"T_2fc45bb6_954b_11ea_a3fe_0242ac1c0002row3_col3\" class=\"data row3 col3\" >131</td>\n",
       "                        <td id=\"T_2fc45bb6_954b_11ea_a3fe_0242ac1c0002row3_col4\" class=\"data row3 col4\" >3</td>\n",
       "                        <td id=\"T_2fc45bb6_954b_11ea_a3fe_0242ac1c0002row3_col5\" class=\"data row3 col5\" >41</td>\n",
       "            </tr>\n",
       "            <tr>\n",
       "                        <th id=\"T_2fc45bb6_954b_11ea_a3fe_0242ac1c0002level0_row4\" class=\"row_heading level0 row4\" >4</th>\n",
       "                        <td id=\"T_2fc45bb6_954b_11ea_a3fe_0242ac1c0002row4_col0\" class=\"data row4 col0\" >8</td>\n",
       "                        <td id=\"T_2fc45bb6_954b_11ea_a3fe_0242ac1c0002row4_col1\" class=\"data row4 col1\" >1</td>\n",
       "                        <td id=\"T_2fc45bb6_954b_11ea_a3fe_0242ac1c0002row4_col2\" class=\"data row4 col2\" >0</td>\n",
       "                        <td id=\"T_2fc45bb6_954b_11ea_a3fe_0242ac1c0002row4_col3\" class=\"data row4 col3\" >0</td>\n",
       "                        <td id=\"T_2fc45bb6_954b_11ea_a3fe_0242ac1c0002row4_col4\" class=\"data row4 col4\" >210</td>\n",
       "                        <td id=\"T_2fc45bb6_954b_11ea_a3fe_0242ac1c0002row4_col5\" class=\"data row4 col5\" >18</td>\n",
       "            </tr>\n",
       "            <tr>\n",
       "                        <th id=\"T_2fc45bb6_954b_11ea_a3fe_0242ac1c0002level0_row5\" class=\"row_heading level0 row5\" >5</th>\n",
       "                        <td id=\"T_2fc45bb6_954b_11ea_a3fe_0242ac1c0002row5_col0\" class=\"data row5 col0\" >0</td>\n",
       "                        <td id=\"T_2fc45bb6_954b_11ea_a3fe_0242ac1c0002row5_col1\" class=\"data row5 col1\" >1</td>\n",
       "                        <td id=\"T_2fc45bb6_954b_11ea_a3fe_0242ac1c0002row5_col2\" class=\"data row5 col2\" >12</td>\n",
       "                        <td id=\"T_2fc45bb6_954b_11ea_a3fe_0242ac1c0002row5_col3\" class=\"data row5 col3\" >55</td>\n",
       "                        <td id=\"T_2fc45bb6_954b_11ea_a3fe_0242ac1c0002row5_col4\" class=\"data row5 col4\" >12</td>\n",
       "                        <td id=\"T_2fc45bb6_954b_11ea_a3fe_0242ac1c0002row5_col5\" class=\"data row5 col5\" >390</td>\n",
       "            </tr>\n",
       "    </tbody></table>"
      ],
      "text/plain": [
       "<pandas.io.formats.style.Styler at 0x7f30ebce77b8>"
      ]
     },
     "metadata": {
      "tags": []
     },
     "output_type": "display_data"
    },
    {
     "name": "stdout",
     "output_type": "stream",
     "text": [
      "Recall for testing set:  [0.97867804 0.98642534 0.88443396 0.6453202  0.90909091 0.86283186]\n",
      "Fscore for testing set:  [0.99566161 0.97321429 0.94458438 0.62085308 0.88607595 0.82978723]\n",
      "Support for testing set:  [0.98709677 0.97977528 0.9135201  0.63285024 0.8974359  0.84598698]\n"
     ]
    }
   ],
   "source": [
    "print(\"Training confusion matrix:\")\n",
    "display(x_tr4)\n",
    "print(\"Recall for training set: \", fscore_tr4[0])\n",
    "print(\"Fscore for training set: \", fscore_tr4[1])\n",
    "print(\"Support for training set: \", fscore_tr4[2])\n",
    "print(\"Testing confusion matrix:\")\n",
    "display(x_ts4)\n",
    "print(\"Recall for testing set: \", fscore_ts4[0])\n",
    "print(\"Fscore for testing set: \", fscore_ts4[1])\n",
    "print(\"Support for testing set: \", fscore_ts4[2])"
   ]
  },
  {
   "cell_type": "code",
   "execution_count": 35,
   "metadata": {
    "colab": {
     "base_uri": "https://localhost:8080/",
     "height": 98
    },
    "colab_type": "code",
    "id": "bRuERZq8Wrg3",
    "outputId": "648fbab9-066a-4ee2-e885-e08664eb3020"
   },
   "outputs": [
    {
     "name": "stdout",
     "output_type": "stream",
     "text": [
      "Classifier TemplateClassifier(C=10, gammac=1, gammas=1, mu=0.6, numspatial=4)\n",
      "CE train 0.251184 \n",
      "CE test 0.265500 \n",
      "Training accuracy 89.49 %\n",
      "Testing accuracy 87.70 %\n"
     ]
    }
   ],
   "source": [
    "\"\"\" \n",
    "YOUR CODE\n",
    "\"\"\"\n",
    "print('Classifier', grid_clsf_temp_opt )\n",
    "print('CE train {0:-2f} '.format(metrics.mean_absolute_error(ytrain,pred_train[-1])))\n",
    "print('CE test {0:-2f} '.format(metrics.mean_absolute_error(ytest,pred_test[-1])))\n",
    "print('Training accuracy {0:.2f} %'.format(score_max_train*100))\n",
    "print('Testing accuracy {0:.2f} %'.format(score_test*100))"
   ]
  },
  {
   "cell_type": "markdown",
   "metadata": {
    "colab_type": "text",
    "id": "ZxXvEih9dV5Z"
   },
   "source": [
    "# Discussion\n",
    "\n",
    "- We have tried to solve an satellite image classification problem using three approaches:\n",
    " - information of frequency spectrum of the pixel we want to classify\n",
    " - information about the spectrum of the pixels in the patch surrounding the pixel of interest\n",
    " - combination of these two sources of information.\n",
    "\n",
    "- **Comment** on which turned out to be the better option in your opinion. Items you can use:\n",
    " - Differences between errors in training and test set\n",
    " - Confusion matrices to see differences in the classification of the different classes\n",
    "\n",
    "- **Comment** about if it was worthy to use the dual kernel approach:\n",
    " - Trade-off between accuracy and complexity\n",
    "\n",
    "\n",
    "### Extra \n",
    "\n",
    "**(you don't need to do it, just in case you feel like working and writting a little more)**\n",
    "\n",
    " - Would it be better to use an SVM with the 36 frequential components of all the pixels in the patch in the same kernel instead of the three approaches that have been used?\n",
    " - Discuss on the impact of the scaling of the features, and investigate if other scaling would have led to better results."
   ]
  },
  {
   "cell_type": "markdown",
   "metadata": {
    "colab_type": "text",
    "id": "bN_ceMafZboK"
   },
   "source": [
    "The results obtained for the three approaches are the following:\n",
    "\n",
    "**Only the spectrum**:\n",
    "- Execution time: 100.855132s\n",
    "- CE train: 0.33\n",
    "- CE test: 0.37\n",
    "- Training set accuracy 86.83 %\n",
    "- Test set accuracy 85.50 %\n",
    "\n",
    "**Contextual information**:\n",
    "\n",
    "- Execution time: 92.170108s\n",
    "- CE train: 0.29\n",
    "- CE test: 0.32\n",
    "- Training set accuracy 87.55 %\n",
    "- Test set accuracy 86.50 %\n",
    "\n",
    "**Combination of the two sources of information**:\n",
    "\n",
    "- Execution time: 3357.904783s\n",
    "- CE train 0.25\n",
    "- CE test 0.26\n",
    "- Training accuracy 89.49 %\n",
    "- Testing accuracy 87.70 %\n",
    "\n",
    "Both MAE and accuracy metrics on both sets are better for the combined model, but the execution time is very long compared to the time needed for the other two models.\n",
    "\n",
    "As far as the trade-off between accuracy and complexity is concerned, the best option may be to use the model that takes into account only the contextual information as the results are not too far from the ones obtained with the combined model and the execution time is notoriously shorter. \n",
    "\n",
    "In this model the combination of classes which have the highest missclassification are cotton crop - soil with vegetation stubble and grey soil - soil with vegetation stubble.\n",
    "\n",
    "\n",
    "\n"
   ]
  }
 ],
 "metadata": {
  "colab": {
   "collapsed_sections": [],
   "name": "Lanstat.ipynb",
   "provenance": []
  },
  "kernelspec": {
   "display_name": "spark",
   "language": "python",
   "name": "python3"
  },
  "language_info": {
   "codemirror_mode": {
    "name": "ipython",
    "version": 3
   },
   "file_extension": ".py",
   "mimetype": "text/x-python",
   "name": "python",
   "nbconvert_exporter": "python",
   "pygments_lexer": "ipython3",
   "version": "3.7.4"
  }
 },
 "nbformat": 4,
 "nbformat_minor": 1
}
