{
 "cells": [
  {
   "cell_type": "markdown",
   "metadata": {},
   "source": [
    "# Kernel Multivariate Analysis Assignment\n",
    "\n",
    "\n",
    "*Ainara Apezteguia García, NIA: 100418610*  \n",
    "\n",
    "*Frederik Chettouh, NIA: 100419069*\n",
    "\n",
    "\n",
    "In this assignment we employ different Multivariate Kernel Methods. \n",
    "All functions except minor helpers and plotters can be found in the klda, utils and kcca files.\n",
    "\n",
    "## Setup \n",
    "We first load all packages, set the seed for reproducibility and load and prep the data. We will use a dictionary to keep track of and reuse intermediate data."
   ]
  },
  {
   "cell_type": "code",
   "execution_count": 1,
   "metadata": {},
   "outputs": [],
   "source": [
    "# LOADING ALL NECCESSARY PACKAGES\n",
    "\n",
    "\n",
    "# ML PACKAGES\n",
    "from sklearn.preprocessing import StandardScaler\n",
    "from sklearn.metrics.pairwise import linear_kernel\n",
    "from sklearn.decomposition import PCA\n",
    "\n",
    "# CUSTOM PACKAGES\n",
    "from klda import centred_kernel, kgda, predict_kgda\n",
    "from utils import get_train_test, combine_kernel, sorted_spectrum,get_train_test_idx\n",
    "from kcca import normalize, _core ,PGSO, reg_cca ,KCCA\n",
    "\n",
    "\n",
    "# UTIL PACKAGES\n",
    "import numpy as np\n",
    "import matplotlib.pyplot as plt\n",
    "seed = 0"
   ]
  },
  {
   "cell_type": "code",
   "execution_count": 2,
   "metadata": {},
   "outputs": [],
   "source": [
    "import scipy.io\n",
    "mat = scipy.io.loadmat('./data/datos.mat')\n",
    "terms = mat['Terms']\n",
    "termDoc = mat['termDoc']\n",
    "y = mat['Target']\n",
    "x = mat['x']\n",
    "list_of_terms = [cc[0] for cc in terms[0]]\n",
    "\n",
    "targets = y-1\n",
    "   \n",
    "pics_captions = [(x[0][cc][0], x[0][cc][1][0]) for cc in range(1200)]\n",
    "termDoc = termDoc.T"
   ]
  },
  {
   "cell_type": "code",
   "execution_count": 3,
   "metadata": {},
   "outputs": [],
   "source": [
    " idx_train, idx_test = get_train_test_idx()"
   ]
  },
  {
   "cell_type": "code",
   "execution_count": 4,
   "metadata": {},
   "outputs": [],
   "source": [
    "# WE SAVE THE DATA IN A DICTIONARY TO BE ABLE TO ITERATE AND ADD VARIATIONS OF IT\n",
    "color = np.loadtxt('data/color_features.csv')\n",
    "feature = np.loadtxt('data/texture_features.csv')\n",
    "bow = np.loadtxt('data/bow_features.csv')\n",
    "features = {\"color\": {'X':color},\n",
    "            \"texture\": {'X':feature},\n",
    "            \"bow\": {'X':bow}\n",
    "           }\n",
    "kernel_types = ['rbf', 'poly', 'linear']"
   ]
  },
  {
   "cell_type": "markdown",
   "metadata": {},
   "source": [
    "## Extend the KLDA analysis of likeliness of each feature\n",
    "\n",
    "- Explore for each of the three features: color, texture and bag-of-words, which is the kernel that achieves a better generalization using KLDA **(3 points)**"
   ]
  },
  {
   "cell_type": "code",
   "execution_count": 5,
   "metadata": {},
   "outputs": [],
   "source": [
    "for key in features.keys():\n",
    "    \n",
    "    np.random.seed()\n",
    "    \n",
    "#   GETTING TRAIN AND TEST PARTITIONS  \n",
    "    features[key]['X_train'], features[key]['X_test'] = features[key]['X'][idx_train],features[key]['X'][idx_test]\n",
    "    features[key]['y_train'], features[key]['y_test'] = targets[0][idx_train], targets[0][idx_test]\n",
    "    \n",
    "    scaler = StandardScaler()\n",
    "\n",
    "#   SCALING THE DATA  \n",
    "    features[key]['X_train_scaled'] = scaler.fit_transform(features[key]['X_train'])\n",
    "    features[key]['X_test_scaled'] = scaler.transform(features[key]['X_test'])\n",
    "\n",
    "#   COMPUTING THE KLDA FOR EACH KERNEL TYPE\n",
    "    for kernel_type in kernel_types:\n",
    "        kernel = centred_kernel(kernel_type)\n",
    "        features[key][f'X_train_{kernel_type}'] = kernel.fit_transform(features[key]['X_train_scaled'])\n",
    "        features[key][f'X_test_{kernel_type}'] = kernel.transform(features[key]['X_test_scaled'])\n",
    "        \n",
    "        A, Q = kgda(\n",
    "            features[key][f'X_train_{kernel_type}'],\n",
    "            features[key]['y_train'])\n",
    "        \n",
    "        pred_train, U_train = predict_kgda(\n",
    "            features[key][f'X_train_{kernel_type}'],A, Q)\n",
    "        \n",
    "        pred_test, U_test = predict_kgda(\n",
    "            features[key][f'X_test_{kernel_type}'], A, Q)\n",
    "        \n",
    "#       EVALUATNING THE MODEL\n",
    "        features[key][f'{kernel_type}_train_error'] = \\\n",
    "        100*np.mean(features[key]['y_train'] != pred_train)\n",
    "        features[key][f'{kernel_type}_test_error'] = \\\n",
    "        100*np.mean(features[key]['y_test'] != pred_test)\n",
    "\n",
    "    \n",
    "    "
   ]
  },
  {
   "cell_type": "code",
   "execution_count": 6,
   "metadata": {},
   "outputs": [],
   "source": [
    "errors = {}\n",
    "for key in features.keys():\n",
    "    for name in features[key].keys():\n",
    "        if 'error' in name:\n",
    "            errors[f'{key}_{name}'] = features[key][name]"
   ]
  },
  {
   "cell_type": "code",
   "execution_count": 7,
   "metadata": {},
   "outputs": [],
   "source": [
    "reversed_errors = [(error,feature_kernel_combination) for feature_kernel_combination, error\n",
    "                in list(errors.items()) if \"test\" in  feature_kernel_combination]\n",
    "sorted_errors = sorted(reversed_errors)"
   ]
  },
  {
   "cell_type": "code",
   "execution_count": 8,
   "metadata": {},
   "outputs": [
    {
     "data": {
      "image/png": "[encoded data removed]",
      "text/plain": [
       "<Figure size 1600x480 with 1 Axes>"
      ]
     },
     "metadata": {},
     "output_type": "display_data"
    }
   ],
   "source": [
    "plt.figure(num=None, figsize=(20, 6), dpi=80, facecolor='w', edgecolor='k')\n",
    "plt.bar([tup[1] for tup in sorted_errors],\n",
    "        [tup[0] for tup in sorted_errors])\n",
    "plt.title('Test error for different feature kernel combinations')\n",
    "plt.show()\n",
    "plt.close(0)"
   ]
  },
  {
   "cell_type": "markdown",
   "metadata": {},
   "source": [
    "As we can see different Features and kernels behave differently. Bag of words RBF Kernel works best but also for the other two featues the RBF Kernel works best.\n",
    "\n",
    "- **Extra** The two image features could be combined in a composite kernel (like those visited in the SVM assignment). Consider also KLDA with a kernel that is the sum of kernels on the two image features **(2 extra points)**"
   ]
  },
  {
   "cell_type": "code",
   "execution_count": 9,
   "metadata": {},
   "outputs": [],
   "source": [
    "# ESSENTIALLY WE DO THE SAME AS BEFORE BUT FOR ALL POSSIBLE KERNEL COMBINATIONS (9)\n",
    "# WE COMBINE THE KERNELS \n",
    "# ALPHA OR THE WEIGHT OF EACH KERNEL IS SET TO A DEFAULT VALUE of 0.5\n",
    "\n",
    "features['color_texture'] ={}\n",
    "for i in range(len(kernel_types)):\n",
    "    for j in range(len(kernel_types)):\n",
    "        \n",
    "        np.random.seed(0)\n",
    "#       WE ARE REAUSING THE DATA FROM THE PREVIOUS EXPERIMENTS FROM THE FEATURES DICT  \n",
    "        features['color_texture']['y_train'] ,features['color_texture']['y_test'] = targets[0][idx_train],targets[0][idx_test]        \n",
    "        temp_X_train_1 = features['color']['X'][idx_train]\n",
    "        temp_X_test_1 = features['color']['X'][idx_test]\n",
    "        \n",
    "        temp_X_train_2 = features['texture']['X'][idx_train]\n",
    "        temp_X_test_2 = features['texture']['X'][idx_test]\n",
    "        \n",
    "        kernel1 = centred_kernel(kernel_types[i])\n",
    "        kernel_train_1 = kernel1.fit_transform(temp_X_train_1)\n",
    "        kernel_test_1 = kernel1.transform(temp_X_test_1)\n",
    "        \n",
    "        kernel2 = centred_kernel(kernel_types[j])\n",
    "        kernel_train_2 = kernel2.fit_transform(temp_X_train_2)\n",
    "        kernel_test_2= kernel2.transform(temp_X_test_2)\n",
    "        \n",
    "#       COMBINING THE TWO KERNELS          \n",
    "        features['color_texture'][f'X_train_{kernel_types[i]}_{kernel_types[j]}']=\\\n",
    "        combine_kernel(\n",
    "            kernel_train_1,\n",
    "            kernel_train_2,\n",
    "            alpha=0.5)\n",
    "        \n",
    "        features['color_texture'][f'X_test_{kernel_types[i]}_{kernel_types[j]}']=\\\n",
    "        combine_kernel(\n",
    "            kernel_test_1,\n",
    "            kernel_test_2,\n",
    "            alpha=0.5)\n",
    "        \n",
    "#       # CALCULATING THE KLDA\n",
    "        A, Q = kgda(\n",
    "            features['color_texture'][f'X_train_{kernel_types[i]}_{kernel_types[j]}'],\n",
    "            features['color_texture']['y_train'])\n",
    "        \n",
    "        \n",
    "        pred_train, U_train = predict_kgda(\n",
    "            features['color_texture'][f'X_train_{kernel_types[i]}_{kernel_types[j]}']\n",
    "            ,A, Q)\n",
    "        \n",
    "        pred_test, U_test = predict_kgda(\n",
    "            features['color_texture'][f'X_test_{kernel_types[i]}_{kernel_types[j]}'],\n",
    "            A, Q)\n",
    "        \n",
    "        features['color_texture'][f'{kernel_types[i]}_{kernel_types[j]}_train_error'] = \\\n",
    "        100*np.mean(features['color_texture']['y_train'] != pred_train)\n",
    "        features['color_texture'][f'{kernel_types[i]}_{kernel_types[j]}_test_error'] = \\\n",
    "        100*np.mean(features['color_texture']['y_test'] != pred_test)\n",
    " "
   ]
  },
  {
   "cell_type": "code",
   "execution_count": 10,
   "metadata": {},
   "outputs": [],
   "source": [
    "results = []\n",
    "for i in kernel_types:\n",
    "    for j in kernel_types:\n",
    "        results.append((features['color_texture'][f'{i}_{j}_test_error'],f'{i}_{j}'))\n",
    "results = sorted(results)        "
   ]
  },
  {
   "cell_type": "code",
   "execution_count": 11,
   "metadata": {},
   "outputs": [
    {
     "data": {
      "image/png": "[encoded data removed]",
      "text/plain": [
       "<Figure size 1600x480 with 1 Axes>"
      ]
     },
     "metadata": {},
     "output_type": "display_data"
    }
   ],
   "source": [
    "plt.figure(num=None, figsize=(20, 6), dpi=80, facecolor='w', edgecolor='k')\n",
    "plt.bar([tup[1] for tup in results],\n",
    "        [tup[0] for tup in results])\n",
    "plt.title('Test error for different feature kernel combinations')\n",
    "plt.show()\n",
    "plt.close(0)"
   ]
  },
  {
   "cell_type": "markdown",
   "metadata": {},
   "source": [
    "## Extend the KCCA content based retrieval to other kernels\n",
    "- Explore combinations of the two image features as first view for the KCCA **(3 points)**"
   ]
  },
  {
   "cell_type": "code",
   "execution_count": 12,
   "metadata": {},
   "outputs": [],
   "source": [
    "# PREPPING THE TEXT FEATURE --> COLOR FEATURE IS ALREADY COMPUTED\n",
    "\n",
    "K_train_1 = features['color']['X_train_rbf']\n",
    "K_test_1  = features['color']['X_test_rbf']\n",
    "\n",
    "\n",
    "mod_texto = np.linalg.norm(termDoc,2,axis=1)\n",
    "textos_n = termDoc / np.tile(mod_texto.reshape(-1,1), (1,termDoc.shape[1]))\n",
    "texto_train_n = textos_n[idx_train, :]\n",
    "texto_test_n = textos_n[idx_test, :]\n",
    "\n",
    "\n",
    "kernel_texto = centred_kernel(kernel='linear')\n",
    "K_texto_train = kernel_texto.fit_transform(texto_train_n)\n",
    "K_texto_test = kernel_texto.transform(texto_test_n)\n",
    "\n",
    "K_train_2 = K_texto_train\n",
    "K_test_2 = K_texto_test\n",
    "\n"
   ]
  },
  {
   "cell_type": "markdown",
   "metadata": {},
   "source": [
    "## Baseline Model"
   ]
  },
  {
   "cell_type": "code",
   "execution_count": 13,
   "metadata": {},
   "outputs": [],
   "source": [
    "kcca_results = {}\n",
    "kcca_results['baseline'] = {\n",
    "    'configuration': {\n",
    "        'n_components':60,\n",
    "        'n_components_used': 5,\n",
    "        'images_to_retrive': 10,\n",
    "        'K_train_1': features['color']['X_train_rbf'],\n",
    "        'K_test_1': features['color']['X_test_rbf']\n",
    "    }\n",
    "}\n",
    "kcca_results['y_test'] = targets[0][idx_test]\n",
    "kcca_results['targets'] = targets"
   ]
  },
  {
   "cell_type": "code",
   "execution_count": 14,
   "metadata": {},
   "outputs": [],
   "source": [
    "my_cca = KCCA(n_components = kcca_results['baseline']['configuration']['n_components'],\n",
    "                 dim_first_view = 'half',\n",
    "                 kernel1='precomputed', \n",
    "                 kernel2='precomputed',\n",
    "                 center_kernels=True,\n",
    "                tau=1e-2)"
   ]
  },
  {
   "cell_type": "code",
   "execution_count": 15,
   "metadata": {},
   "outputs": [],
   "source": [
    "# WITH JUST THE COLOR FEATURE \n",
    "kcca_results['baseline']['accuracy'] = cca.run_experiment(\n",
    "                      kcca_results['baseline']['configuration']['K_train_1'],\n",
    "                      kcca_results['baseline']['configuration']['K_test_1'],\n",
    "                      K_train_2,\n",
    "                      K_test_2,\n",
    "                      linear_kernel,\n",
    "                      kcca_results['y_test'],\n",
    "                      kcca_results['targets'],\n",
    "                      idx_test\n",
    "                     )"
   ]
  },
  {
   "cell_type": "markdown",
   "metadata": {},
   "source": [
    "## Combining Features\n",
    "\n",
    "There are several ways to combine the first view.\n",
    "\n",
    "1. just texture vs. just color different kernels\n",
    "3. kernel combinations\n",
    "4. PCA "
   ]
  },
  {
   "cell_type": "code",
   "execution_count": 35,
   "metadata": {},
   "outputs": [],
   "source": [
    "def admin_experiment(list_of_keys, configurations,  K_train_2=K_train_2,\n",
    "                     K_test_2=K_test_2,\n",
    "                     linear_kernel=linear_kernel,\n",
    "                     idx_test=idx_test):\n",
    "    for key in list_of_keys:\n",
    "        cca = KCCA(n_components = configurations[key]['configuration']['n_components'],\n",
    "                 dim_first_view = 'half',\n",
    "                 kernel1='precomputed', \n",
    "                 kernel2='precomputed',\n",
    "                 center_kernels=True,\n",
    "                tau=1e-2)\n",
    "        kcca_results[key]['accuracy'] = cca.run_experiment(\n",
    "                      configurations[key]['configuration']['K_train_1'],\n",
    "                      configurations[key]['configuration']['K_test_1'],\n",
    "                      K_train_2,\n",
    "                      K_test_2,\n",
    "                      linear_kernel,\n",
    "                      configurations['y_test'],\n",
    "                      configurations['targets'],\n",
    "                      idx_test\n",
    "                     )\n",
    "    return configurations"
   ]
  },
  {
   "cell_type": "markdown",
   "metadata": {},
   "source": [
    "### 1. just texture vs. just color different kernels\n"
   ]
  },
  {
   "cell_type": "code",
   "execution_count": 17,
   "metadata": {},
   "outputs": [],
   "source": [
    "for feature in ['color', 'texture']:\n",
    "    for kernel_type in kernel_types:\n",
    "        \n",
    "        configs = {\n",
    "        'n_components':60,\n",
    "        'n_components_used': 5,\n",
    "        'images_to_retrive': 10,\n",
    "        'K_train_1': features[feature][f'X_train_{kernel_type}'],\n",
    "        'K_test_1': features[feature][f'X_test_{kernel_type}']\n",
    "    }\n",
    "        \n",
    "        kcca_results[f'{feature}_{kernel_type}'] = {}\n",
    "        kcca_results[f'{feature}_{kernel_type}']['configuration'] =configs"
   ]
  },
  {
   "cell_type": "code",
   "execution_count": 18,
   "metadata": {},
   "outputs": [],
   "source": [
    "keys = []\n",
    "for feature in ['color', 'texture']:\n",
    "    for kernel_type in kernel_types:\n",
    "        keys.append(f'{feature}_{kernel_type}')"
   ]
  },
  {
   "cell_type": "code",
   "execution_count": 19,
   "metadata": {},
   "outputs": [],
   "source": [
    "kcca_results = admin_experiment(keys,kcca_results)"
   ]
  },
  {
   "cell_type": "markdown",
   "metadata": {},
   "source": [
    "###  Kernel combinations"
   ]
  },
  {
   "cell_type": "code",
   "execution_count": 20,
   "metadata": {},
   "outputs": [],
   "source": [
    "for i in range(len(kernel_types)):\n",
    "    for j in range(len(kernel_types)):\n",
    "            \n",
    "        configs = {\n",
    "        'n_components':60,\n",
    "        'n_components_used': 5,\n",
    "        'images_to_retrive': 10,\n",
    "        'K_train_1': features['color_texture'][f'X_train_{kernel_types[i]}_{kernel_types[j]}'],\n",
    "        'K_test_1': features['color_texture'][f'X_test_{kernel_types[i]}_{kernel_types[j]}']\n",
    "    }\n",
    "        \n",
    "        kcca_results[f'color_texture_{kernel_types[i]}_{kernel_types[j]}'] = {}\n",
    "        kcca_results[f'color_texture_{kernel_types[i]}_{kernel_types[j]}']['configuration'] = configs"
   ]
  },
  {
   "cell_type": "code",
   "execution_count": 21,
   "metadata": {},
   "outputs": [],
   "source": [
    "combination_keys = []\n",
    "for feature in ['color_texture']:\n",
    "    for i in range(len(kernel_types)):\n",
    "        for j in range(len(kernel_types)):\n",
    "            combination_keys.append(f'{feature}_{kernel_types[i]}_{kernel_types[j]}')"
   ]
  },
  {
   "cell_type": "code",
   "execution_count": 22,
   "metadata": {},
   "outputs": [],
   "source": [
    "kcca_results = admin_experiment(combination_keys,kcca_results)"
   ]
  },
  {
   "cell_type": "markdown",
   "metadata": {},
   "source": [
    "### PCA\n",
    "\n",
    "The elbow plot shoes that using 100 components should be enough so we will explore the range from 10 to 110 with a step size of 20"
   ]
  },
  {
   "cell_type": "code",
   "execution_count": 23,
   "metadata": {},
   "outputs": [
    {
     "data": {
      "image/png": "[encoded data removed]",
      "text/plain": [
       "<Figure size 432x288 with 1 Axes>"
      ]
     },
     "metadata": {
      "needs_background": "light"
     },
     "output_type": "display_data"
    }
   ],
   "source": [
    "features['color_texture']['X'] = np.concatenate((features['color']['X'],features['texture']['X']),axis=1)\n",
    "pca = PCA().fit(features['color_texture']['X'])\n",
    "pca.explained_variance_ratio_\n",
    "features['color_texture']['pca_all'] = pca.transform(features['color_texture']['X'])\n",
    "plt.plot(np.arange(len(pca.explained_variance_ratio_)),pca.explained_variance_ratio_)\n",
    "plt.title('Elbow plot PCA')\n",
    "plt.show()\n",
    "plt.close()"
   ]
  },
  {
   "cell_type": "code",
   "execution_count": 24,
   "metadata": {},
   "outputs": [],
   "source": [
    "for i in range(10,111,20):\n",
    "    pca_train = features['color_texture']['pca_all'][:,:i][idx_train, :]\n",
    "    pca_test =  features['color_texture']['pca_all'][:,:i][idx_test, :]\n",
    "\n",
    "    pca_scaler = StandardScaler()\n",
    "    pca_train_n = pca_scaler.fit_transform(pca_train)\n",
    "    pca_test_n = pca_scaler.transform(pca_test)\n",
    "    \n",
    "    kernel_pca = centred_kernel(kernel='rbf')\n",
    "\n",
    "    K_pca_train = kernel_pca.fit_transform(pca_train_n)\n",
    "    K_pca_test = kernel_pca.transform(pca_test_n)\n",
    "\n",
    "    features['color_texture'][f'X_train_pca_{i}'] = K_pca_train\n",
    "    features['color_texture'][f'X_test_pca_{i}'] = K_pca_test"
   ]
  },
  {
   "cell_type": "code",
   "execution_count": 25,
   "metadata": {},
   "outputs": [],
   "source": [
    "for i in range(10,111,20):\n",
    "    configs = {\n",
    "        'n_components':60,\n",
    "        'n_components_used': 5,\n",
    "        'images_to_retrive': 10,\n",
    "        'K_train_1': features['color_texture'][f'X_train_pca_{i}'],\n",
    "        'K_test_1': features['color_texture'][f'X_test_pca_{i}']\n",
    "    }\n",
    "        \n",
    "    kcca_results[f'color_texture_pca_{i}'] = {}\n",
    "    kcca_results[f'color_texture_pca_{i}']['configuration'] = configs"
   ]
  },
  {
   "cell_type": "code",
   "execution_count": 26,
   "metadata": {},
   "outputs": [],
   "source": [
    "pca_keys = []\n",
    "for feature in ['color_texture']:\n",
    "    for i in range(10,111,20):\n",
    "        pca_keys.append(f'{feature}_pca_{i}')"
   ]
  },
  {
   "cell_type": "code",
   "execution_count": 27,
   "metadata": {},
   "outputs": [],
   "source": [
    "kcca_results = admin_experiment(pca_keys, kcca_results)"
   ]
  },
  {
   "cell_type": "markdown",
   "metadata": {},
   "source": [
    "### Comparing results to get best configuration"
   ]
  },
  {
   "cell_type": "code",
   "execution_count": 29,
   "metadata": {},
   "outputs": [],
   "source": [
    "results = {key:kcca_results[key].get('accuracy') if type(kcca_results[key])==dict else None for key in kcca_results.keys()}\n",
    "sorted_results = sorted([(value,key) for key, value in results.items() if value], reverse=True)"
   ]
  },
  {
   "cell_type": "code",
   "execution_count": 30,
   "metadata": {},
   "outputs": [
    {
     "data": {
      "image/png": "[encoded data removed]",
      "text/plain": [
       "<Figure size 1600x480 with 1 Axes>"
      ]
     },
     "metadata": {},
     "output_type": "display_data"
    }
   ],
   "source": [
    "plt.figure(num=None, figsize=(20, 6), dpi=80, facecolor='w', edgecolor='k')\n",
    "plt.bar([tup[1] for tup in sorted_results[::3]],\n",
    "        [tup[0] for tup in sorted_results[::3]])\n",
    "plt.title('Test error for different feature kernel combinations')\n",
    "plt.show()\n",
    "plt.close(0)"
   ]
  },
  {
   "cell_type": "code",
   "execution_count": 39,
   "metadata": {},
   "outputs": [
    {
     "name": "stdout",
     "output_type": "stream",
     "text": [
      "(92.58333333333333, 'texture_rbf')\n",
      "Baseline model accuracy is 88.2\n"
     ]
    }
   ],
   "source": [
    "best_config_key = sorted_results[0][1]\n",
    "print(sorted_results[0])\n",
    "base_line_accuracy = kcca_results['baseline'].get('accuracy')\n",
    "print(f\"Baseline model accuracy is {base_line_accuracy}\")"
   ]
  },
  {
   "cell_type": "markdown",
   "metadata": {},
   "source": [
    "Different feature combinations lead to an improvement of 4% in performance"
   ]
  },
  {
   "cell_type": "markdown",
   "metadata": {},
   "source": [
    "## Performance as a function of Components and images retrieved"
   ]
  },
  {
   "cell_type": "code",
   "execution_count": 32,
   "metadata": {},
   "outputs": [],
   "source": [
    "sensitivity_results = {}\n"
   ]
  },
  {
   "cell_type": "code",
   "execution_count": 33,
   "metadata": {},
   "outputs": [],
   "source": [
    "K_train_1 = kcca_results[best_config_key]['configuration']['K_train_1']\n",
    "K_test_1  = kcca_results[best_config_key]['configuration']['K_test_1']"
   ]
  },
  {
   "cell_type": "code",
   "execution_count": 40,
   "metadata": {},
   "outputs": [],
   "source": [
    "# first showing performance as a function of compenents used\n",
    "cca = KCCA(n_components = 60,\n",
    "                 dim_first_view = 'half',\n",
    "                 kernel1='precomputed', \n",
    "                 kernel2='precomputed',\n",
    "                 center_kernels=True,\n",
    "                tau=1e-2)\n",
    "\n",
    "sensitivity_results['variable_components'] = {} \n",
    "for i in range(1,61,1):\n",
    "    sensitivity_results['variable_components'][i] = cca.run_experiment(K_train_1,\n",
    "                       K_test_1,\n",
    "                       K_train_2,\n",
    "                       K_test_2,\n",
    "                       linear_kernel,\n",
    "                       kcca_results['y_test'],\n",
    "                       kcca_results['targets'],\n",
    "                       idx_test,\n",
    "                       nc_use=i\n",
    "                     )\n",
    "    "
   ]
  },
  {
   "cell_type": "code",
   "execution_count": 41,
   "metadata": {},
   "outputs": [],
   "source": [
    "# first showing performance as a function of compenents used\n",
    "sensitivity_results['variable_images_retrieved'] = {} \n",
    "for i in range(1,200,30):\n",
    "    sensitivity_results['variable_images_retrieved'][i] = cca.run_experiment(K_train_1,\n",
    "                       K_test_1,\n",
    "                       K_train_2,\n",
    "                       K_test_2,\n",
    "                       linear_kernel,\n",
    "                       kcca_results['y_test'],\n",
    "                       kcca_results['targets'],\n",
    "                       idx_test,\n",
    "                       n_images=i\n",
    "                     )\n",
    "    "
   ]
  },
  {
   "cell_type": "code",
   "execution_count": 42,
   "metadata": {},
   "outputs": [
    {
     "data": {
      "image/png": "[encoded data removed]",
      "text/plain": [
       "<Figure size 432x288 with 1 Axes>"
      ]
     },
     "metadata": {
      "needs_background": "light"
     },
     "output_type": "display_data"
    }
   ],
   "source": [
    "plt.plot(\n",
    "    np.arange(len(sensitivity_results['variable_components'].keys())),\n",
    "    [value for value in list(sensitivity_results['variable_components'].values())]\n",
    ")\n",
    "plt.title('Accuracy as a function of the number of components used (n_images = 10)')\n",
    "plt.xlabel('Number of components')\n",
    "plt.ylabel('Accuracy')\n",
    "plt.show()\n",
    "plt.close()"
   ]
  },
  {
   "cell_type": "code",
   "execution_count": 43,
   "metadata": {},
   "outputs": [
    {
     "data": {
      "image/png": "[encoded data removed]",
      "text/plain": [
       "<Figure size 432x288 with 1 Axes>"
      ]
     },
     "metadata": {
      "needs_background": "light"
     },
     "output_type": "display_data"
    }
   ],
   "source": [
    "plt.plot(\n",
    "    np.arange(len(sensitivity_results['variable_images_retrieved'].keys())),\n",
    "    [value for value in list(sensitivity_results['variable_images_retrieved'].values())]\n",
    ")\n",
    "plt.title('Accuracy as a function of the number of images retireved (n_components = 5)')\n",
    "plt.xlabel(\"Number of images retrieved\")\n",
    "plt.ylabel('Accuracy')\n",
    "plt.show()\n",
    "plt.close()"
   ]
  },
  {
   "cell_type": "markdown",
   "metadata": {},
   "source": [
    "As expected the performance increases in the number of components. We see that the information contained in the first few components is very high and further components do not help the model. The number of images retrieved falls sharply. This also is obvious since the confidence falls and thus, if the model is forced to retrieve images, the perfomance must fall."
   ]
  },
  {
   "cell_type": "code",
   "execution_count": null,
   "metadata": {},
   "outputs": [],
   "source": []
  }
 ],
 "metadata": {
  "kernelspec": {
   "display_name": "ml_uc3m",
   "language": "python",
   "name": "ml_uc3m"
  },
  "language_info": {
   "codemirror_mode": {
    "name": "ipython",
    "version": 3
   },
   "file_extension": ".py",
   "mimetype": "text/x-python",
   "name": "python",
   "nbconvert_exporter": "python",
   "pygments_lexer": "ipython3",
   "version": "3.7.4"
  }
 },
 "nbformat": 4,
 "nbformat_minor": 2
}
